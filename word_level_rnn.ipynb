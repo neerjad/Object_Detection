{
 "cells": [
  {
   "cell_type": "code",
   "execution_count": 212,
   "metadata": {
    "ExecuteTime": {
     "end_time": "2018-06-10T22:53:59.149938Z",
     "start_time": "2018-06-10T22:53:58.994244Z"
    }
   },
   "outputs": [],
   "source": [
    "from __future__ import unicode_literals, print_function, division\n",
    "from io import open\n",
    "import glob\n",
    "import unicodedata\n",
    "import string\n",
    "import pandas as pd\n",
    "\n",
    "import torch.nn as nn\n",
    "from torch.utils.data import Dataset, DataLoader\n",
    "from torch.autograd import Variable as V"
   ]
  },
  {
   "cell_type": "code",
   "execution_count": 187,
   "metadata": {
    "ExecuteTime": {
     "end_time": "2018-06-10T22:54:00.570118Z",
     "start_time": "2018-06-10T22:54:00.440574Z"
    }
   },
   "outputs": [
    {
     "data": {
      "text/html": [
       "<div>\n",
       "<style scoped>\n",
       "    .dataframe tbody tr th:only-of-type {\n",
       "        vertical-align: middle;\n",
       "    }\n",
       "\n",
       "    .dataframe tbody tr th {\n",
       "        vertical-align: top;\n",
       "    }\n",
       "\n",
       "    .dataframe thead th {\n",
       "        text-align: right;\n",
       "    }\n",
       "</style>\n",
       "<table border=\"1\" class=\"dataframe\">\n",
       "  <thead>\n",
       "    <tr style=\"text-align: right;\">\n",
       "      <th></th>\n",
       "      <th>captions</th>\n",
       "    </tr>\n",
       "  </thead>\n",
       "  <tbody>\n",
       "    <tr>\n",
       "      <th>0</th>\n",
       "      <td>['Two ducks floating on top of a lake with bro...</td>\n",
       "    </tr>\n",
       "    <tr>\n",
       "      <th>1</th>\n",
       "      <td>['A long bill bird standing on a beach next to...</td>\n",
       "    </tr>\n",
       "    <tr>\n",
       "      <th>2</th>\n",
       "      <td>['Two birds sitting on a red towel on a shower...</td>\n",
       "    </tr>\n",
       "    <tr>\n",
       "      <th>3</th>\n",
       "      <td>['many elephants walking with a person with a ...</td>\n",
       "    </tr>\n",
       "    <tr>\n",
       "      <th>4</th>\n",
       "      <td>['A black and white bird sitting on top of a r...</td>\n",
       "    </tr>\n",
       "  </tbody>\n",
       "</table>\n",
       "</div>"
      ],
      "text/plain": [
       "                                            captions\n",
       "0  ['Two ducks floating on top of a lake with bro...\n",
       "1  ['A long bill bird standing on a beach next to...\n",
       "2  ['Two birds sitting on a red towel on a shower...\n",
       "3  ['many elephants walking with a person with a ...\n",
       "4  ['A black and white bird sitting on top of a r..."
      ]
     },
     "execution_count": 187,
     "metadata": {},
     "output_type": "execute_result"
    }
   ],
   "source": [
    "data = pd.read_csv('data/train2014.csv')\n",
    "data.drop(['img_fname'], axis=1, inplace=True)\n",
    "data.head()"
   ]
  },
  {
   "cell_type": "code",
   "execution_count": 188,
   "metadata": {
    "ExecuteTime": {
     "end_time": "2018-06-10T22:54:42.864849Z",
     "start_time": "2018-06-10T22:54:42.856561Z"
    }
   },
   "outputs": [
    {
     "data": {
      "text/plain": [
       "\"['Two ducks floating on top of a lake with brown water.', 'Two ducks are swimming on the lake next to each other.', 'Two geese swimming on the water and looking toward the camera.', 'Two ducks facing the same direction, wading in a pond.', 'Two geese resting in a body of water']\""
      ]
     },
     "execution_count": 188,
     "metadata": {},
     "output_type": "execute_result"
    }
   ],
   "source": [
    "data.captions[0]"
   ]
  },
  {
   "cell_type": "code",
   "execution_count": 189,
   "metadata": {
    "ExecuteTime": {
     "end_time": "2018-06-10T23:13:13.327755Z",
     "start_time": "2018-06-10T23:13:13.281419Z"
    }
   },
   "outputs": [
    {
     "data": {
      "text/plain": [
       "['two ducks floating on top of a lake with brown water',\n",
       " 'two ducks are swimming on the lake next to each other',\n",
       " 'two geese swimming on the water and looking toward the camera',\n",
       " 'two ducks facing the same direction wading in a pond',\n",
       " 'two geese resting in a body of water']"
      ]
     },
     "execution_count": 189,
     "metadata": {},
     "output_type": "execute_result"
    }
   ],
   "source": [
    "tmp_tmp = []\n",
    "\n",
    "for caption in data.captions:\n",
    "    tmp = caption\n",
    "    for sent in tmp.lower().replace(',','').replace('.','').replace('\"','').split(\"'\"):\n",
    "        tmp_tmp.append(sent)\n",
    "all_captions = [tmp for tmp in tmp_tmp if len(tmp)>6]\n",
    "all_captions[0:5]"
   ]
  },
  {
   "cell_type": "code",
   "execution_count": 190,
   "metadata": {
    "ExecuteTime": {
     "end_time": "2018-06-10T23:26:54.486946Z",
     "start_time": "2018-06-10T23:26:54.381394Z"
    }
   },
   "outputs": [
    {
     "data": {
      "text/plain": [
       "['', '#', '#2', '&', '(just', '(thailand)', '(two', '(unseen)', '-', '1']"
      ]
     },
     "execution_count": 190,
     "metadata": {},
     "output_type": "execute_result"
    }
   ],
   "source": [
    "bow = sorted(list(set(' '.join(all_captions).split(' '))))\n",
    "bow[0:10]"
   ]
  },
  {
   "cell_type": "code",
   "execution_count": 191,
   "metadata": {},
   "outputs": [
    {
     "data": {
      "text/plain": [
       "0"
      ]
     },
     "execution_count": 191,
     "metadata": {},
     "output_type": "execute_result"
    }
   ],
   "source": [
    "vocab2id = {key:i for i, key in enumerate(bow)}\n",
    "vocab2id[\"\"]"
   ]
  },
  {
   "cell_type": "code",
   "execution_count": 192,
   "metadata": {},
   "outputs": [],
   "source": [
    "vocab2id['<start>'] = 10239\n",
    "vocab2id['<end>'] = 10240\n",
    "vocab2id['<pad>'] = 10241"
   ]
  },
  {
   "cell_type": "code",
   "execution_count": 193,
   "metadata": {},
   "outputs": [
    {
     "data": {
      "text/plain": [
       "['<start>',\n",
       " 'two',\n",
       " 'ducks',\n",
       " 'floating',\n",
       " 'on',\n",
       " 'top',\n",
       " 'of',\n",
       " 'a',\n",
       " 'lake',\n",
       " 'with',\n",
       " 'brown',\n",
       " 'water']"
      ]
     },
     "execution_count": 193,
     "metadata": {},
     "output_type": "execute_result"
    }
   ],
   "source": [
    "new_all_caps = []\n",
    "for caption in all_captions:\n",
    "    new_captions = '<start> ' + caption\n",
    "    new_all_caps.append(new_captions)\n",
    "all_captions = []\n",
    "for caption in new_all_caps:\n",
    "    all_captions.append(str(caption).split())\n",
    "all_captions[0]"
   ]
  },
  {
   "cell_type": "code",
   "execution_count": 195,
   "metadata": {},
   "outputs": [],
   "source": [
    "max_len = max([len(cap) for cap in all_captions])"
   ]
  },
  {
   "cell_type": "code",
   "execution_count": 197,
   "metadata": {},
   "outputs": [
    {
     "data": {
      "text/plain": [
       "['<start>',\n",
       " 'two',\n",
       " 'ducks',\n",
       " 'floating',\n",
       " 'on',\n",
       " 'top',\n",
       " 'of',\n",
       " 'a',\n",
       " 'lake',\n",
       " 'with',\n",
       " 'brown',\n",
       " 'water']"
      ]
     },
     "execution_count": 197,
     "metadata": {},
     "output_type": "execute_result"
    }
   ],
   "source": [
    "all_captions[0]"
   ]
  },
  {
   "cell_type": "code",
   "execution_count": 199,
   "metadata": {},
   "outputs": [
    {
     "data": {
      "text/plain": [
       "(51, 51)"
      ]
     },
     "execution_count": 199,
     "metadata": {},
     "output_type": "execute_result"
    }
   ],
   "source": [
    "caption = all_captions[0].copy()\n"
   ]
  },
  {
   "cell_type": "code",
   "execution_count": 214,
   "metadata": {},
   "outputs": [],
   "source": [
    "y_length = [len(cap) for cap in all_captions]"
   ]
  },
  {
   "cell_type": "code",
   "execution_count": 201,
   "metadata": {},
   "outputs": [
    {
     "data": {
      "text/plain": [
       "(51, 51)"
      ]
     },
     "execution_count": 201,
     "metadata": {},
     "output_type": "execute_result"
    }
   ],
   "source": [
    "train_cap = []\n",
    "y_cap = []\n",
    "for i in range(len(all_captions)):\n",
    "    caption = all_captions[i].copy()\n",
    "    diff = max_len - len(caption)\n",
    "    tmp = caption.copy()\n",
    "    pad = ['<pad>' for i in range(diff)]\n",
    "    tmp.append('<end>')\n",
    "    tmp.extend(pad)\n",
    "    caption.extend(pad)\n",
    "    caption.append('<pad>')\n",
    "    train_cap.append(caption)\n",
    "    y_cap.append(tmp)\n",
    "len(train_cap[0]), len(y_cap[0])"
   ]
  },
  {
   "cell_type": "code",
   "execution_count": 217,
   "metadata": {},
   "outputs": [],
   "source": [
    "X_lookup = []\n",
    "for x in train_cap:\n",
    "    X_lookup.append([vocab2id[word] for word in x])\n",
    "y_lookup = []\n",
    "for x in y_cap:\n",
    "    y_lookup.append([vocab2id[word] for word in x])"
   ]
  },
  {
   "cell_type": "code",
   "execution_count": 218,
   "metadata": {},
   "outputs": [
    {
     "data": {
      "text/plain": [
       "([10239,\n",
       "  9470,\n",
       "  2774,\n",
       "  3374,\n",
       "  6007,\n",
       "  9207,\n",
       "  5967,\n",
       "  85,\n",
       "  4886,\n",
       "  10057,\n",
       "  1197,\n",
       "  9852,\n",
       "  10241,\n",
       "  10241,\n",
       "  10241,\n",
       "  10241,\n",
       "  10241,\n",
       "  10241,\n",
       "  10241,\n",
       "  10241,\n",
       "  10241,\n",
       "  10241,\n",
       "  10241,\n",
       "  10241,\n",
       "  10241,\n",
       "  10241,\n",
       "  10241,\n",
       "  10241,\n",
       "  10241,\n",
       "  10241,\n",
       "  10241,\n",
       "  10241,\n",
       "  10241,\n",
       "  10241,\n",
       "  10241,\n",
       "  10241,\n",
       "  10241,\n",
       "  10241,\n",
       "  10241,\n",
       "  10241,\n",
       "  10241,\n",
       "  10241,\n",
       "  10241,\n",
       "  10241,\n",
       "  10241,\n",
       "  10241,\n",
       "  10241,\n",
       "  10241,\n",
       "  10241,\n",
       "  10241,\n",
       "  10241],\n",
       " [10239,\n",
       "  9470,\n",
       "  2774,\n",
       "  3374,\n",
       "  6007,\n",
       "  9207,\n",
       "  5967,\n",
       "  85,\n",
       "  4886,\n",
       "  10057,\n",
       "  1197,\n",
       "  9852,\n",
       "  10240,\n",
       "  10241,\n",
       "  10241,\n",
       "  10241,\n",
       "  10241,\n",
       "  10241,\n",
       "  10241,\n",
       "  10241,\n",
       "  10241,\n",
       "  10241,\n",
       "  10241,\n",
       "  10241,\n",
       "  10241,\n",
       "  10241,\n",
       "  10241,\n",
       "  10241,\n",
       "  10241,\n",
       "  10241,\n",
       "  10241,\n",
       "  10241,\n",
       "  10241,\n",
       "  10241,\n",
       "  10241,\n",
       "  10241,\n",
       "  10241,\n",
       "  10241,\n",
       "  10241,\n",
       "  10241,\n",
       "  10241,\n",
       "  10241,\n",
       "  10241,\n",
       "  10241,\n",
       "  10241,\n",
       "  10241,\n",
       "  10241,\n",
       "  10241,\n",
       "  10241,\n",
       "  10241,\n",
       "  10241])"
      ]
     },
     "execution_count": 218,
     "metadata": {},
     "output_type": "execute_result"
    }
   ],
   "source": [
    "X_lookup[0], y_lookup[0]"
   ]
  },
  {
   "cell_type": "code",
   "execution_count": 211,
   "metadata": {},
   "outputs": [],
   "source": [
    "vocab_len = len(vocab2id.keys())\n",
    "vocab_emb = nn.Embedding(vocab_len, 50)"
   ]
  },
  {
   "cell_type": "code",
   "execution_count": 215,
   "metadata": {},
   "outputs": [],
   "source": [
    "class CustomDataset(Dataset):\n",
    "    def __init__(self, x, y, y_length):\n",
    "        self.x = x\n",
    "        self.y = y\n",
    "        self.y_length = y_length\n",
    "    \n",
    "    def __len__(self):\n",
    "        self.len = len(x)\n",
    "        return self.len\n",
    "    \n",
    "    def __getitem__(self, idx):\n",
    "        return self.x[idx], self.y[idx], self.y_length[idx]\n",
    "        "
   ]
  },
  {
   "cell_type": "code",
   "execution_count": 216,
   "metadata": {},
   "outputs": [],
   "source": [
    "class RNN(nn.Module):\n",
    "    def __init__(self, input_size, hidden_size, output_size, vocab_size, emb_size):\n",
    "        super(RNN, self).__init__()\n",
    "        self.emb = nn.Embedding(vocab_size, emb_size)\n",
    "        self.hidden_size = hidden_size\n",
    "        self.linear_i2h = nn.Linear(input_size + hidden_size, hidden_size)\n",
    "        self.linear_h2o = nn.Linear(hidden_size, output_size)\n",
    "        \n",
    "    def forward(self, x):\n",
    "        x = x.long()\n",
    "        x = self.emb(x)\n",
    "        combined = torch.cat((x, hidden), 1)\n",
    "        hidden = F.tanh(self.linear_i2h(combined))\n",
    "        output = self.linear_h2o(hidden)\n",
    "        return output, hidden\n",
    "\n",
    "    def initHidden(self, bs):\n",
    "        return torch.zeros(bs, self.hidden_size)\n",
    "        "
   ]
  },
  {
   "cell_type": "code",
   "execution_count": null,
   "metadata": {},
   "outputs": [],
   "source": [
    "def train_loop(model, epochs, lr=0.01, wd=0.0):\n",
    "    optim = get_optimizer(model, lr = lr, wd = wd)\n",
    "    for i in range(epochs):\n",
    "        loss = train(model, optim, train_2_dl)\n",
    "        if i%5 == 1: print(\"train loss %.3f\" % loss)\n",
    "    predict(model, test_2_dl)"
   ]
  }
 ],
 "metadata": {
  "kernelspec": {
   "display_name": "Python 3",
   "language": "python",
   "name": "python3"
  },
  "language_info": {
   "codemirror_mode": {
    "name": "ipython",
    "version": 3
   },
   "file_extension": ".py",
   "mimetype": "text/x-python",
   "name": "python",
   "nbconvert_exporter": "python",
   "pygments_lexer": "ipython3",
   "version": "3.6.3"
  },
  "varInspector": {
   "cols": {
    "lenName": 16,
    "lenType": 16,
    "lenVar": 40
   },
   "kernels_config": {
    "python": {
     "delete_cmd_postfix": "",
     "delete_cmd_prefix": "del ",
     "library": "var_list.py",
     "varRefreshCmd": "print(var_dic_list())"
    },
    "r": {
     "delete_cmd_postfix": ") ",
     "delete_cmd_prefix": "rm(",
     "library": "var_list.r",
     "varRefreshCmd": "cat(var_dic_list()) "
    }
   },
   "types_to_exclude": [
    "module",
    "function",
    "builtin_function_or_method",
    "instance",
    "_Feature"
   ],
   "window_display": false
  }
 },
 "nbformat": 4,
 "nbformat_minor": 2
}
