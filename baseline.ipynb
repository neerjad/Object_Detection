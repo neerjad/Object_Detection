{
 "cells": [
  {
   "cell_type": "code",
   "execution_count": 1,
   "metadata": {},
   "outputs": [],
   "source": [
    "from pathlib import Path\n",
    "import pandas as pd\n",
    "import cv2\n",
    "import os\n",
    "import numpy as np\n",
    "import matplotlib.pyplot as plt\n",
    "%matplotlib inline"
   ]
  },
  {
   "cell_type": "code",
   "execution_count": 2,
   "metadata": {},
   "outputs": [
    {
     "data": {
      "text/plain": [
       "'1.14.5'"
      ]
     },
     "execution_count": 2,
     "metadata": {},
     "output_type": "execute_result"
    }
   ],
   "source": [
    "np.__version__"
   ]
  },
  {
   "cell_type": "code",
   "execution_count": 3,
   "metadata": {},
   "outputs": [],
   "source": [
    "PATH = '../data/coco/'\n",
    "TRN_PATH = '../data/coco/train2014/'\n",
    "VAL_PATH = '../data/coco/val2014/'"
   ]
  },
  {
   "cell_type": "code",
   "execution_count": 4,
   "metadata": {},
   "outputs": [],
   "source": [
    "VAL_CSV = 'val2014.csv'\n",
    "TRN_CSV = 'train2014.csv'"
   ]
  },
  {
   "cell_type": "code",
   "execution_count": 5,
   "metadata": {},
   "outputs": [],
   "source": [
    "paths = list(Path(PATH).iterdir())"
   ]
  },
  {
   "cell_type": "code",
   "execution_count": 6,
   "metadata": {},
   "outputs": [],
   "source": [
    "train = pd.read_csv(PATH+TRN_CSV)\n",
    "val = pd.read_csv(PATH+VAL_CSV)"
   ]
  },
  {
   "cell_type": "code",
   "execution_count": 7,
   "metadata": {},
   "outputs": [
    {
     "data": {
      "text/plain": [
       "Index(['img_fname', 'caption1', 'caption2', 'caption3', 'caption4',\n",
       "       'caption5'],\n",
       "      dtype='object')"
      ]
     },
     "execution_count": 7,
     "metadata": {},
     "output_type": "execute_result"
    }
   ],
   "source": [
    "train.columns"
   ]
  },
  {
   "cell_type": "code",
   "execution_count": 8,
   "metadata": {},
   "outputs": [],
   "source": [
    "def open_image(fn):\n",
    "    \"\"\" Opens an image using OpenCV given the file path.\n",
    "\n",
    "    Arguments:\n",
    "        fn: the file path of the image\n",
    "\n",
    "    Returns:\n",
    "        The image in RGB format as numpy array of floats normalized to range between 0.0 - 1.0\n",
    "    \"\"\"\n",
    "    flags = cv2.IMREAD_UNCHANGED+cv2.IMREAD_ANYDEPTH+cv2.IMREAD_ANYCOLOR\n",
    "    if not os.path.exists(fn):\n",
    "        raise OSError('No such file or directory: {}'.format(fn))\n",
    "    elif os.path.isdir(fn):\n",
    "        raise OSError('Is a directory: {}'.format(fn))\n",
    "    else:\n",
    "        #res = np.array(Image.open(fn), dtype=np.float32)/255\n",
    "        #if len(res.shape)==2: res = np.repeat(res[...,None],3,2)\n",
    "        #return res\n",
    "        try:\n",
    "            im = cv2.imread(str(fn), flags).astype(np.float32)/255\n",
    "            if im is None: raise OSError(f'File not recognized by opencv: {fn}')\n",
    "            return cv2.cvtColor(im, cv2.COLOR_BGR2RGB)\n",
    "        except Exception as e:\n",
    "            raise OSError('Error handling image at: {}'.format(fn)) from e"
   ]
  },
  {
   "cell_type": "code",
   "execution_count": 9,
   "metadata": {},
   "outputs": [
    {
     "data": {
      "text/html": [
       "<div>\n",
       "<style scoped>\n",
       "    .dataframe tbody tr th:only-of-type {\n",
       "        vertical-align: middle;\n",
       "    }\n",
       "\n",
       "    .dataframe tbody tr th {\n",
       "        vertical-align: top;\n",
       "    }\n",
       "\n",
       "    .dataframe thead th {\n",
       "        text-align: right;\n",
       "    }\n",
       "</style>\n",
       "<table border=\"1\" class=\"dataframe\">\n",
       "  <thead>\n",
       "    <tr style=\"text-align: right;\">\n",
       "      <th></th>\n",
       "      <th>img_fname</th>\n",
       "      <th>caption1</th>\n",
       "      <th>caption2</th>\n",
       "      <th>caption3</th>\n",
       "      <th>caption4</th>\n",
       "      <th>caption5</th>\n",
       "    </tr>\n",
       "  </thead>\n",
       "  <tbody>\n",
       "    <tr>\n",
       "      <th>0</th>\n",
       "      <td>COCO_train2014_000000425988.jpg</td>\n",
       "      <td>Two ducks floating on top of a lake with brown...</td>\n",
       "      <td>Two ducks are swimming on the lake next to eac...</td>\n",
       "      <td>Two geese swimming on the water and looking to...</td>\n",
       "      <td>Two ducks facing the same direction, wading in...</td>\n",
       "      <td>Two geese resting in a body of water</td>\n",
       "    </tr>\n",
       "    <tr>\n",
       "      <th>1</th>\n",
       "      <td>COCO_train2014_000000040971.jpg</td>\n",
       "      <td>A long bill bird standing on a beach next to t...</td>\n",
       "      <td>A small bird with a long, skinny beak walks on...</td>\n",
       "      <td>Long beaked brown bird walking on a beach.</td>\n",
       "      <td>a close up of a bird on a beach near a body of...</td>\n",
       "      <td>A bird with a pink beak is on the beach.</td>\n",
       "    </tr>\n",
       "  </tbody>\n",
       "</table>\n",
       "</div>"
      ],
      "text/plain": [
       "                         img_fname  \\\n",
       "0  COCO_train2014_000000425988.jpg   \n",
       "1  COCO_train2014_000000040971.jpg   \n",
       "\n",
       "                                            caption1  \\\n",
       "0  Two ducks floating on top of a lake with brown...   \n",
       "1  A long bill bird standing on a beach next to t...   \n",
       "\n",
       "                                            caption2  \\\n",
       "0  Two ducks are swimming on the lake next to eac...   \n",
       "1  A small bird with a long, skinny beak walks on...   \n",
       "\n",
       "                                            caption3  \\\n",
       "0  Two geese swimming on the water and looking to...   \n",
       "1         Long beaked brown bird walking on a beach.   \n",
       "\n",
       "                                            caption4  \\\n",
       "0  Two ducks facing the same direction, wading in...   \n",
       "1  a close up of a bird on a beach near a body of...   \n",
       "\n",
       "                                   caption5  \n",
       "0      Two geese resting in a body of water  \n",
       "1  A bird with a pink beak is on the beach.  "
      ]
     },
     "execution_count": 9,
     "metadata": {},
     "output_type": "execute_result"
    }
   ],
   "source": [
    "train.head(2)"
   ]
  },
  {
   "cell_type": "code",
   "execution_count": 10,
   "metadata": {},
   "outputs": [
    {
     "data": {
      "text/html": [
       "<div>\n",
       "<style scoped>\n",
       "    .dataframe tbody tr th:only-of-type {\n",
       "        vertical-align: middle;\n",
       "    }\n",
       "\n",
       "    .dataframe tbody tr th {\n",
       "        vertical-align: top;\n",
       "    }\n",
       "\n",
       "    .dataframe thead th {\n",
       "        text-align: right;\n",
       "    }\n",
       "</style>\n",
       "<table border=\"1\" class=\"dataframe\">\n",
       "  <thead>\n",
       "    <tr style=\"text-align: right;\">\n",
       "      <th></th>\n",
       "      <th>img_fname</th>\n",
       "      <th>caption1</th>\n",
       "      <th>caption2</th>\n",
       "      <th>caption3</th>\n",
       "      <th>caption4</th>\n",
       "      <th>caption5</th>\n",
       "    </tr>\n",
       "  </thead>\n",
       "  <tbody>\n",
       "    <tr>\n",
       "      <th>0</th>\n",
       "      <td>COCO_val2014_000000235522.jpg</td>\n",
       "      <td>Three giraffe eating greens in a field next to...</td>\n",
       "      <td>A herd of giraffes eating shrubs on a plain wi...</td>\n",
       "      <td>four giraffes standing or eating in their natu...</td>\n",
       "      <td>A painting of giraffes eating in the tall grass.</td>\n",
       "      <td>Giraffes graze on low shrubs under a cloudy sky.</td>\n",
       "    </tr>\n",
       "    <tr>\n",
       "      <th>1</th>\n",
       "      <td>COCO_val2014_000000055299.jpg</td>\n",
       "      <td>A bird is perched on a large rock near the shore.</td>\n",
       "      <td>a large bird perched on a rock on a beach next...</td>\n",
       "      <td>The animal is sitting on the rocks looking at ...</td>\n",
       "      <td>A bird that is sitting on a rock near the water.</td>\n",
       "      <td>The large bird stands on rocks near the beach.</td>\n",
       "    </tr>\n",
       "  </tbody>\n",
       "</table>\n",
       "</div>"
      ],
      "text/plain": [
       "                       img_fname  \\\n",
       "0  COCO_val2014_000000235522.jpg   \n",
       "1  COCO_val2014_000000055299.jpg   \n",
       "\n",
       "                                            caption1  \\\n",
       "0  Three giraffe eating greens in a field next to...   \n",
       "1  A bird is perched on a large rock near the shore.   \n",
       "\n",
       "                                            caption2  \\\n",
       "0  A herd of giraffes eating shrubs on a plain wi...   \n",
       "1  a large bird perched on a rock on a beach next...   \n",
       "\n",
       "                                            caption3  \\\n",
       "0  four giraffes standing or eating in their natu...   \n",
       "1  The animal is sitting on the rocks looking at ...   \n",
       "\n",
       "                                           caption4  \\\n",
       "0  A painting of giraffes eating in the tall grass.   \n",
       "1  A bird that is sitting on a rock near the water.   \n",
       "\n",
       "                                           caption5  \n",
       "0  Giraffes graze on low shrubs under a cloudy sky.  \n",
       "1    The large bird stands on rocks near the beach.  "
      ]
     },
     "execution_count": 10,
     "metadata": {},
     "output_type": "execute_result"
    }
   ],
   "source": [
    "val.head(2)"
   ]
  },
  {
   "cell_type": "markdown",
   "metadata": {},
   "source": [
    "### DATASET"
   ]
  },
  {
   "cell_type": "code",
   "execution_count": 11,
   "metadata": {},
   "outputs": [],
   "source": [
    "from torch.utils.data import Dataset\n",
    "from torch.utils.data import DataLoader\n",
    "\n",
    "class SimpleDataset(Dataset):\n",
    "    def __init__(self, path, df):\n",
    "        self.path = path\n",
    "        self.df = df\n",
    "        self.fnames = self.df.iloc[:, 0].values\n",
    "        self.ys = self.df.iloc[:, 1:].values\n",
    "        \n",
    "    def __getitem__(self, index):\n",
    "        x = open_image(self.path + self.fnames[index])\n",
    "        return x, self.ys[index]\n",
    "    def __len__(self):\n",
    "        return len(self.fnames)"
   ]
  },
  {
   "cell_type": "code",
   "execution_count": 12,
   "metadata": {},
   "outputs": [],
   "source": [
    "trn_ds = SimpleDataset(TRN_PATH, train)\n",
    "val_ds = SimpleDataset(VAL_PATH, val)"
   ]
  },
  {
   "cell_type": "code",
   "execution_count": 13,
   "metadata": {},
   "outputs": [
    {
     "name": "stdout",
     "output_type": "stream",
     "text": [
      "['Two ducks floating on top of a lake with brown water.'\n",
      " 'Two ducks are swimming on the lake next to each other.'\n",
      " 'Two geese swimming on the water and looking toward the camera.'\n",
      " 'Two ducks facing the same direction, wading in a pond.'\n",
      " 'Two geese resting in a body of water']\n"
     ]
    },
    {
     "data": {
      "text/plain": [
       "<matplotlib.image.AxesImage at 0x7fb75c0165c0>"
      ]
     },
     "execution_count": 13,
     "metadata": {},
     "output_type": "execute_result"
    },
    {
     "data": {
      "image/png": "[encoded data removed]",
      "text/plain": [
       "<Figure size 432x288 with 1 Axes>"
      ]
     },
     "metadata": {},
     "output_type": "display_data"
    }
   ],
   "source": [
    "x,y = trn_ds.__getitem__(0)\n",
    "print(y)\n",
    "plt.imshow(x)"
   ]
  },
  {
   "cell_type": "code",
   "execution_count": 14,
   "metadata": {},
   "outputs": [
    {
     "name": "stdout",
     "output_type": "stream",
     "text": [
      "['Three giraffe eating greens in a field next to lots of trees.'\n",
      " 'A herd of giraffes eating shrubs on a plain with trees in the background.'\n",
      " 'four giraffes standing or eating in their natural habitat'\n",
      " 'A painting of giraffes eating in the tall grass.'\n",
      " 'Giraffes graze on low shrubs under a cloudy sky.']\n"
     ]
    },
    {
     "data": {
      "text/plain": [
       "<matplotlib.image.AxesImage at 0x7fb75bfa7c18>"
      ]
     },
     "execution_count": 14,
     "metadata": {},
     "output_type": "execute_result"
    },
    {
     "data": {
      "image/png": "[encoded data removed]",
      "text/plain": [
       "<Figure size 432x288 with 1 Axes>"
      ]
     },
     "metadata": {},
     "output_type": "display_data"
    }
   ],
   "source": [
    "x,y = val_ds.__getitem__(0)\n",
    "print(y)\n",
    "plt.imshow(x)"
   ]
  },
  {
   "cell_type": "markdown",
   "metadata": {},
   "source": [
    "### Image Encoder"
   ]
  },
  {
   "cell_type": "markdown",
   "metadata": {},
   "source": [
    "We could use this model as part of a broader image caption model. The problem is, it is a large model and running each photo through the network every time we want to test a new language model configuration (downstream) is redundant.\n",
    "\n",
    "Instead, we can pre-compute the “photo features” using the pre-trained model and save them to file. We can then load these features later and feed them into our model as the interpretation of a given photo in the dataset. It is no different to running the photo through the full VGG model; it is just we will have done it once in advance."
   ]
  },
  {
   "cell_type": "code",
   "execution_count": 15,
   "metadata": {},
   "outputs": [],
   "source": [
    "from torchvision import models"
   ]
  },
  {
   "cell_type": "code",
   "execution_count": 16,
   "metadata": {},
   "outputs": [],
   "source": [
    "resnet = models.resnet18(pretrained=True)"
   ]
  },
  {
   "cell_type": "code",
   "execution_count": 17,
   "metadata": {},
   "outputs": [
    {
     "data": {
      "text/plain": [
       "ResNet(\n",
       "  (conv1): Conv2d(3, 64, kernel_size=(7, 7), stride=(2, 2), padding=(3, 3), bias=False)\n",
       "  (bn1): BatchNorm2d(64, eps=1e-05, momentum=0.1, affine=True, track_running_stats=True)\n",
       "  (relu): ReLU(inplace)\n",
       "  (maxpool): MaxPool2d(kernel_size=3, stride=2, padding=1, dilation=1, ceil_mode=False)\n",
       "  (layer1): Sequential(\n",
       "    (0): BasicBlock(\n",
       "      (conv1): Conv2d(64, 64, kernel_size=(3, 3), stride=(1, 1), padding=(1, 1), bias=False)\n",
       "      (bn1): BatchNorm2d(64, eps=1e-05, momentum=0.1, affine=True, track_running_stats=True)\n",
       "      (relu): ReLU(inplace)\n",
       "      (conv2): Conv2d(64, 64, kernel_size=(3, 3), stride=(1, 1), padding=(1, 1), bias=False)\n",
       "      (bn2): BatchNorm2d(64, eps=1e-05, momentum=0.1, affine=True, track_running_stats=True)\n",
       "    )\n",
       "    (1): BasicBlock(\n",
       "      (conv1): Conv2d(64, 64, kernel_size=(3, 3), stride=(1, 1), padding=(1, 1), bias=False)\n",
       "      (bn1): BatchNorm2d(64, eps=1e-05, momentum=0.1, affine=True, track_running_stats=True)\n",
       "      (relu): ReLU(inplace)\n",
       "      (conv2): Conv2d(64, 64, kernel_size=(3, 3), stride=(1, 1), padding=(1, 1), bias=False)\n",
       "      (bn2): BatchNorm2d(64, eps=1e-05, momentum=0.1, affine=True, track_running_stats=True)\n",
       "    )\n",
       "  )\n",
       "  (layer2): Sequential(\n",
       "    (0): BasicBlock(\n",
       "      (conv1): Conv2d(64, 128, kernel_size=(3, 3), stride=(2, 2), padding=(1, 1), bias=False)\n",
       "      (bn1): BatchNorm2d(128, eps=1e-05, momentum=0.1, affine=True, track_running_stats=True)\n",
       "      (relu): ReLU(inplace)\n",
       "      (conv2): Conv2d(128, 128, kernel_size=(3, 3), stride=(1, 1), padding=(1, 1), bias=False)\n",
       "      (bn2): BatchNorm2d(128, eps=1e-05, momentum=0.1, affine=True, track_running_stats=True)\n",
       "      (downsample): Sequential(\n",
       "        (0): Conv2d(64, 128, kernel_size=(1, 1), stride=(2, 2), bias=False)\n",
       "        (1): BatchNorm2d(128, eps=1e-05, momentum=0.1, affine=True, track_running_stats=True)\n",
       "      )\n",
       "    )\n",
       "    (1): BasicBlock(\n",
       "      (conv1): Conv2d(128, 128, kernel_size=(3, 3), stride=(1, 1), padding=(1, 1), bias=False)\n",
       "      (bn1): BatchNorm2d(128, eps=1e-05, momentum=0.1, affine=True, track_running_stats=True)\n",
       "      (relu): ReLU(inplace)\n",
       "      (conv2): Conv2d(128, 128, kernel_size=(3, 3), stride=(1, 1), padding=(1, 1), bias=False)\n",
       "      (bn2): BatchNorm2d(128, eps=1e-05, momentum=0.1, affine=True, track_running_stats=True)\n",
       "    )\n",
       "  )\n",
       "  (layer3): Sequential(\n",
       "    (0): BasicBlock(\n",
       "      (conv1): Conv2d(128, 256, kernel_size=(3, 3), stride=(2, 2), padding=(1, 1), bias=False)\n",
       "      (bn1): BatchNorm2d(256, eps=1e-05, momentum=0.1, affine=True, track_running_stats=True)\n",
       "      (relu): ReLU(inplace)\n",
       "      (conv2): Conv2d(256, 256, kernel_size=(3, 3), stride=(1, 1), padding=(1, 1), bias=False)\n",
       "      (bn2): BatchNorm2d(256, eps=1e-05, momentum=0.1, affine=True, track_running_stats=True)\n",
       "      (downsample): Sequential(\n",
       "        (0): Conv2d(128, 256, kernel_size=(1, 1), stride=(2, 2), bias=False)\n",
       "        (1): BatchNorm2d(256, eps=1e-05, momentum=0.1, affine=True, track_running_stats=True)\n",
       "      )\n",
       "    )\n",
       "    (1): BasicBlock(\n",
       "      (conv1): Conv2d(256, 256, kernel_size=(3, 3), stride=(1, 1), padding=(1, 1), bias=False)\n",
       "      (bn1): BatchNorm2d(256, eps=1e-05, momentum=0.1, affine=True, track_running_stats=True)\n",
       "      (relu): ReLU(inplace)\n",
       "      (conv2): Conv2d(256, 256, kernel_size=(3, 3), stride=(1, 1), padding=(1, 1), bias=False)\n",
       "      (bn2): BatchNorm2d(256, eps=1e-05, momentum=0.1, affine=True, track_running_stats=True)\n",
       "    )\n",
       "  )\n",
       "  (layer4): Sequential(\n",
       "    (0): BasicBlock(\n",
       "      (conv1): Conv2d(256, 512, kernel_size=(3, 3), stride=(2, 2), padding=(1, 1), bias=False)\n",
       "      (bn1): BatchNorm2d(512, eps=1e-05, momentum=0.1, affine=True, track_running_stats=True)\n",
       "      (relu): ReLU(inplace)\n",
       "      (conv2): Conv2d(512, 512, kernel_size=(3, 3), stride=(1, 1), padding=(1, 1), bias=False)\n",
       "      (bn2): BatchNorm2d(512, eps=1e-05, momentum=0.1, affine=True, track_running_stats=True)\n",
       "      (downsample): Sequential(\n",
       "        (0): Conv2d(256, 512, kernel_size=(1, 1), stride=(2, 2), bias=False)\n",
       "        (1): BatchNorm2d(512, eps=1e-05, momentum=0.1, affine=True, track_running_stats=True)\n",
       "      )\n",
       "    )\n",
       "    (1): BasicBlock(\n",
       "      (conv1): Conv2d(512, 512, kernel_size=(3, 3), stride=(1, 1), padding=(1, 1), bias=False)\n",
       "      (bn1): BatchNorm2d(512, eps=1e-05, momentum=0.1, affine=True, track_running_stats=True)\n",
       "      (relu): ReLU(inplace)\n",
       "      (conv2): Conv2d(512, 512, kernel_size=(3, 3), stride=(1, 1), padding=(1, 1), bias=False)\n",
       "      (bn2): BatchNorm2d(512, eps=1e-05, momentum=0.1, affine=True, track_running_stats=True)\n",
       "    )\n",
       "  )\n",
       "  (avgpool): AvgPool2d(kernel_size=7, stride=1, padding=0)\n",
       "  (fc): Linear(in_features=512, out_features=1000, bias=True)\n",
       ")"
      ]
     },
     "execution_count": 17,
     "metadata": {},
     "output_type": "execute_result"
    }
   ],
   "source": [
    "resnet"
   ]
  },
  {
   "cell_type": "code",
   "execution_count": null,
   "metadata": {},
   "outputs": [],
   "source": []
  },
  {
   "cell_type": "markdown",
   "metadata": {},
   "source": [
    "### WORD MODEL\n",
    "\n",
    "Many to Many language model"
   ]
  },
  {
   "cell_type": "code",
   "execution_count": 18,
   "metadata": {},
   "outputs": [],
   "source": [
    "import torch.nn as nn"
   ]
  },
  {
   "cell_type": "code",
   "execution_count": 19,
   "metadata": {},
   "outputs": [],
   "source": [
    "cap_cols = train.columns[train.columns.str.contains('caption')]"
   ]
  },
  {
   "cell_type": "code",
   "execution_count": 20,
   "metadata": {},
   "outputs": [],
   "source": [
    "train_captions = np.array(train[cap_cols]).ravel()\n",
    "val_captions = np.array(val[cap_cols]).ravel()"
   ]
  },
  {
   "cell_type": "code",
   "execution_count": 21,
   "metadata": {},
   "outputs": [
    {
     "name": "stdout",
     "output_type": "stream",
     "text": [
      "Number of captions: 134145\n"
     ]
    }
   ],
   "source": [
    "print(f\"Number of captions: {len(train_captions)+len(val_captions)}\")"
   ]
  },
  {
   "cell_type": "code",
   "execution_count": 22,
   "metadata": {},
   "outputs": [
    {
     "data": {
      "text/plain": [
       "array(['Two ducks floating on top of a lake with brown water.',\n",
       "       'Two ducks are swimming on the lake next to each other.',\n",
       "       'Two geese swimming on the water and looking toward the camera.',\n",
       "       'Two ducks facing the same direction, wading in a pond.',\n",
       "       'Two geese resting in a body of water'], dtype=object)"
      ]
     },
     "execution_count": 22,
     "metadata": {},
     "output_type": "execute_result"
    }
   ],
   "source": [
    "train_captions[:5]"
   ]
  },
  {
   "cell_type": "markdown",
   "metadata": {},
   "source": [
    "### Process Text"
   ]
  },
  {
   "cell_type": "markdown",
   "metadata": {},
   "source": [
    "- Convert all words to lowercase.\n",
    "- Remove all punctuation.\n",
    "- Remove all words that are one character or less in length (e.g. ‘a’).\n",
    "- Remove all words with numbers in them.\n",
    "\n",
    "smaller vocab\n",
    "\n",
    "Loaded: 8,092\n",
    "Vocabulary Size: 8,763"
   ]
  },
  {
   "cell_type": "code",
   "execution_count": 23,
   "metadata": {},
   "outputs": [],
   "source": [
    "import string, re\n",
    "from collections import defaultdict"
   ]
  },
  {
   "cell_type": "code",
   "execution_count": 24,
   "metadata": {},
   "outputs": [],
   "source": [
    "def process_text(s):\n",
    "    return s.lower().strip('\\n').translate(str.maketrans('','',string.punctuation)).split(' ')"
   ]
  },
  {
   "cell_type": "code",
   "execution_count": 25,
   "metadata": {},
   "outputs": [],
   "source": [
    "captions = np.concatenate((train_captions, val_captions))"
   ]
  },
  {
   "cell_type": "code",
   "execution_count": 26,
   "metadata": {},
   "outputs": [],
   "source": [
    "vocab = defaultdict(int)\n",
    "for s in captions:\n",
    "    for w in process_text(s):\n",
    "        vocab[w] += 1"
   ]
  },
  {
   "cell_type": "code",
   "execution_count": 27,
   "metadata": {},
   "outputs": [
    {
     "data": {
      "text/plain": [
       "11665"
      ]
     },
     "execution_count": 27,
     "metadata": {},
     "output_type": "execute_result"
    }
   ],
   "source": [
    "len(vocab)"
   ]
  },
  {
   "cell_type": "code",
   "execution_count": 28,
   "metadata": {},
   "outputs": [],
   "source": [
    "# VOCAB2IDX\n",
    "vocab2idx = {}\n",
    "vocab2idx['<pad>'] = len(vocab2idx)\n",
    "vocab2idx['<start>'] = len(vocab2idx)\n",
    "vocab2idx['<end>'] = len(vocab2idx)\n",
    "for i, w in enumerate(vocab):\n",
    "    vocab2idx[w] = i+3"
   ]
  },
  {
   "cell_type": "code",
   "execution_count": 29,
   "metadata": {},
   "outputs": [],
   "source": [
    "# IDX2VOCAB\n",
    "idx2vocab = {}\n",
    "for w in vocab2idx:\n",
    "    idx2vocab[vocab2idx[w]] = w"
   ]
  },
  {
   "cell_type": "code",
   "execution_count": 30,
   "metadata": {},
   "outputs": [],
   "source": [
    "processed_captions = [process_text(cap) for cap in captions]"
   ]
  },
  {
   "cell_type": "code",
   "execution_count": 31,
   "metadata": {},
   "outputs": [],
   "source": [
    "max_len = 0\n",
    "for cap in processed_captions:\n",
    "    max_len = max(len(cap), max_len)"
   ]
  },
  {
   "cell_type": "code",
   "execution_count": 32,
   "metadata": {},
   "outputs": [
    {
     "data": {
      "text/plain": [
       "50"
      ]
     },
     "execution_count": 32,
     "metadata": {},
     "output_type": "execute_result"
    }
   ],
   "source": [
    "max_len"
   ]
  },
  {
   "cell_type": "code",
   "execution_count": 33,
   "metadata": {},
   "outputs": [
    {
     "data": {
      "text/plain": [
       "['two',\n",
       " 'ducks',\n",
       " 'floating',\n",
       " 'on',\n",
       " 'top',\n",
       " 'of',\n",
       " 'a',\n",
       " 'lake',\n",
       " 'with',\n",
       " 'brown',\n",
       " 'water']"
      ]
     },
     "execution_count": 33,
     "metadata": {},
     "output_type": "execute_result"
    }
   ],
   "source": [
    "processed_captions[0]"
   ]
  },
  {
   "cell_type": "code",
   "execution_count": 34,
   "metadata": {},
   "outputs": [
    {
     "data": {
      "text/plain": [
       "{'<pad>': 0,\n",
       " '<start>': 1,\n",
       " '<end>': 2,\n",
       " 'two': 3,\n",
       " 'ducks': 4,\n",
       " 'floating': 5,\n",
       " 'on': 6,\n",
       " 'top': 7,\n",
       " 'of': 8,\n",
       " 'a': 9,\n",
       " 'lake': 10,\n",
       " 'with': 11,\n",
       " 'brown': 12,\n",
       " 'water': 13,\n",
       " 'are': 14,\n",
       " 'swimming': 15,\n",
       " 'the': 16,\n",
       " 'next': 17,\n",
       " 'to': 18,\n",
       " 'each': 19,\n",
       " 'other': 20,\n",
       " 'geese': 21,\n",
       " 'and': 22,\n",
       " 'looking': 23,\n",
       " 'toward': 24,\n",
       " 'camera': 25,\n",
       " 'facing': 26,\n",
       " 'same': 27,\n",
       " 'direction': 28,\n",
       " 'wading': 29,\n",
       " 'in': 30,\n",
       " 'pond': 31,\n",
       " 'resting': 32,\n",
       " 'body': 33,\n",
       " 'long': 34,\n",
       " 'bill': 35,\n",
       " 'bird': 36,\n",
       " 'standing': 37,\n",
       " 'beach': 38,\n",
       " 'ocean': 39,\n",
       " 'small': 40,\n",
       " 'skinny': 41,\n",
       " 'beak': 42,\n",
       " 'walks': 43,\n",
       " 'beaked': 44,\n",
       " 'walking': 45,\n",
       " 'close': 46,\n",
       " 'up': 47,\n",
       " 'near': 48,\n",
       " 'pink': 49,\n",
       " 'is': 50,\n",
       " 'birds': 51,\n",
       " 'sitting': 52,\n",
       " 'red': 53,\n",
       " 'towel': 54,\n",
       " 'shower': 55,\n",
       " 'pole': 56,\n",
       " 'bathroom': 57,\n",
       " 'rod': 58,\n",
       " 'hanging': 59,\n",
       " 'restroom': 60,\n",
       " 'one': 61,\n",
       " 'curtain': 62,\n",
       " 'another': 63,\n",
       " 'wash': 64,\n",
       " 'cloth': 65,\n",
       " 'draped': 66,\n",
       " 'over': 67,\n",
       " 'perching': 68,\n",
       " 'hung': 69,\n",
       " 'rack': 70,\n",
       " 'many': 71,\n",
       " 'elephants': 72,\n",
       " 'person': 73,\n",
       " 'sky': 74,\n",
       " 'background': 75,\n",
       " 'photo': 76,\n",
       " 'group': 77,\n",
       " 'lot': 78,\n",
       " 'animals': 79,\n",
       " 'that': 80,\n",
       " 'by': 81,\n",
       " 'some': 82,\n",
       " 'dirt': 83,\n",
       " 'along': 84,\n",
       " 'path': 85,\n",
       " 'couple': 86,\n",
       " 'field': 87,\n",
       " 'black': 88,\n",
       " 'white': 89,\n",
       " 'rock': 90,\n",
       " 'river': 91,\n",
       " 'stands': 92,\n",
       " '': 93,\n",
       " 'gentle': 94,\n",
       " 'current': 95,\n",
       " 'flowing': 96,\n",
       " 'behind': 97,\n",
       " 'it': 98,\n",
       " 'perched': 99,\n",
       " 'patch': 100,\n",
       " 'grass': 101,\n",
       " 'single': 102,\n",
       " 'green': 103,\n",
       " 'middle': 104,\n",
       " 'grassy': 105,\n",
       " 'area': 106,\n",
       " 'gray': 107,\n",
       " 'man': 108,\n",
       " 'laying': 109,\n",
       " 'couch': 110,\n",
       " 'dog': 111,\n",
       " 'him': 112,\n",
       " 'his': 113,\n",
       " 'chest': 114,\n",
       " 'blue': 115,\n",
       " 'shirt': 116,\n",
       " 'has': 117,\n",
       " 'parrot': 118,\n",
       " 'beside': 119,\n",
       " 'lays': 120,\n",
       " 'large': 121,\n",
       " 'clock': 122,\n",
       " 'mounted': 123,\n",
       " 'side': 124,\n",
       " 'building': 125,\n",
       " 'roman': 126,\n",
       " 'numerals': 127,\n",
       " 'ornamental': 128,\n",
       " 'adorned': 129,\n",
       " 'an': 130,\n",
       " 'eagle': 131,\n",
       " 'columned': 132,\n",
       " 'statue': 133,\n",
       " 'ticking': 134,\n",
       " 'there': 135,\n",
       " 'showing': 136,\n",
       " '120': 137,\n",
       " 'looks': 138,\n",
       " 'at': 139,\n",
       " 'sea': 140,\n",
       " 'shore': 141,\n",
       " 'number': 142,\n",
       " 'flying': 143,\n",
       " 'three': 144,\n",
       " 'tow': 145,\n",
       " 'necked': 146,\n",
       " 'crane': 147,\n",
       " 'pigeon': 148,\n",
       " 'sign': 149,\n",
       " 'board': 150,\n",
       " 'buckingham': 151,\n",
       " 'palace': 152,\n",
       " 'post': 153,\n",
       " 'multiple': 154,\n",
       " 'signs': 155,\n",
       " 'street': 156,\n",
       " 'atop': 157,\n",
       " 'directional': 158,\n",
       " 'various': 159,\n",
       " 'them': 160,\n",
       " 'several': 161,\n",
       " 'pigeons': 162,\n",
       " 'eating': 163,\n",
       " 'food': 164,\n",
       " 'off': 165,\n",
       " 'sidewalk': 166,\n",
       " 'congregate': 167,\n",
       " 'city': 168,\n",
       " 'flock': 169,\n",
       " 'object': 170,\n",
       " 'seen': 171,\n",
       " 'here': 172,\n",
       " 'this': 173,\n",
       " 'unique': 174,\n",
       " 'image': 175,\n",
       " 'tree': 176,\n",
       " 'branch': 177,\n",
       " 'redbreasted': 178,\n",
       " 'robin': 179,\n",
       " 'announces': 180,\n",
       " 'spring': 181,\n",
       " 'arrived': 182,\n",
       " 'staring': 183,\n",
       " 'dried': 184,\n",
       " 'cob': 185,\n",
       " 'corn': 186,\n",
       " 'half': 187,\n",
       " 'eaten': 188,\n",
       " 'ear': 189,\n",
       " 'piece': 190,\n",
       " 'wood': 191,\n",
       " 'sits': 192,\n",
       " 'perch': 193,\n",
       " 'while': 194,\n",
       " 'copper': 195,\n",
       " 'sculpture': 196,\n",
       " 'greet': 197,\n",
       " 'roof': 198,\n",
       " 'stone': 199,\n",
       " 'angel': 200,\n",
       " 'rocky': 201,\n",
       " 'surface': 202,\n",
       " 'part': 203,\n",
       " 'mountain': 204,\n",
       " 'end': 205,\n",
       " 'edge': 206,\n",
       " 'formation': 207,\n",
       " 'theres': 208,\n",
       " 'cliff': 209,\n",
       " 'giraffe': 210,\n",
       " 'giraffes': 211,\n",
       " 'bending': 212,\n",
       " 'their': 213,\n",
       " 'necks': 214,\n",
       " 'down': 215,\n",
       " 'eat': 216,\n",
       " 'from': 217,\n",
       " 'bush': 218,\n",
       " 'gather': 219,\n",
       " 'around': 220,\n",
       " 'wooded': 221,\n",
       " 'grazing': 222,\n",
       " 'big': 223,\n",
       " 'elephant': 224,\n",
       " 'through': 225,\n",
       " 'lush': 226,\n",
       " 'baby': 227,\n",
       " 'roaming': 228,\n",
       " 'clearing': 229,\n",
       " 'tall': 230,\n",
       " 'trees': 231,\n",
       " 'bushes': 232,\n",
       " 'flooded': 233,\n",
       " 'park': 234,\n",
       " 'benches': 235,\n",
       " 'visible': 236,\n",
       " 'flood': 237,\n",
       " 'waters': 238,\n",
       " 'wooden': 239,\n",
       " 'surrounded': 240,\n",
       " 'haired': 241,\n",
       " 'cat': 242,\n",
       " 'out': 243,\n",
       " 'window': 244,\n",
       " 'watches': 245,\n",
       " 'snow': 246,\n",
       " 'high': 247,\n",
       " 'circle': 248,\n",
       " 'kind': 249,\n",
       " 'stand': 250,\n",
       " 'taken': 251,\n",
       " 'light': 252,\n",
       " 'fixture': 253,\n",
       " 'pedestal': 254,\n",
       " 'house': 255,\n",
       " 'outside': 256,\n",
       " 'glass': 257,\n",
       " 'who': 258,\n",
       " 'sill': 259,\n",
       " 'few': 260,\n",
       " 'sil': 261,\n",
       " 'back': 262,\n",
       " 'chair': 263,\n",
       " 'chirping': 264,\n",
       " 'furniture': 265,\n",
       " 'forest': 266,\n",
       " 'yelping': 267,\n",
       " 'something': 268,\n",
       " 'its': 269,\n",
       " 'mouth': 270,\n",
       " 'open': 271,\n",
       " 'cast': 272,\n",
       " 'iron': 273,\n",
       " 'sink': 274,\n",
       " 'pair': 275,\n",
       " 'metal': 276,\n",
       " 'leaning': 277,\n",
       " 'fallen': 278,\n",
       " 'inspects': 279,\n",
       " 'roots': 280,\n",
       " 'bottom': 281,\n",
       " 'investigates': 282,\n",
       " 'stump': 283,\n",
       " 'wildlife': 284,\n",
       " 'enclosure': 285,\n",
       " 'muddy': 286,\n",
       " 'tire': 287,\n",
       " 'barely': 288,\n",
       " 'recognizable': 289,\n",
       " 'as': 290,\n",
       " 'little': 291,\n",
       " 'old': 292,\n",
       " 'mud': 293,\n",
       " 'puddles': 294,\n",
       " 'flies': 295,\n",
       " 'lying': 296,\n",
       " 'abandoned': 297,\n",
       " 'puddle': 298,\n",
       " 'ground': 299,\n",
       " 'zebras': 300,\n",
       " 'fence': 301,\n",
       " 'herd': 302,\n",
       " 'zebra': 303,\n",
       " 'dry': 304,\n",
       " 'sit': 305,\n",
       " 'pile': 306,\n",
       " 'hay': 307,\n",
       " 'inside': 308,\n",
       " 'fenced': 309,\n",
       " 'bull': 310,\n",
       " 'grazes': 311,\n",
       " 'cow': 312,\n",
       " 'alongside': 313,\n",
       " 'horned': 314,\n",
       " 'steer': 315,\n",
       " 'fowl': 316,\n",
       " 'rocks': 317,\n",
       " 'egret': 318,\n",
       " 'shallow': 319,\n",
       " 'front': 320,\n",
       " 'yellow': 321,\n",
       " 'plant': 322,\n",
       " 'branches': 323,\n",
       " 'leaves': 324,\n",
       " 'thin': 325,\n",
       " 'parrots': 326,\n",
       " 'posts': 327,\n",
       " 'colorful': 328,\n",
       " 'hedge': 329,\n",
       " 'picket': 330,\n",
       " 'holding': 331,\n",
       " 'fruit': 332,\n",
       " 'apple': 333,\n",
       " 'pecks': 334,\n",
       " 'orange': 335,\n",
       " 'brick': 336,\n",
       " 'respected': 337,\n",
       " 'groups': 338,\n",
       " 'people': 339,\n",
       " 'enjoying': 340,\n",
       " 'boat': 341,\n",
       " 'ride': 342,\n",
       " 'riding': 343,\n",
       " 'boats': 344,\n",
       " 'tourists': 345,\n",
       " 'being': 346,\n",
       " 'poled': 347,\n",
       " 'country': 348,\n",
       " 'canal': 349,\n",
       " 'broken': 350,\n",
       " 'heron': 351,\n",
       " 'amidst': 352,\n",
       " 'together': 353,\n",
       " 'walk': 354,\n",
       " 'flamingos': 355,\n",
       " 'five': 356,\n",
       " 'four': 357,\n",
       " 'multitude': 358,\n",
       " 'taking': 359,\n",
       " 'flight': 360,\n",
       " 'during': 361,\n",
       " 'day': 362,\n",
       " 'midflight': 363,\n",
       " 'scape': 364,\n",
       " 'adult': 365,\n",
       " 'pelican': 366,\n",
       " 'against': 367,\n",
       " 'cloudy': 368,\n",
       " 'round': 369,\n",
       " 'flapping': 370,\n",
       " 'wings': 371,\n",
       " 'bench': 372,\n",
       " 'pavement': 373,\n",
       " 'duck': 374,\n",
       " 'goose': 375,\n",
       " 'ignore': 376,\n",
       " 'playing': 377,\n",
       " 'creek': 378,\n",
       " 'stop': 379,\n",
       " 'desolate': 380,\n",
       " 'intersection': 381,\n",
       " 'hills': 382,\n",
       " 'road': 383,\n",
       " 'power': 384,\n",
       " 'lines': 385,\n",
       " 'roadside': 386,\n",
       " 'corner': 387,\n",
       " 'highway': 388,\n",
       " 'fields': 389,\n",
       " 'telephone': 390,\n",
       " 'woman': 391,\n",
       " 'dogs': 392,\n",
       " 'inflatable': 393,\n",
       " 'raft': 394,\n",
       " 'ladies': 395,\n",
       " 'row': 396,\n",
       " 'swims': 397,\n",
       " 'paddles': 398,\n",
       " 'wavy': 399,\n",
       " 'murky': 400,\n",
       " 'picture': 401,\n",
       " 'animal': 402,\n",
       " 'bowl': 403,\n",
       " 'table': 404,\n",
       " 'sushi': 405,\n",
       " 'dish': 406,\n",
       " 'stick': 407,\n",
       " 'plate': 408,\n",
       " 'african': 409,\n",
       " 'grey': 410,\n",
       " 'bunch': 411,\n",
       " 'cooling': 412,\n",
       " 'get': 413,\n",
       " 'drink': 414,\n",
       " 'wit': 415,\n",
       " 'ha': 416,\n",
       " 'traveling': 417,\n",
       " 'horses': 418,\n",
       " 'hole': 419,\n",
       " 'wildebeests': 420,\n",
       " 'watering': 421,\n",
       " 'wild': 422,\n",
       " 'savanna': 423,\n",
       " 'spread': 424,\n",
       " 'sand': 425,\n",
       " 'wing': 426,\n",
       " 'tips': 427,\n",
       " 'spreads': 428,\n",
       " 'lands': 429,\n",
       " 'landing': 430,\n",
       " 'motor': 431,\n",
       " 'cycle': 432,\n",
       " 'jacket': 433,\n",
       " 'motorcycle': 434,\n",
       " 'police': 435,\n",
       " 'officer': 436,\n",
       " 'driving': 437,\n",
       " 'threw': 438,\n",
       " 'streets': 439,\n",
       " 'policeman': 440,\n",
       " 'drives': 441,\n",
       " 'issued': 442,\n",
       " 'surfer': 443,\n",
       " 'watching': 444,\n",
       " 'waves': 445,\n",
       " 'roll': 446,\n",
       " 'see': 447,\n",
       " 'if': 448,\n",
       " 'they': 449,\n",
       " 'any': 450,\n",
       " 'good': 451,\n",
       " 'ones': 452,\n",
       " 'male': 453,\n",
       " 'surboard': 454,\n",
       " 'surf': 455,\n",
       " 'surfboard': 456,\n",
       " 'among': 457,\n",
       " 'chickens': 458,\n",
       " 'turkeys': 459,\n",
       " 'older': 460,\n",
       " 'wall': 461,\n",
       " 'very': 462,\n",
       " 'cute': 463,\n",
       " 'pen': 464,\n",
       " 'under': 465,\n",
       " 'feet': 466,\n",
       " 'cage': 467,\n",
       " 'kite': 468,\n",
       " 'head': 469,\n",
       " 'passing': 470,\n",
       " 'multicolored': 471,\n",
       " 'sakter': 472,\n",
       " 'shredding': 473,\n",
       " 'gnar': 474,\n",
       " 'fresh': 475,\n",
       " 'doing': 476,\n",
       " 'trick': 477,\n",
       " 'skateboard': 478,\n",
       " 'skateboarding': 479,\n",
       " 'young': 480,\n",
       " 'curb': 481,\n",
       " 'setting': 482,\n",
       " 'walkway': 483,\n",
       " 'longhaired': 484,\n",
       " 'bison': 485,\n",
       " 'snowy': 486,\n",
       " 'covered': 487,\n",
       " 'hillside': 488,\n",
       " 'wet': 489,\n",
       " 'shoreline': 490,\n",
       " 'church': 491,\n",
       " 'spire': 492,\n",
       " 'mountains': 493,\n",
       " 'capped': 494,\n",
       " 'tops': 495,\n",
       " 'all': 496,\n",
       " 'tower': 497,\n",
       " 'view': 498,\n",
       " 'bell': 499,\n",
       " 'steeple': 500,\n",
       " 'hillsides': 501,\n",
       " 'made': 502,\n",
       " 'pretty': 503,\n",
       " 'stork': 504,\n",
       " 'alone': 505,\n",
       " 'umbrella': 506,\n",
       " 'observing': 507,\n",
       " 'bare': 508,\n",
       " 'stuck': 509,\n",
       " 'opened': 510,\n",
       " 'lifting': 511,\n",
       " 'reaching': 512,\n",
       " 'twigs': 513,\n",
       " 'parasailers': 514,\n",
       " 'sail': 515,\n",
       " 'air': 516,\n",
       " 'men': 517,\n",
       " 'guys': 518,\n",
       " 'look': 519,\n",
       " 'onto': 520,\n",
       " 'ledge': 521,\n",
       " 'seagulls': 522,\n",
       " 'barrier': 523,\n",
       " 'low': 524,\n",
       " 'cement': 525,\n",
       " 'pick': 526,\n",
       " 'sandy': 527,\n",
       " 'seashells': 528,\n",
       " 'pecking': 529,\n",
       " 'for': 530,\n",
       " 'bids': 531,\n",
       " 'pellets': 532,\n",
       " 'int': 533,\n",
       " 'he': 534,\n",
       " 'feeder': 535,\n",
       " 'slowly': 536,\n",
       " 'picks': 537,\n",
       " 'bus': 538,\n",
       " 'burd': 539,\n",
       " 'full': 540,\n",
       " 'tries': 541,\n",
       " 'multi': 542,\n",
       " 'colored': 543,\n",
       " 'rope': 544,\n",
       " 'clothesline': 545,\n",
       " 'sailing': 546,\n",
       " 'dormant': 547,\n",
       " 'bay': 548,\n",
       " 'dock': 549,\n",
       " 'harbor': 550,\n",
       " 'rear': 551,\n",
       " 'pointy': 552,\n",
       " 'partly': 553,\n",
       " 'lightning': 554,\n",
       " 'without': 555,\n",
       " 'dead': 556,\n",
       " 'no': 557,\n",
       " 'time': 558,\n",
       " 'catch': 559,\n",
       " 'break': 560,\n",
       " 'visit': 561,\n",
       " 'straws': 562,\n",
       " 'fire': 563,\n",
       " 'hydrant': 564,\n",
       " 'into': 565,\n",
       " 'crash': 566,\n",
       " 'seagels': 567,\n",
       " 'crowding': 568,\n",
       " 'handle': 569,\n",
       " 'handlebar': 570,\n",
       " 'helmet': 571,\n",
       " 'motorbike': 572,\n",
       " 'vehicle': 573,\n",
       " 'plaid': 574,\n",
       " 'moped': 575,\n",
       " 'below': 576,\n",
       " 'mirror': 577,\n",
       " 'car': 578,\n",
       " 'guardrail': 579,\n",
       " 'indicating': 580,\n",
       " 'right': 581,\n",
       " 'turns': 582,\n",
       " 'hood': 583,\n",
       " 'parking': 584,\n",
       " 'cowbird': 585,\n",
       " 'rest': 586,\n",
       " 'drinking': 587,\n",
       " 'container': 588,\n",
       " 'vessel': 589,\n",
       " 'gathered': 590,\n",
       " 'tent': 591,\n",
       " 'well': 592,\n",
       " 'zoo': 593,\n",
       " 'scavengers': 594,\n",
       " 'feeding': 595,\n",
       " 'nearby': 596,\n",
       " 'pelicans': 597,\n",
       " 'getting': 598,\n",
       " 'these': 599,\n",
       " 'splashing': 600,\n",
       " 'winged': 601,\n",
       " 'potty': 602,\n",
       " 'birth': 603,\n",
       " 'concrete': 604,\n",
       " 'pot': 605,\n",
       " 'flower': 606,\n",
       " 'blanket': 607,\n",
       " 'living': 608,\n",
       " 'room': 609,\n",
       " 'sleeping': 610,\n",
       " 'blankets': 611,\n",
       " 'boxer': 612,\n",
       " 'type': 613,\n",
       " 'across': 614,\n",
       " 'motion': 615,\n",
       " 'balcony': 616,\n",
       " 'approaching': 617,\n",
       " 'deck': 618,\n",
       " 'beam': 619,\n",
       " 'rail': 620,\n",
       " 'topped': 621,\n",
       " 'plates': 622,\n",
       " 'paper': 623,\n",
       " 'cups': 624,\n",
       " 'left': 625,\n",
       " 'picnic': 626,\n",
       " 'slapping': 627,\n",
       " 'itself': 628,\n",
       " 'needs': 629,\n",
       " 'bath': 630,\n",
       " 'so': 631,\n",
       " 'gravel': 632,\n",
       " 'plants': 633,\n",
       " 'fishing': 634,\n",
       " 'fly': 635,\n",
       " 'surrounding': 636,\n",
       " 'like': 637,\n",
       " 'strawberries': 638,\n",
       " 'milk': 639,\n",
       " 'banana': 640,\n",
       " 'case': 641,\n",
       " 'wrapping': 642,\n",
       " 'peel': 643,\n",
       " 'headless': 644,\n",
       " 'scarecrow': 645,\n",
       " 'crow': 646,\n",
       " 'arm': 647,\n",
       " 'landed': 648,\n",
       " 'doesnt': 649,\n",
       " 'have': 650,\n",
       " 'garden': 651,\n",
       " 'canadian': 652,\n",
       " 'waddling': 653,\n",
       " 'stretches': 654,\n",
       " 'lifts': 655,\n",
       " 'foot': 656,\n",
       " 'huge': 657,\n",
       " 'creates': 658,\n",
       " 'splash': 659,\n",
       " 'filled': 660,\n",
       " 'clear': 661,\n",
       " 'which': 662,\n",
       " 'reflection': 663,\n",
       " 'shrubs': 664,\n",
       " 'snatching': 665,\n",
       " 'prey': 666,\n",
       " 'quickly': 667,\n",
       " 'skimming': 668,\n",
       " 'shrubbery': 669,\n",
       " 'contains': 670,\n",
       " 'fruits': 671,\n",
       " 'finches': 672,\n",
       " 'girls': 673,\n",
       " 'bikinis': 674,\n",
       " 'surfboards': 675,\n",
       " 'women': 676,\n",
       " 'carrying': 677,\n",
       " 'sexy': 678,\n",
       " 'bikini': 679,\n",
       " 'bears': 680,\n",
       " 'furry': 681,\n",
       " 'stream': 682,\n",
       " 'romp': 683,\n",
       " 'surfing': 684,\n",
       " 'ready': 685,\n",
       " 'jump': 686,\n",
       " 'wave': 687,\n",
       " 'skying': 688,\n",
       " 'just': 689,\n",
       " 'about': 690,\n",
       " 'wagon': 691,\n",
       " 'wheel': 692,\n",
       " 'begin': 693,\n",
       " 'above': 694,\n",
       " 'swooping': 695,\n",
       " 'kneeling': 696,\n",
       " 'towards': 697,\n",
       " 'hand': 698,\n",
       " 'beadh': 699,\n",
       " 'posing': 700,\n",
       " 'drifting': 701,\n",
       " 'distance': 702,\n",
       " 'ship': 703,\n",
       " 'floor': 704,\n",
       " 'toilet': 705,\n",
       " 'messy': 706,\n",
       " 'allot': 707,\n",
       " 'clothes': 708,\n",
       " 'magazines': 709,\n",
       " 'items': 710,\n",
       " 'shot': 711,\n",
       " 'sunset': 712,\n",
       " 'or': 713,\n",
       " 'sunrise': 714,\n",
       " 'rowboats': 715,\n",
       " 'overturned': 716,\n",
       " 'purple': 717,\n",
       " 'bright': 718,\n",
       " 'perches': 719,\n",
       " 'leafy': 720,\n",
       " 'beautiful': 721,\n",
       " 'goings': 722,\n",
       " 'seagull': 723,\n",
       " 'basket': 724,\n",
       " 'stops': 725,\n",
       " 'straw': 726,\n",
       " 'bag': 727,\n",
       " 'womans': 728,\n",
       " 'glove': 729,\n",
       " 'she': 730,\n",
       " 'persons': 731,\n",
       " 'owl': 732,\n",
       " 'gloved': 733,\n",
       " 'birch': 734,\n",
       " 'bananas': 735,\n",
       " 'peeled': 736,\n",
       " 'cages': 737,\n",
       " 'pet': 738,\n",
       " 'store': 739,\n",
       " 'warehouse': 740,\n",
       " 'environment': 741,\n",
       " 'asian': 742,\n",
       " 'working': 743,\n",
       " 'shopping': 744,\n",
       " 'cluttered': 745,\n",
       " 'shop': 746,\n",
       " 'stacked': 747,\n",
       " 'levels': 748,\n",
       " 'calm': 749,\n",
       " 'swim': 750,\n",
       " 'doorway': 751,\n",
       " 'door': 752,\n",
       " 'coming': 753,\n",
       " 'silver': 754,\n",
       " 'sweater': 755,\n",
       " 'shown': 756,\n",
       " 'her': 757,\n",
       " 'girl': 758,\n",
       " 'arms': 759,\n",
       " 'extended': 760,\n",
       " 'outwards': 761,\n",
       " 'dances': 762,\n",
       " 'pictured': 763,\n",
       " 'facade': 764,\n",
       " 'painted': 765,\n",
       " 'windows': 766,\n",
       " 'wrought': 767,\n",
       " 'quaint': 768,\n",
       " 'doors': 769,\n",
       " 'bamboo': 770,\n",
       " 'shades': 771,\n",
       " 'faded': 772,\n",
       " 'paint': 773,\n",
       " 'rooting': 774,\n",
       " 'foundation': 775,\n",
       " 'log': 776,\n",
       " 'amid': 777,\n",
       " 'greenery': 778,\n",
       " 'display': 779,\n",
       " 'market': 780,\n",
       " 'trio': 781,\n",
       " 'stained': 782,\n",
       " 'plastic': 783,\n",
       " 'railing': 784,\n",
       " 'elaborate': 785,\n",
       " 'adorable': 786,\n",
       " 'sides': 787,\n",
       " 'birdhouse': 788,\n",
       " 'hangs': 789,\n",
       " 'sharp': 790,\n",
       " 'beaks': 791,\n",
       " 'finding': 792,\n",
       " 'frames': 793,\n",
       " 'shots': 794,\n",
       " 'set': 795,\n",
       " 'photos': 796,\n",
       " 'moving': 797,\n",
       " 'film': 798,\n",
       " 'clips': 799,\n",
       " 'calling': 800,\n",
       " 'overlooking': 801,\n",
       " 'outdoors': 802,\n",
       " 'wire': 803,\n",
       " 'neck': 804,\n",
       " 'bar': 805,\n",
       " 'circular': 806,\n",
       " 'clown': 807,\n",
       " 'miniature': 808,\n",
       " 'train': 809,\n",
       " 'children': 810,\n",
       " 'tour': 811,\n",
       " 'passengers': 812,\n",
       " 'line': 813,\n",
       " 'fair': 814,\n",
       " 'different': 815,\n",
       " 'running': 816,\n",
       " 'crowded': 817,\n",
       " 'lots': 818,\n",
       " 'penguins': 819,\n",
       " 'airport': 820,\n",
       " 'planes': 821,\n",
       " 'breast': 822,\n",
       " 'yellowbellied': 823,\n",
       " 'markings': 824,\n",
       " 'breasted': 825,\n",
       " 'waiting': 826,\n",
       " 'take': 827,\n",
       " 'closeup': 828,\n",
       " 'tropical': 829,\n",
       " 'swimsuit': 830,\n",
       " 'wetsuit': 831,\n",
       " 'checking': 832,\n",
       " 'surroundings': 833,\n",
       " 'giving': 834,\n",
       " 'backward': 835,\n",
       " 'glance': 836,\n",
       " 'hawk': 837,\n",
       " 'inching': 838,\n",
       " 'swampy': 839,\n",
       " 'vegetation': 840,\n",
       " 'swan': 841,\n",
       " 'legged': 842,\n",
       " 'palm': 843,\n",
       " 'mans': 844,\n",
       " 'takes': 845,\n",
       " 'ostriches': 846,\n",
       " 'not': 847,\n",
       " 'far': 848,\n",
       " 'shrimp': 849,\n",
       " 'nets': 850,\n",
       " 'captures': 851,\n",
       " 'fish': 852,\n",
       " 'followed': 853,\n",
       " 'trolling': 854,\n",
       " 'touching': 855,\n",
       " 'kissing': 856,\n",
       " 'kiss': 857,\n",
       " 'hold': 858,\n",
       " 'plank': 859,\n",
       " 'trunks': 860,\n",
       " 'trunk': 861,\n",
       " 'where': 862,\n",
       " 'withing': 863,\n",
       " 'confined': 864,\n",
       " 'space': 865,\n",
       " 'waterfall': 866,\n",
       " 'mini': 867,\n",
       " 'backpack': 868,\n",
       " 'dirty': 869,\n",
       " 'feathers': 870,\n",
       " 'nesting': 871,\n",
       " 'boards': 872,\n",
       " 'having': 873,\n",
       " 'fun': 874,\n",
       " 'hot': 875,\n",
       " 'blonde': 876,\n",
       " 'wearing': 877,\n",
       " 'thong': 878,\n",
       " 'buildings': 879,\n",
       " 'conductor': 880,\n",
       " 'guiding': 881,\n",
       " 'track': 882,\n",
       " 'going': 883,\n",
       " 'past': 884,\n",
       " 'rides': 885,\n",
       " 'rails': 886,\n",
       " 'fastly': 887,\n",
       " 'engine': 888,\n",
       " 'family': 889,\n",
       " 'shows': 890,\n",
       " 'ruffled': 891,\n",
       " 'bike': 892,\n",
       " 'bicycle': 893,\n",
       " 'brake': 894,\n",
       " 'marshland': 895,\n",
       " 'cranes': 896,\n",
       " 'between': 897,\n",
       " 'flowers': 898,\n",
       " 'float': 899,\n",
       " 'seeds': 900,\n",
       " 'someones': 901,\n",
       " 'valley': 902,\n",
       " 'lone': 903,\n",
       " 'overlooks': 904,\n",
       " 'craggy': 905,\n",
       " 'blackbird': 906,\n",
       " 'chairs': 907,\n",
       " 'rests': 908,\n",
       " 'summer': 909,\n",
       " 'golden': 910,\n",
       " 'mallard': 911,\n",
       " 'peaceful': 912,\n",
       " 'still': 913,\n",
       " 'lady': 914,\n",
       " 'brushes': 915,\n",
       " 'hair': 916,\n",
       " 'brush': 917,\n",
       " 'brushing': 918,\n",
       " 'petting': 919,\n",
       " 'toothbrush': 920,\n",
       " 'tooth': 921,\n",
       " 'shoulder': 922,\n",
       " 'child': 923,\n",
       " 'holds': 924,\n",
       " 'climbing': 925,\n",
       " 'leafless': 926,\n",
       " 'painting': 927,\n",
       " 'me': 928,\n",
       " 'briskly': 929,\n",
       " 'drawing': 930,\n",
       " 'airplane': 931,\n",
       " 'preparing': 932,\n",
       " 'land': 933,\n",
       " 'plane': 934,\n",
       " 'clouds': 935,\n",
       " 'jet': 936,\n",
       " 'prepares': 937,\n",
       " 'making': 938,\n",
       " 'final': 939,\n",
       " 'pass': 940,\n",
       " 'fisherman': 941,\n",
       " 'dam': 942,\n",
       " 'stopped': 943,\n",
       " 'falls': 944,\n",
       " 'bridge': 945,\n",
       " 'sizes': 946,\n",
       " 'freely': 947,\n",
       " 'seal': 948,\n",
       " 'windoe': 949,\n",
       " 'oven': 950,\n",
       " 'stove': 951,\n",
       " 'ostrich': 952,\n",
       " 'whats': 953,\n",
       " 'cooking': 954,\n",
       " 'legs': 955,\n",
       " 'kitchen': 956,\n",
       " 'pier': 957,\n",
       " 'drib': 958,\n",
       " 'attractive': 959,\n",
       " 'boardwalk': 960,\n",
       " 'rain': 961,\n",
       " 'pieces': 962,\n",
       " 'eats': 963,\n",
       " 'chunks': 964,\n",
       " 'shorts': 965,\n",
       " '2': 966,\n",
       " 'carry': 967,\n",
       " 'busy': 968,\n",
       " 'scene': 969,\n",
       " 'oceans': 970,\n",
       " 'following': 971,\n",
       " 'speeds': 972,\n",
       " 'follow': 973,\n",
       " 'jay': 974,\n",
       " 'foliage': 975,\n",
       " 'canopy': 976,\n",
       " 'bluebird': 977,\n",
       " 'gigantic': 978,\n",
       " 'cans': 979,\n",
       " 'giant': 980,\n",
       " 'mail': 981,\n",
       " 'box': 982,\n",
       " 'artwork': 983,\n",
       " 'outdoor': 984,\n",
       " 'vegetables': 985,\n",
       " 'caned': 986,\n",
       " 'packaged': 987,\n",
       " 'goods': 988,\n",
       " 'baskets': 989,\n",
       " 'produce': 990,\n",
       " 'selling': 991,\n",
       " 'grocery': 992,\n",
       " 'alley': 993,\n",
       " 'way': 994,\n",
       " 'strung': 995,\n",
       " 'alleyway': 996,\n",
       " 'boy': 997,\n",
       " 'paved': 998,\n",
       " 'empty': 999,\n",
       " ...}"
      ]
     },
     "execution_count": 34,
     "metadata": {},
     "output_type": "execute_result"
    }
   ],
   "source": [
    "vocab2idx"
   ]
  },
  {
   "cell_type": "markdown",
   "metadata": {},
   "source": [
    "### padding\n",
    "\n",
    "pad at the beginning"
   ]
  },
  {
   "cell_type": "code",
   "execution_count": 35,
   "metadata": {},
   "outputs": [],
   "source": [
    "def pad_prep_x(cap, max_len=50):\n",
    "    pad = ['<pad>' for i in range(max_len - len(cap))]\n",
    "    pad = ['<start>'] + cap + pad\n",
    "    return [vocab2idx[w] for w in pad], len(cap)+1\n",
    "\n",
    "def pad_prep_y(cap, max_len=50):\n",
    "    pad = ['<pad>' for i in range(max_len - len(cap))]\n",
    "    pad = cap + ['<end>'] + pad\n",
    "    return [vocab2idx[w] for w in pad]\n",
    "\n",
    "def prep_y(cap):\n",
    "    return [vocab2idx[w] for w in cap] +  [vocab2idx['<end>']]"
   ]
  },
  {
   "cell_type": "code",
   "execution_count": 36,
   "metadata": {},
   "outputs": [],
   "source": [
    "xs = [np.array(pad_prep_x(cap)) for cap in processed_captions]"
   ]
  },
  {
   "cell_type": "code",
   "execution_count": 37,
   "metadata": {},
   "outputs": [],
   "source": [
    "x, xlen = zip(*xs)"
   ]
  },
  {
   "cell_type": "code",
   "execution_count": 38,
   "metadata": {},
   "outputs": [],
   "source": [
    "y = [np.array(pad_prep_y(cap)) for cap in processed_captions]"
   ]
  },
  {
   "cell_type": "code",
   "execution_count": 39,
   "metadata": {},
   "outputs": [],
   "source": [
    "x = np.array(x)\n",
    "xlen = np.array(list(xlen))\n",
    "y = np.array(y)"
   ]
  },
  {
   "cell_type": "code",
   "execution_count": 40,
   "metadata": {},
   "outputs": [
    {
     "data": {
      "text/plain": [
       "array([ 1,  3,  4, 14, 15,  6, 16, 10, 17, 18, 19, 20,  0,  0,  0,  0,  0,\n",
       "        0,  0,  0,  0,  0,  0,  0,  0,  0,  0,  0,  0,  0,  0,  0,  0,  0,\n",
       "        0,  0,  0,  0,  0,  0,  0,  0,  0,  0,  0,  0,  0,  0,  0,  0,  0])"
      ]
     },
     "execution_count": 40,
     "metadata": {},
     "output_type": "execute_result"
    }
   ],
   "source": [
    "x[1]"
   ]
  },
  {
   "cell_type": "code",
   "execution_count": 41,
   "metadata": {},
   "outputs": [
    {
     "data": {
      "text/plain": [
       "array([ 3,  4, 14, 15,  6, 16, 10, 17, 18, 19, 20,  2,  0,  0,  0,  0,  0,\n",
       "        0,  0,  0,  0,  0,  0,  0,  0,  0,  0,  0,  0,  0,  0,  0,  0,  0,\n",
       "        0,  0,  0,  0,  0,  0,  0,  0,  0,  0,  0,  0,  0,  0,  0,  0,  0])"
      ]
     },
     "execution_count": 41,
     "metadata": {},
     "output_type": "execute_result"
    }
   ],
   "source": [
    "y[1]"
   ]
  },
  {
   "cell_type": "code",
   "execution_count": 42,
   "metadata": {},
   "outputs": [],
   "source": [
    "y_lengths = xlen"
   ]
  },
  {
   "cell_type": "code",
   "execution_count": 43,
   "metadata": {},
   "outputs": [],
   "source": [
    "D = 5\n",
    "emb_pad = nn.Embedding(1, D)\n",
    "emb_words = nn.Embedding(len(vocab2idx), D)\n",
    "\n",
    "emb_pad.weight.requires_grad = False\n",
    "emb_pad.weight.zero_()\n",
    "emb_words.weight.requires_grad = True"
   ]
  },
  {
   "cell_type": "code",
   "execution_count": 44,
   "metadata": {},
   "outputs": [
    {
     "data": {
      "text/plain": [
       "Parameter containing:\n",
       "tensor([[ 0.1687,  0.2413,  0.4323, -0.9856, -1.8642],\n",
       "        [-0.3016, -0.3579,  0.9212,  0.6365,  0.4569],\n",
       "        [-1.1199,  2.0578, -0.5110, -0.6344, -1.4616],\n",
       "        ...,\n",
       "        [-1.5873,  1.9796, -0.4351,  0.9406, -1.6554],\n",
       "        [ 0.7682, -0.8217,  0.7012, -0.5334,  1.2172],\n",
       "        [-1.0483, -0.3386,  0.4412, -0.3033, -0.0020]])"
      ]
     },
     "execution_count": 44,
     "metadata": {},
     "output_type": "execute_result"
    }
   ],
   "source": [
    "emb_words.weight"
   ]
  },
  {
   "cell_type": "code",
   "execution_count": 45,
   "metadata": {},
   "outputs": [
    {
     "data": {
      "text/plain": [
       "Parameter containing:\n",
       "tensor([[ 0.,  0.,  0.,  0.,  0.]])"
      ]
     },
     "execution_count": 45,
     "metadata": {},
     "output_type": "execute_result"
    }
   ],
   "source": [
    "emb_pad.weight"
   ]
  },
  {
   "cell_type": "code",
   "execution_count": 46,
   "metadata": {},
   "outputs": [
    {
     "data": {
      "text/plain": [
       "(False, True)"
      ]
     },
     "execution_count": 46,
     "metadata": {},
     "output_type": "execute_result"
    }
   ],
   "source": [
    "emb_pad.weight.requires_grad, emb_words.weight.requires_grad"
   ]
  },
  {
   "cell_type": "code",
   "execution_count": 47,
   "metadata": {},
   "outputs": [
    {
     "data": {
      "text/plain": [
       "array([ 1,  3,  4,  5,  6,  7,  8,  9, 10, 11, 12, 13,  0,  0,  0,  0,  0,\n",
       "        0,  0,  0,  0,  0,  0,  0,  0,  0,  0,  0,  0,  0,  0,  0,  0,  0,\n",
       "        0,  0,  0,  0,  0,  0,  0,  0,  0,  0,  0,  0,  0,  0,  0,  0,  0])"
      ]
     },
     "execution_count": 47,
     "metadata": {},
     "output_type": "execute_result"
    }
   ],
   "source": [
    "x[0]"
   ]
  },
  {
   "cell_type": "code",
   "execution_count": 48,
   "metadata": {},
   "outputs": [
    {
     "data": {
      "text/plain": [
       "(134145, 51)"
      ]
     },
     "execution_count": 48,
     "metadata": {},
     "output_type": "execute_result"
    }
   ],
   "source": [
    "x.shape"
   ]
  },
  {
   "cell_type": "code",
   "execution_count": 49,
   "metadata": {},
   "outputs": [
    {
     "data": {
      "text/plain": [
       "array([ 3,  4,  5,  6,  7,  8,  9, 10, 11, 12, 13,  2,  0,  0,  0,  0,  0,\n",
       "        0,  0,  0,  0,  0,  0,  0,  0,  0,  0,  0,  0,  0,  0,  0,  0,  0,\n",
       "        0,  0,  0,  0,  0,  0,  0,  0,  0,  0,  0,  0,  0,  0,  0,  0,  0])"
      ]
     },
     "execution_count": 49,
     "metadata": {},
     "output_type": "execute_result"
    }
   ],
   "source": [
    "y[0]"
   ]
  },
  {
   "cell_type": "code",
   "execution_count": 50,
   "metadata": {},
   "outputs": [
    {
     "data": {
      "text/plain": [
       "134145"
      ]
     },
     "execution_count": 50,
     "metadata": {},
     "output_type": "execute_result"
    }
   ],
   "source": [
    "len(x)"
   ]
  },
  {
   "cell_type": "code",
   "execution_count": 51,
   "metadata": {},
   "outputs": [
    {
     "data": {
      "text/plain": [
       "134145"
      ]
     },
     "execution_count": 51,
     "metadata": {},
     "output_type": "execute_result"
    }
   ],
   "source": [
    "len(y)"
   ]
  },
  {
   "cell_type": "markdown",
   "metadata": {},
   "source": [
    "### Word Model"
   ]
  },
  {
   "cell_type": "code",
   "execution_count": 52,
   "metadata": {},
   "outputs": [],
   "source": [
    "input_size = D\n",
    "hidden_size = 100\n",
    "rnn = nn.RNN(input_size, hidden_size, bias=False)"
   ]
  },
  {
   "cell_type": "code",
   "execution_count": 53,
   "metadata": {},
   "outputs": [],
   "source": [
    "#sample_batch: seq_len, batch_size, input_size\n",
    "import torch\n",
    "sample_x = torch.LongTensor(x[:3])\n",
    "sample_y = torch.LongTensor(np.concatenate(y[:3]).ravel())"
   ]
  },
  {
   "cell_type": "code",
   "execution_count": 54,
   "metadata": {},
   "outputs": [
    {
     "data": {
      "text/plain": [
       "(array([[  1,   3,   4, ...,   0,   0,   0],\n",
       "        [  1,   3,   4, ...,   0,   0,   0],\n",
       "        [  1,   3,  21, ...,   0,   0,   0],\n",
       "        ...,\n",
       "        [  1,  16,  77, ...,   0,   0,   0],\n",
       "        [  1, 300,  22, ...,   0,   0,   0],\n",
       "        [  1,  71,  79, ...,   0,   0,   0]]),\n",
       " array([[    3,     4,     5, ...,     0,     0,     0],\n",
       "        [    3,     4,    14, ...,     0,     0,     0],\n",
       "        [    3,    21,    15, ...,     0,     0,     0],\n",
       "        ...,\n",
       "        [   16,    77,     8, ...,     0,     0,     0],\n",
       "        [  300,    22, 11566, ...,     0,     0,     0],\n",
       "        [   71,    79,    30, ...,     0,     0,     0]]))"
      ]
     },
     "execution_count": 54,
     "metadata": {},
     "output_type": "execute_result"
    }
   ],
   "source": [
    "x, y"
   ]
  },
  {
   "cell_type": "code",
   "execution_count": 55,
   "metadata": {},
   "outputs": [
    {
     "data": {
      "text/plain": [
       "134145"
      ]
     },
     "execution_count": 55,
     "metadata": {},
     "output_type": "execute_result"
    }
   ],
   "source": [
    "len(x)"
   ]
  },
  {
   "cell_type": "code",
   "execution_count": 56,
   "metadata": {},
   "outputs": [
    {
     "data": {
      "text/plain": [
       "(134145, 51)"
      ]
     },
     "execution_count": 56,
     "metadata": {},
     "output_type": "execute_result"
    }
   ],
   "source": [
    "y.shape"
   ]
  },
  {
   "cell_type": "code",
   "execution_count": 57,
   "metadata": {},
   "outputs": [],
   "source": [
    "class WordDataset(Dataset):\n",
    "    def __init__(self, x, y, y_lengths):\n",
    "        self.x = x\n",
    "        self.y = y\n",
    "        self.y_lengths = y_lengths\n",
    "    \n",
    "    def __getitem__(self, index):\n",
    "        return torch.LongTensor(self.x[index]), torch.LongTensor(self.y[index]), #self.y_lengths[index]\n",
    "    \n",
    "    def __len__(self):\n",
    "        return len(self.x)"
   ]
  },
  {
   "cell_type": "code",
   "execution_count": 58,
   "metadata": {},
   "outputs": [],
   "source": [
    "word_ds = WordDataset(x, y, y_lengths)\n",
    "word_dl = DataLoader(word_ds, batch_size=100)"
   ]
  },
  {
   "cell_type": "code",
   "execution_count": 59,
   "metadata": {},
   "outputs": [],
   "source": [
    "sample_x, sample_y = next(iter(word_dl))"
   ]
  },
  {
   "cell_type": "code",
   "execution_count": 60,
   "metadata": {
    "scrolled": false
   },
   "outputs": [
    {
     "data": {
      "text/plain": [
       "(torch.Size([100, 51]), torch.Size([100, 51]))"
      ]
     },
     "execution_count": 60,
     "metadata": {},
     "output_type": "execute_result"
    }
   ],
   "source": [
    "sample_x.shape, sample_y.shape"
   ]
  },
  {
   "cell_type": "code",
   "execution_count": 61,
   "metadata": {},
   "outputs": [],
   "source": [
    "D = 5\n",
    "emb_pad = nn.Embedding(1, D)\n",
    "emb_words = nn.Embedding(len(vocab2idx), D)\n",
    "\n",
    "emb_pad.weight.requires_grad = False\n",
    "emb_pad.weight.zero_()\n",
    "emb_words.weight.requires_grad = True"
   ]
  },
  {
   "cell_type": "code",
   "execution_count": 62,
   "metadata": {},
   "outputs": [],
   "source": [
    "TORCH_TENSORS = (torch.FloatTensor, torch.LongTensor, torch.Tensor)\n",
    "\n",
    "class WordModel(nn.Module):\n",
    "    def __init__(self, D, hidden_size, vocab_len = len(vocab2idx)):\n",
    "        \"\"\"\n",
    "        Word Model can be extended and be more sophisticated\n",
    "        \"\"\"\n",
    "        super(WordModel, self).__init__()\n",
    "        # INIT EMBEDDINGS\n",
    "        self.D = D\n",
    "        self.emb_words = nn.Embedding(len(vocab2idx), self.D)\n",
    "        self.emb_words.weight.requires_grad = True\n",
    "        \n",
    "        # RNN\n",
    "        self.hidden_size = hidden_size\n",
    "        self.rnn = nn.RNN(self.D, self.hidden_size, num_layers=1)\n",
    "        self.lin = nn.Linear(self.hidden_size, vocab_len)\n",
    "        \n",
    "    def forward(self, sample_x, hidden=None):\n",
    "        \"\"\"\n",
    "        For Image Caption Model <start>, image feature activations\n",
    "        sample_x: arbitrary length sequence\n",
    "        hidden:  (num_layers * num_directions, batch, hidden_size):\n",
    "        \"\"\"\n",
    "          \n",
    "        batch = self.emb_words(sample_x)\n",
    "        # seq_len, batch_size, input_size=D            \n",
    "        batch = batch.permute(1,0,2)\n",
    "        # rnn forward\n",
    "        if isinstance(hidden, TORCH_TENSORS): out_hidden, hidden_n = self.rnn(batch, hidden)\n",
    "        else: out_hidden, hidden_n = self.rnn(batch)\n",
    "        # output: seq_len, batch_size, vocab_len\n",
    "        out = self.lin(out_hidden)\n",
    "        if self.training:\n",
    "            return out\n",
    "        else:\n",
    "            return self.lin(hidden_n), hidden_n"
   ]
  },
  {
   "cell_type": "code",
   "execution_count": 63,
   "metadata": {},
   "outputs": [],
   "source": [
    "wordmodel = WordModel(5, 100).cuda()"
   ]
  },
  {
   "cell_type": "code",
   "execution_count": 64,
   "metadata": {},
   "outputs": [
    {
     "data": {
      "text/plain": [
       "WordModel(\n",
       "  (emb_words): Embedding(11668, 5)\n",
       "  (rnn): RNN(5, 100)\n",
       "  (lin): Linear(in_features=100, out_features=11668, bias=True)\n",
       ")"
      ]
     },
     "execution_count": 64,
     "metadata": {},
     "output_type": "execute_result"
    }
   ],
   "source": [
    "wordmodel.train()"
   ]
  },
  {
   "cell_type": "code",
   "execution_count": 65,
   "metadata": {},
   "outputs": [
    {
     "data": {
      "text/plain": [
       "True"
      ]
     },
     "execution_count": 65,
     "metadata": {},
     "output_type": "execute_result"
    }
   ],
   "source": [
    "wordmodel.training"
   ]
  },
  {
   "cell_type": "code",
   "execution_count": 66,
   "metadata": {},
   "outputs": [
    {
     "data": {
      "text/plain": [
       "torch.Size([100, 51])"
      ]
     },
     "execution_count": 66,
     "metadata": {},
     "output_type": "execute_result"
    }
   ],
   "source": [
    "sample_x.shape"
   ]
  },
  {
   "cell_type": "code",
   "execution_count": 67,
   "metadata": {},
   "outputs": [
    {
     "data": {
      "text/plain": [
       "tensor([[  1,   3,   4,  ...,   0,   0,   0],\n",
       "        [  1,   3,   4,  ...,   0,   0,   0],\n",
       "        [  1,   3,  21,  ...,   0,   0,   0],\n",
       "        ...,\n",
       "        [  1,   9,  53,  ...,   0,   0,   0],\n",
       "        [  1,   9,  76,  ...,   0,   0,   0],\n",
       "        [  1,   9,  53,  ...,   0,   0,   0]])"
      ]
     },
     "execution_count": 67,
     "metadata": {},
     "output_type": "execute_result"
    }
   ],
   "source": [
    "sample_x"
   ]
  },
  {
   "cell_type": "code",
   "execution_count": 68,
   "metadata": {},
   "outputs": [
    {
     "data": {
      "text/plain": [
       "tensor([   9,   53,  118,   50,   52,    6,  113,   59,  254,    2,\n",
       "           0,    0,    0,    0,    0,    0,    0,    0,    0,    0,\n",
       "           0,    0,    0,    0,    0,    0,    0,    0,    0,    0,\n",
       "           0,    0,    0,    0,    0,    0,    0,    0,    0,    0,\n",
       "           0,    0,    0,    0,    0,    0,    0,    0,    0,    0,\n",
       "           0])"
      ]
     },
     "execution_count": 68,
     "metadata": {},
     "output_type": "execute_result"
    }
   ],
   "source": [
    "sample_y[-1]"
   ]
  },
  {
   "cell_type": "code",
   "execution_count": 69,
   "metadata": {},
   "outputs": [],
   "source": [
    "import torch.nn.functional as F\n",
    "def lang_loss(out, y, y_lengths):\n",
    "    \"\"\"Calculate loss excluding padding elements\"\"\"\n",
    "    out = out.permute(1,0,2)\n",
    "    bs = out.shape[0]\n",
    "    batch_loss = 0\n",
    "    for l, out_i, y_i in zip(y_lengths, out, y):\n",
    "        batch_loss += F.nll_loss(F.log_softmax(out_i[:l], dim=0), y_i[:l], size_average=False)\n",
    "    return batch_loss/bs"
   ]
  },
  {
   "cell_type": "code",
   "execution_count": 70,
   "metadata": {},
   "outputs": [],
   "source": [
    "def lang_loss2(out, y):\n",
    "    out = out.permute(1,0,2)[y != 0, :]\n",
    "    y = y[y != 0]\n",
    "    return F.nll_loss(F.log_softmax(out, dim=0), y, size_average=True)"
   ]
  },
  {
   "cell_type": "code",
   "execution_count": 71,
   "metadata": {},
   "outputs": [],
   "source": [
    "test_x = \"i know\""
   ]
  },
  {
   "cell_type": "code",
   "execution_count": 88,
   "metadata": {},
   "outputs": [],
   "source": [
    "def create_test_tensor(test_x):\n",
    "    return torch.tensor([vocab2idx[w] for w in process_text(test_x)])[None, :]\n",
    "\n",
    "def sample_sentence(model, input_text, k=5, sentence_length=None):\n",
    "    \"\"\"\n",
    "    at the moment random top k sampling\n",
    "    input_text: arbitrary length input to start sampling from\n",
    "    \"\"\"\n",
    "    model = model.eval()\n",
    "    generated = input_text\n",
    "\n",
    "    # initial input - arbitrary size\n",
    "    input_text = create_test_tensor(input_text)\n",
    "    test_out, hidden_prev = model(input_text.cuda())\n",
    "    next_idx = torch.argmax(test_out.view(-1)).item()\n",
    "    next_word = idx2vocab[next_idx]\n",
    "    \n",
    "    if sentence_length is not None:\n",
    "        for i in range(sentence_length):\n",
    "            test_out_np = (test_out.view(-1)).cpu().detach().numpy()\n",
    "            topk = np.argsort(test_out_np)[::-1][:k]\n",
    "            next_idx = np.random.choice(topk)\n",
    "            next_word = idx2vocab[next_idx]\n",
    "            generated += ' ' + next_word\n",
    "            test_x = create_test_tensor(next_word)\n",
    "            test_out, hidden_prev = model(test_x.cuda())\n",
    "    else:\n",
    "        while next_word != '<end>':\n",
    "            test_out_np = (test_out.view(-1)).cpu().detach().numpy()\n",
    "            topk = np.argsort(test_out_np)[::-1][:k]\n",
    "            next_idx = np.random.choice(topk)\n",
    "            next_word = idx2vocab[next_idx]\n",
    "            generated += ' ' + next_word\n",
    "            test_x = create_test_tensor(next_word)\n",
    "            test_out, hidden_prev = model(test_x.cuda())\n",
    "    \n",
    "    return generated"
   ]
  },
  {
   "cell_type": "code",
   "execution_count": 73,
   "metadata": {},
   "outputs": [
    {
     "data": {
      "text/plain": [
       "'white rabbit binders ceramic ceramic ceramic ceramic ceramic ceramic ceramic ceramic ceramic ceramic ceramic ceramic ceramic ceramic ceramic ceramic ceramic ceramic ceramic ceramic ceramic ceramic ceramic ceramic ceramic ceramic ceramic ceramic ceramic ceramic ceramic ceramic ceramic ceramic ceramic ceramic ceramic ceramic ceramic'"
      ]
     },
     "execution_count": 73,
     "metadata": {},
     "output_type": "execute_result"
    }
   ],
   "source": [
    "sample_sentence(wordmodel, 'white rabbit', 40)"
   ]
  },
  {
   "cell_type": "markdown",
   "metadata": {},
   "source": [
    "### Training"
   ]
  },
  {
   "cell_type": "code",
   "execution_count": 76,
   "metadata": {},
   "outputs": [],
   "source": [
    "trn_len = 120000\n",
    "trn_ds = WordDataset(x[:trn_len], y[:trn_len], y_lengths[:trn_len])\n",
    "trn_dl = DataLoader(trn_ds, batch_size=500)\n",
    "val_ds = WordDataset(x[trn_len:], y[trn_len:], y_lengths[trn_len:])\n",
    "val_dl = DataLoader(trn_ds, batch_size=500)"
   ]
  },
  {
   "cell_type": "code",
   "execution_count": 82,
   "metadata": {},
   "outputs": [],
   "source": [
    "# PyTorch v 0.4\n",
    "# https://pytorch.org/2018/04/22/0_4_0-migration-guide.html\n",
    "import torch.nn.functional as F\n",
    "from tqdm import tqdm\n",
    "\n",
    "#for restoring model\n",
    "TORCH_CUDA_TENSOR = (\n",
    "        torch.cuda.FloatTensor,\n",
    "        torch.cuda.DoubleTensor,\n",
    "        torch.cuda.HalfTensor,\n",
    "        torch.cuda.ByteTensor,\n",
    "        torch.cuda.CharTensor,\n",
    "        torch.cuda.ShortTensor,\n",
    "        torch.cuda.IntTensor,\n",
    "        torch.cuda.LongTensor\n",
    ")\n",
    "\n",
    "def get_optimizer(model, optim, lr = 0.01, wd = 0.0):\n",
    "    parameters = filter(lambda p: p.requires_grad, model.parameters())\n",
    "    optim = optim(parameters, lr=lr, weight_decay=wd)\n",
    "    return optim\n",
    "        \n",
    "##lrfind\n",
    "def save_model(m, p): torch.save(m.state_dict(), p)\n",
    "\n",
    "def load_model(m, p): m.load_state_dict(torch.load(p))\n",
    "\n",
    "# Average meter counter\n",
    "class AverageMeter(object):\n",
    "    \"\"\"Computes and stores the average and current value\"\"\"\n",
    "    def __init__(self):\n",
    "        self.reset()\n",
    "\n",
    "    def reset(self):\n",
    "        self.val = 0\n",
    "        self.avg = 0\n",
    "        self.sum = 0\n",
    "        self.count = 0\n",
    "\n",
    "    def update(self, val, n=1):\n",
    "        self.val = val\n",
    "        self.sum += val * n\n",
    "        self.count += n\n",
    "        self.avg = self.sum / self.count # moving average\n",
    "\n",
    "\n",
    "        \n",
    "#class Classifier: main classifier class\n",
    "\n",
    "### TODO Different Child Classifiers: ImageClassifier(Classifier) \n",
    "# implement : https://distill.pub/2017/feature-visualization/\n",
    "\n",
    "class Classifier:\n",
    "    def __init__(self, model, optim, crit, metric, gpu=1):\n",
    "        \"\"\"\n",
    "        Initialize classifier with model, optimizer, criterion and metric\n",
    "        \"\"\"\n",
    "        \n",
    "        ### TODO: Add early stopping\n",
    "        self.model = model\n",
    "        self.epoch_counter = 0  # counts number of epochs\n",
    "        self.use_cuda = torch.cuda.is_available()  # enable cuda if gpu available\n",
    "        self.gpu = gpu  # gpu id to train on\n",
    "        self.optim = optim  # optimizer to use\n",
    "        self.crit = crit  # loss function to use\n",
    "        self.metric = metric  # metric to use\n",
    "        self.loss_metric_summary = [] # summary for training\n",
    "        self.device = torch.device(f\"cuda:{self.gpu}\" if self.use_cuda else \"cpu\")\n",
    "\n",
    "\n",
    "    def _validate_epoch(self, val_dl):\n",
    "        \"\"\"\n",
    "        Validate by self._criterion\n",
    "        \"\"\"\n",
    "        losses = AverageMeter()  # reset for epoch\n",
    "        metrics = AverageMeter()  # reset for epoch\n",
    "        batch_size = val_dl.batch_size\n",
    "        \n",
    "        with torch.no_grad():\n",
    "            for x, y in val_dl:\n",
    "                if isinstance(x, list): x=[xi.to(self.device) for xi in x]\n",
    "                else: x = [x.to(self.device)]\n",
    "                y = y.to(self.device)\n",
    "\n",
    "                # forward\n",
    "                out = self.model(*x)\n",
    "\n",
    "                # compute and update loss\n",
    "                loss = self.crit(out, y)\n",
    "                losses.update(loss.item(), batch_size)\n",
    "\n",
    "                # compute and update metric\n",
    "                metric = self.metric(out, y)\n",
    "                metrics.update(metric.item(), batch_size)\n",
    "\n",
    "        return losses.avg, metrics.avg\n",
    "\n",
    "    def _train_epoch(self, trn_dl, optimizer):\n",
    "        \"\"\"\n",
    "        Optimize by self._criterion and self.optimizer\n",
    "        \"\"\"\n",
    "        losses = AverageMeter()  # reset for epoch\n",
    "        metrics = AverageMeter()  # reset for epoch\n",
    "        batch_size = trn_dl.batch_size\n",
    "        \n",
    "        for x, y in tqdm(trn_dl):\n",
    "            if isinstance(x, list): x=[xi.to(self.device) for xi in x]\n",
    "            else: x = [x.to(self.device)]\n",
    "            y = y.to(self.device)\n",
    "                \n",
    "            # forward\n",
    "            out = self.model(*x)\n",
    "\n",
    "            # compute and update loss\n",
    "            loss = self.crit(out, y)\n",
    "            losses.update(loss.item(), batch_size)\n",
    "            \n",
    "            # TODO : allow multiple metrics\n",
    "            metric = self.metric(out, y) \n",
    "            metrics.update(metric.item(), batch_size)\n",
    "\n",
    "            # backprop - update weights\n",
    "            optimizer.zero_grad()\n",
    "            loss.backward()\n",
    "            optimizer.step()\n",
    "\n",
    "        return losses.avg, metrics.avg\n",
    "\n",
    "    def _run_epoch(self, trn_dl, val_dl, optimizer):\n",
    "        \"\"\"\n",
    "        Run a single epoch and print out loss and metric\n",
    "        \"\"\"\n",
    "        self.model.train() # train mode\n",
    "        train_loss, train_metric = self._train_epoch(trn_dl, optimizer)\n",
    "\n",
    "        #self.model.eval() # eval mode (Batchnorm, Dropout, ...)\n",
    "        val_loss, val_metric = self._validate_epoch(val_dl)\n",
    "        \n",
    "        self.epoch_counter += 1\n",
    "        \n",
    "        print(f\"Epoch: {self.epoch_counter}\")\n",
    "        print(f\"{self.crit.__name__} : [{round(train_loss, 3)}, {round(val_loss, 3)}]\\\n",
    "        {self.metric.__name__} : [{round(train_metric, 3)}, {round(val_metric, 3)}]\")\n",
    "        print()\n",
    "\n",
    "        return (train_loss, val_loss, train_metric, val_metric)\n",
    "    \n",
    "    def train(self, lr, wd, trn_dl, val_dl, epochs):\n",
    "        \"\"\"\n",
    "        Train for n eopchs\n",
    "        \"\"\"\n",
    "        # optimizer\n",
    "        optimizer = get_optimizer(self.model, self.optim, lr=lr, wd=wd)\n",
    "        \n",
    "        if self.use_cuda:\n",
    "            self.model.cuda(self.gpu)\n",
    "        \n",
    "        for epoch in range(epochs):\n",
    "            loss_metric = self._run_epoch(trn_dl, val_dl, optimizer)\n",
    "            self.loss_metric_summary.append([self.epoch_counter, loss_metric])\n",
    "        \n",
    "\n",
    "    def lr_find(self, trn_dl, lr_low=1e-5, lr_high=1, epochs=2, n_iter=100):\n",
    "        losses = []\n",
    "        path = \"/tmp/mode_tmp.pth\"\n",
    "        save_model(self.model, str(path))\n",
    "        iterations = epochs * len(trn_dl)\n",
    "        delta = (lr_high - lr_low)/iterations\n",
    "        lrs = [lr_low + i*delta for i in range(iterations)] # increase linearly\n",
    "        self.model.train()\n",
    "        ind = 0\n",
    "        for i in tqdm(range(epochs)):\n",
    "            for x, y in tqdm(trn_dl):\n",
    "                # changing learning rate at each iteration\n",
    "                optimizer = get_optimizer(self.model, self.optim, lr=lrs[ind])\n",
    "                if isinstance(x, list): x=[xi.to(self.device) for xi in x]\n",
    "                else: x = [x.to(self.device)]\n",
    "                y = y.to(self.device) \n",
    "                out = self.model(*x)\n",
    "                loss = self.crit(out, y)\n",
    "                optimizer.zero_grad()\n",
    "                loss.backward()\n",
    "                optimizer.step()\n",
    "                losses.append(loss.item())\n",
    "                ind +=1\n",
    "\n",
    "        load_model(self.model, path)\n",
    "        return lrs, losses\n",
    "           \n",
    "        \n",
    "    def restore_model(self, path):\n",
    "        \"\"\"\n",
    "        Restore a model parameters from the given path\n",
    "        Inputs:\n",
    "            model_path (str): The path to the model to restore\n",
    "        https://github.com/pytorch/pytorch/issues/2830\n",
    "        \"\"\"\n",
    "        state = torch.load(path)\n",
    "        self.model.load_state_dict(state['state_dict'])\n",
    "        self.optimizer.load_state_dict(state['optimizer'])\n",
    "        self.epoch_counter = state['epoch']  # counts number of epochs\n",
    "        \n",
    "        if self.use_cuda: \n",
    "            ### add other tensor types\n",
    "            for state in self.optimizer.state.values():\n",
    "                for k, v in state.items():\n",
    "                    if isinstance(v, TORCH_CUDA_TENSOR):\n",
    "                        state[k] = v.cuda(self.gpu)\n",
    "\n",
    "    def save_model(self, path):\n",
    "        # FIX SAVE MODEL WITH get_optimizer\n",
    "        state = {\n",
    "            'epoch': self.epoch_counter,\n",
    "            'state_dict': self.model.state_dict(),\n",
    "            'optimizer': self.optimizer.state_dict()\n",
    "        }\n",
    "        torch.save(state, path)\n",
    "\n",
    "    def predict(self, test_dl):\n",
    "        # eval mode\n",
    "        self.model.eval()\n",
    "        preds = []\n",
    "        with torch.no_grad():\n",
    "            for x in enumerate(test_dl):\n",
    "                if self.use_cuda:\n",
    "                    if isinstance(x, list): x=[xi.to(self.device) for xi in x]\n",
    "                    else: x = [x.to(self.device)]\n",
    "                        \n",
    "            out = self.model(*x)\n",
    "            out = out.items().to(torch.device(\"cpu\"))\n",
    "            preds.append(out)\n",
    "        return preds\n",
    "    \n",
    "    def plot_loss_metric(self):\n",
    "        losses = [lm[:2] for _, lm in self.loss_metric_summary]\n",
    "        metrics = [lm[2:] for _, lm in self.loss_metric_summary]\n",
    "        losses = list(enumerate(losses))\n",
    "        metrics = list(enumerate(metrics))\n",
    "        trn_loss, val_loss = zip(*losses)\n",
    "        trn_metric, val_metric = zip(*metrics)\n",
    "\n",
    "        fig, ax = plt.subplots(2,1, figsize=(18, 15))\n",
    "        titles = (f\"Loss Curve : {self.crit.__name__}\",f\"Metric Curve : {self.metric.__name__}\")\n",
    "        \n",
    "        for axes, (trn_stat, val_stat), tit in zip(ax.flatten(),\n",
    "                                                  ((trn_loss, val_loss), (trn_metric, val_metric)),titles):\n",
    "            axes.set_title(tit, fontdict={'fontsize':20})\n",
    "            axes.plot(trn_stat, val_stat)\n",
    "            axes.legend((\"train\", \"val\"), fontsize='xx-large')"
   ]
  },
  {
   "cell_type": "code",
   "execution_count": 83,
   "metadata": {},
   "outputs": [],
   "source": [
    "D = 5\n",
    "optim = torch.optim.Adam\n",
    "model = WordModel(D, 100).cuda()\n",
    "crit = lang_loss2\n",
    "metric = lang_loss2\n",
    "classifier = Classifier(model, optim, crit, metric, gpu=0)"
   ]
  },
  {
   "cell_type": "code",
   "execution_count": 79,
   "metadata": {
    "scrolled": true
   },
   "outputs": [],
   "source": [
    "#lrs, losses = classifier.lr_find(trn_dl, epochs=1)\n",
    "#plt.plot(lrs[:10], losses[:10])"
   ]
  },
  {
   "cell_type": "code",
   "execution_count": 84,
   "metadata": {
    "scrolled": true
   },
   "outputs": [
    {
     "name": "stderr",
     "output_type": "stream",
     "text": [
      "100%|██████████| 240/240 [02:03<00:00,  1.94it/s]\n",
      "  0%|          | 0/240 [00:00<?, ?it/s]"
     ]
    },
    {
     "name": "stdout",
     "output_type": "stream",
     "text": [
      "Epoch: 1\n",
      "lang_loss2 : [7.245, 6.933]        lang_loss2 : [7.245, 6.933]\n",
      "\n"
     ]
    },
    {
     "name": "stderr",
     "output_type": "stream",
     "text": [
      "100%|██████████| 240/240 [02:04<00:00,  1.93it/s]\n",
      "  0%|          | 0/240 [00:00<?, ?it/s]"
     ]
    },
    {
     "name": "stdout",
     "output_type": "stream",
     "text": [
      "Epoch: 2\n",
      "lang_loss2 : [6.86, 6.815]        lang_loss2 : [6.86, 6.815]\n",
      "\n"
     ]
    },
    {
     "name": "stderr",
     "output_type": "stream",
     "text": [
      "100%|██████████| 240/240 [02:04<00:00,  1.92it/s]\n",
      "  0%|          | 0/240 [00:00<?, ?it/s]"
     ]
    },
    {
     "name": "stdout",
     "output_type": "stream",
     "text": [
      "Epoch: 3\n",
      "lang_loss2 : [6.76, 6.756]        lang_loss2 : [6.76, 6.756]\n",
      "\n"
     ]
    },
    {
     "name": "stderr",
     "output_type": "stream",
     "text": [
      "100%|██████████| 240/240 [02:04<00:00,  1.92it/s]\n",
      "  0%|          | 0/240 [00:00<?, ?it/s]"
     ]
    },
    {
     "name": "stdout",
     "output_type": "stream",
     "text": [
      "Epoch: 4\n",
      "lang_loss2 : [6.717, 6.732]        lang_loss2 : [6.717, 6.732]\n",
      "\n"
     ]
    },
    {
     "name": "stderr",
     "output_type": "stream",
     "text": [
      "100%|██████████| 240/240 [02:04<00:00,  1.92it/s]\n",
      "  0%|          | 0/240 [00:00<?, ?it/s]"
     ]
    },
    {
     "name": "stdout",
     "output_type": "stream",
     "text": [
      "Epoch: 5\n",
      "lang_loss2 : [6.691, 6.728]        lang_loss2 : [6.691, 6.728]\n",
      "\n"
     ]
    },
    {
     "name": "stderr",
     "output_type": "stream",
     "text": [
      "100%|██████████| 240/240 [02:04<00:00,  1.92it/s]\n",
      "  0%|          | 0/240 [00:00<?, ?it/s]"
     ]
    },
    {
     "name": "stdout",
     "output_type": "stream",
     "text": [
      "Epoch: 6\n",
      "lang_loss2 : [6.679, 6.693]        lang_loss2 : [6.679, 6.693]\n",
      "\n"
     ]
    },
    {
     "name": "stderr",
     "output_type": "stream",
     "text": [
      "100%|██████████| 240/240 [02:04<00:00,  1.93it/s]\n",
      "  0%|          | 0/240 [00:00<?, ?it/s]"
     ]
    },
    {
     "name": "stdout",
     "output_type": "stream",
     "text": [
      "Epoch: 7\n",
      "lang_loss2 : [6.66, 6.702]        lang_loss2 : [6.66, 6.702]\n",
      "\n"
     ]
    },
    {
     "name": "stderr",
     "output_type": "stream",
     "text": [
      "100%|██████████| 240/240 [02:04<00:00,  1.92it/s]\n",
      "  0%|          | 0/240 [00:00<?, ?it/s]"
     ]
    },
    {
     "name": "stdout",
     "output_type": "stream",
     "text": [
      "Epoch: 8\n",
      "lang_loss2 : [6.656, 6.688]        lang_loss2 : [6.656, 6.688]\n",
      "\n"
     ]
    },
    {
     "name": "stderr",
     "output_type": "stream",
     "text": [
      "100%|██████████| 240/240 [02:04<00:00,  1.93it/s]\n",
      "  0%|          | 0/240 [00:00<?, ?it/s]"
     ]
    },
    {
     "name": "stdout",
     "output_type": "stream",
     "text": [
      "Epoch: 9\n",
      "lang_loss2 : [6.649, 6.677]        lang_loss2 : [6.649, 6.677]\n",
      "\n"
     ]
    },
    {
     "name": "stderr",
     "output_type": "stream",
     "text": [
      "100%|██████████| 240/240 [02:04<00:00,  1.92it/s]\n"
     ]
    },
    {
     "name": "stdout",
     "output_type": "stream",
     "text": [
      "Epoch: 10\n",
      "lang_loss2 : [6.64, 6.661]        lang_loss2 : [6.64, 6.661]\n",
      "\n"
     ]
    }
   ],
   "source": [
    "classifier.train(0.02, 0, trn_dl, val_dl, 10)"
   ]
  },
  {
   "cell_type": "code",
   "execution_count": 156,
   "metadata": {},
   "outputs": [],
   "source": [
    "save_model(classifier.model, 'wordmodel')"
   ]
  },
  {
   "cell_type": "code",
   "execution_count": 90,
   "metadata": {},
   "outputs": [
    {
     "data": {
      "text/plain": [
       "'lady pause dwindling coat hers pitched hill attaching kayak buffaloes motel poodle attaching kayak buffaloes motel poodle attaching kayak buffaloes motel poodle attaching kayak buffaloes motel poodle attaching kayak buffaloes motel'"
      ]
     },
     "execution_count": 90,
     "metadata": {},
     "output_type": "execute_result"
    }
   ],
   "source": [
    "sample_sentence(classifier.model, 'lady', 30)"
   ]
  },
  {
   "cell_type": "code",
   "execution_count": 91,
   "metadata": {},
   "outputs": [
    {
     "data": {
      "text/plain": [
       "'birds medallion blown spoked hill attaching kayak buffaloes motel poodle attaching kayak buffaloes motel poodle attaching kayak buffaloes motel poodle attaching kayak buffaloes motel poodle attaching kayak buffaloes motel poodle attaching'"
      ]
     },
     "execution_count": 91,
     "metadata": {},
     "output_type": "execute_result"
    }
   ],
   "source": [
    "sample_sentence(classifier.model, 'birds', 30)"
   ]
  },
  {
   "cell_type": "code",
   "execution_count": 94,
   "metadata": {},
   "outputs": [
    {
     "data": {
      "text/plain": [
       "'<start> hill attaching kayak buffaloes motel poodle attaching kayak buffaloes motel poodle attaching kayak buffaloes motel poodle attaching kayak buffaloes motel poodle attaching kayak buffaloes motel poodle attaching kayak buffaloes motel'"
      ]
     },
     "execution_count": 94,
     "metadata": {},
     "output_type": "execute_result"
    }
   ],
   "source": [
    "sample_sentence(classifier.model, '<start>', 30)"
   ]
  },
  {
   "cell_type": "code",
   "execution_count": 93,
   "metadata": {},
   "outputs": [
    {
     "data": {
      "image/png": "[encoded data removed]",
      "text/plain": [
       "<Figure size 1296x1080 with 2 Axes>"
      ]
     },
     "metadata": {},
     "output_type": "display_data"
    }
   ],
   "source": [
    "classifier.plot_loss_metric()"
   ]
  },
  {
   "cell_type": "code",
   "execution_count": 154,
   "metadata": {},
   "outputs": [
    {
     "data": {
      "text/plain": [
       "'<start> put affection devices blown sparse fourth fences automobiles dont put soon sniff netting provide cupcakes upon fencing captures pjs mitt duty buggy focused wheat focused buggy roads linked device because chains put soon push shears fences featuring automobiles capped slow fetched fetched disorganized automobiles capped slow fetched disorganized march flatbed gardens gardens bales would formations patrons blown fourth buggy danger charging mean incredibly camel nibbles buggy roads graphic arc quarters returns cupcakes assortment cupcakes assortment puppies focused dust keeper featured time entire plank duty mark fences capped put soon predators duty mark puppies featured possibly blown dust keeper focused fourth'"
      ]
     },
     "execution_count": 154,
     "metadata": {},
     "output_type": "execute_result"
    }
   ],
   "source": [
    "sample_sentence(classifier.model, '<start>', 5, 100)"
   ]
  },
  {
   "cell_type": "code",
   "execution_count": null,
   "metadata": {},
   "outputs": [],
   "source": []
  },
  {
   "cell_type": "code",
   "execution_count": null,
   "metadata": {},
   "outputs": [],
   "source": []
  }
 ],
 "metadata": {
  "kernelspec": {
   "display_name": "Python [conda env:anaconda3]",
   "language": "python",
   "name": "conda-env-anaconda3-py"
  },
  "language_info": {
   "codemirror_mode": {
    "name": "ipython",
    "version": 3
   },
   "file_extension": ".py",
   "mimetype": "text/x-python",
   "name": "python",
   "nbconvert_exporter": "python",
   "pygments_lexer": "ipython3",
   "version": "3.6.4"
  }
 },
 "nbformat": 4,
 "nbformat_minor": 2
}
