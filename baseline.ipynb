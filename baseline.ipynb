{
 "cells": [
  {
   "cell_type": "code",
   "execution_count": 1,
   "metadata": {},
   "outputs": [],
   "source": [
    "from pathlib import Path\n",
    "import pandas as pd\n",
    "import cv2\n",
    "import os\n",
    "import numpy as np\n",
    "import matplotlib.pyplot as plt\n",
    "%matplotlib inline"
   ]
  },
  {
   "cell_type": "code",
   "execution_count": 2,
   "metadata": {},
   "outputs": [
    {
     "data": {
      "text/plain": [
       "'1.13.3'"
      ]
     },
     "execution_count": 2,
     "metadata": {},
     "output_type": "execute_result"
    }
   ],
   "source": [
    "# this was a problem for packed rnn \n",
    "np.__version__"
   ]
  },
  {
   "cell_type": "code",
   "execution_count": 3,
   "metadata": {},
   "outputs": [],
   "source": [
    "PATH = ''\n",
    "TRN_PATH = 'data/COCO/images/train2014/'\n",
    "VAL_PATH = 'data/COCO/images/val2014/'"
   ]
  },
  {
   "cell_type": "code",
   "execution_count": 4,
   "metadata": {},
   "outputs": [],
   "source": [
    "VAL_CSV = 'val2014.csv'\n",
    "TRN_CSV = 'train2014.csv'"
   ]
  },
  {
   "cell_type": "code",
   "execution_count": 5,
   "metadata": {},
   "outputs": [],
   "source": [
    "paths = list(Path(PATH).iterdir())"
   ]
  },
  {
   "cell_type": "code",
   "execution_count": 6,
   "metadata": {},
   "outputs": [],
   "source": [
    "train = pd.read_csv(PATH+TRN_CSV)\n",
    "val = pd.read_csv(PATH+VAL_CSV)"
   ]
  },
  {
   "cell_type": "code",
   "execution_count": 7,
   "metadata": {},
   "outputs": [
    {
     "data": {
      "text/plain": [
       "Index(['img_fname', 'caption1', 'caption2', 'caption3', 'caption4',\n",
       "       'caption5'],\n",
       "      dtype='object')"
      ]
     },
     "execution_count": 7,
     "metadata": {},
     "output_type": "execute_result"
    }
   ],
   "source": [
    "train.columns"
   ]
  },
  {
   "cell_type": "code",
   "execution_count": 8,
   "metadata": {},
   "outputs": [],
   "source": [
    "def open_image(fn):\n",
    "    \"\"\" Opens an image using OpenCV given the file path.\n",
    "\n",
    "    Arguments:\n",
    "        fn: the file path of the image\n",
    "\n",
    "    Returns:\n",
    "        The image in RGB format as numpy array of floats normalized to range between 0.0 - 1.0\n",
    "    \"\"\"\n",
    "    flags = cv2.IMREAD_UNCHANGED+cv2.IMREAD_ANYDEPTH+cv2.IMREAD_ANYCOLOR\n",
    "    if not os.path.exists(fn):\n",
    "        raise OSError('No such file or directory: {}'.format(fn))\n",
    "    elif os.path.isdir(fn):\n",
    "        raise OSError('Is a directory: {}'.format(fn))\n",
    "    else:\n",
    "        #res = np.array(Image.open(fn), dtype=np.float32)/255\n",
    "        #if len(res.shape)==2: res = np.repeat(res[...,None],3,2)\n",
    "        #return res\n",
    "        try:\n",
    "            im = cv2.imread(str(fn), flags).astype(np.float32)/255\n",
    "            if im is None: raise OSError(f'File not recognized by opencv: {fn}')\n",
    "            return cv2.cvtColor(im, cv2.COLOR_BGR2RGB)\n",
    "        except Exception as e:\n",
    "            raise OSError('Error handling image at: {}'.format(fn)) from e"
   ]
  },
  {
   "cell_type": "code",
   "execution_count": 9,
   "metadata": {},
   "outputs": [
    {
     "data": {
      "text/html": [
       "<div>\n",
       "<style scoped>\n",
       "    .dataframe tbody tr th:only-of-type {\n",
       "        vertical-align: middle;\n",
       "    }\n",
       "\n",
       "    .dataframe tbody tr th {\n",
       "        vertical-align: top;\n",
       "    }\n",
       "\n",
       "    .dataframe thead th {\n",
       "        text-align: right;\n",
       "    }\n",
       "</style>\n",
       "<table border=\"1\" class=\"dataframe\">\n",
       "  <thead>\n",
       "    <tr style=\"text-align: right;\">\n",
       "      <th></th>\n",
       "      <th>img_fname</th>\n",
       "      <th>caption1</th>\n",
       "      <th>caption2</th>\n",
       "      <th>caption3</th>\n",
       "      <th>caption4</th>\n",
       "      <th>caption5</th>\n",
       "    </tr>\n",
       "  </thead>\n",
       "  <tbody>\n",
       "    <tr>\n",
       "      <th>0</th>\n",
       "      <td>COCO_train2014_000000425988.jpg</td>\n",
       "      <td>Two ducks floating on top of a lake with brown...</td>\n",
       "      <td>Two ducks are swimming on the lake next to eac...</td>\n",
       "      <td>Two geese swimming on the water and looking to...</td>\n",
       "      <td>Two ducks facing the same direction, wading in...</td>\n",
       "      <td>Two geese resting in a body of water</td>\n",
       "    </tr>\n",
       "    <tr>\n",
       "      <th>1</th>\n",
       "      <td>COCO_train2014_000000040971.jpg</td>\n",
       "      <td>A long bill bird standing on a beach next to t...</td>\n",
       "      <td>A small bird with a long, skinny beak walks on...</td>\n",
       "      <td>Long beaked brown bird walking on a beach.</td>\n",
       "      <td>a close up of a bird on a beach near a body of...</td>\n",
       "      <td>A bird with a pink beak is on the beach.</td>\n",
       "    </tr>\n",
       "  </tbody>\n",
       "</table>\n",
       "</div>"
      ],
      "text/plain": [
       "                         img_fname  \\\n",
       "0  COCO_train2014_000000425988.jpg   \n",
       "1  COCO_train2014_000000040971.jpg   \n",
       "\n",
       "                                            caption1  \\\n",
       "0  Two ducks floating on top of a lake with brown...   \n",
       "1  A long bill bird standing on a beach next to t...   \n",
       "\n",
       "                                            caption2  \\\n",
       "0  Two ducks are swimming on the lake next to eac...   \n",
       "1  A small bird with a long, skinny beak walks on...   \n",
       "\n",
       "                                            caption3  \\\n",
       "0  Two geese swimming on the water and looking to...   \n",
       "1         Long beaked brown bird walking on a beach.   \n",
       "\n",
       "                                            caption4  \\\n",
       "0  Two ducks facing the same direction, wading in...   \n",
       "1  a close up of a bird on a beach near a body of...   \n",
       "\n",
       "                                   caption5  \n",
       "0      Two geese resting in a body of water  \n",
       "1  A bird with a pink beak is on the beach.  "
      ]
     },
     "execution_count": 9,
     "metadata": {},
     "output_type": "execute_result"
    }
   ],
   "source": [
    "train.head(2)"
   ]
  },
  {
   "cell_type": "code",
   "execution_count": 10,
   "metadata": {},
   "outputs": [
    {
     "data": {
      "text/html": [
       "<div>\n",
       "<style scoped>\n",
       "    .dataframe tbody tr th:only-of-type {\n",
       "        vertical-align: middle;\n",
       "    }\n",
       "\n",
       "    .dataframe tbody tr th {\n",
       "        vertical-align: top;\n",
       "    }\n",
       "\n",
       "    .dataframe thead th {\n",
       "        text-align: right;\n",
       "    }\n",
       "</style>\n",
       "<table border=\"1\" class=\"dataframe\">\n",
       "  <thead>\n",
       "    <tr style=\"text-align: right;\">\n",
       "      <th></th>\n",
       "      <th>img_fname</th>\n",
       "      <th>caption1</th>\n",
       "      <th>caption2</th>\n",
       "      <th>caption3</th>\n",
       "      <th>caption4</th>\n",
       "      <th>caption5</th>\n",
       "    </tr>\n",
       "  </thead>\n",
       "  <tbody>\n",
       "    <tr>\n",
       "      <th>0</th>\n",
       "      <td>COCO_val2014_000000235522.jpg</td>\n",
       "      <td>Three giraffe eating greens in a field next to...</td>\n",
       "      <td>A herd of giraffes eating shrubs on a plain wi...</td>\n",
       "      <td>four giraffes standing or eating in their natu...</td>\n",
       "      <td>A painting of giraffes eating in the tall grass.</td>\n",
       "      <td>Giraffes graze on low shrubs under a cloudy sky.</td>\n",
       "    </tr>\n",
       "    <tr>\n",
       "      <th>1</th>\n",
       "      <td>COCO_val2014_000000055299.jpg</td>\n",
       "      <td>A bird is perched on a large rock near the shore.</td>\n",
       "      <td>a large bird perched on a rock on a beach next...</td>\n",
       "      <td>The animal is sitting on the rocks looking at ...</td>\n",
       "      <td>A bird that is sitting on a rock near the water.</td>\n",
       "      <td>The large bird stands on rocks near the beach.</td>\n",
       "    </tr>\n",
       "  </tbody>\n",
       "</table>\n",
       "</div>"
      ],
      "text/plain": [
       "                       img_fname  \\\n",
       "0  COCO_val2014_000000235522.jpg   \n",
       "1  COCO_val2014_000000055299.jpg   \n",
       "\n",
       "                                            caption1  \\\n",
       "0  Three giraffe eating greens in a field next to...   \n",
       "1  A bird is perched on a large rock near the shore.   \n",
       "\n",
       "                                            caption2  \\\n",
       "0  A herd of giraffes eating shrubs on a plain wi...   \n",
       "1  a large bird perched on a rock on a beach next...   \n",
       "\n",
       "                                            caption3  \\\n",
       "0  four giraffes standing or eating in their natu...   \n",
       "1  The animal is sitting on the rocks looking at ...   \n",
       "\n",
       "                                           caption4  \\\n",
       "0  A painting of giraffes eating in the tall grass.   \n",
       "1  A bird that is sitting on a rock near the water.   \n",
       "\n",
       "                                           caption5  \n",
       "0  Giraffes graze on low shrubs under a cloudy sky.  \n",
       "1    The large bird stands on rocks near the beach.  "
      ]
     },
     "execution_count": 10,
     "metadata": {},
     "output_type": "execute_result"
    }
   ],
   "source": [
    "val.head(2)"
   ]
  },
  {
   "cell_type": "markdown",
   "metadata": {},
   "source": [
    "### DATASET"
   ]
  },
  {
   "cell_type": "code",
   "execution_count": 11,
   "metadata": {},
   "outputs": [],
   "source": [
    "from torch.utils.data import Dataset\n",
    "from torch.utils.data import DataLoader\n",
    "import cv2\n",
    "from torch import FloatTensor as FT\n",
    "\n",
    "def resize(im, sz):\n",
    "    return cv2.resize(im, (sz, sz), interpolation = cv2.INTER_AREA)\n",
    "\n",
    "imagenet_stats = np.array([[0.485, 0.456, 0.406], [0.229, 0.224, 0.225]])\n",
    "\n",
    "def normalize(im, stats):\n",
    "    \"\"\"Normalizes images with Imagenet stats.\"\"\"\n",
    "    return (im - stats[0])/stats[1]\n",
    "\n",
    "def denormalize(im, stats):\n",
    "    \"\"\"Normalizes images with Imagenet stats.\"\"\"\n",
    "    return im*stats[1] + stats[0]\n",
    "\n",
    "class SimpleDataset(Dataset):\n",
    "    def __init__(self, path, df, sz=224, stats=imagenet_stats):\n",
    "        self.path = path\n",
    "        self.df = df\n",
    "        self.fnames = self.df.iloc[:, 0].values\n",
    "        self.ys = self.df.iloc[:, 1:].values\n",
    "        \n",
    "        self.sz = sz\n",
    "        self.stats = stats\n",
    "        \n",
    "    def __getitem__(self, index):\n",
    "        x = open_image(self.path + self.fnames[index])\n",
    "        if self.sz: x = resize(x, self.sz)\n",
    "        x = normalize(x, self.stats)\n",
    "        x = np.rollaxis(x, 2)\n",
    "        return FT(x), (self.ys[index]).tolist()\n",
    "    \n",
    "    def denorm(self, x):\n",
    "        x = x.numpy()\n",
    "        x = x.transpose(1,2,0)\n",
    "        x = denormalize(x, self.stats)\n",
    "        return x\n",
    "        \n",
    "    def __len__(self):\n",
    "        return len(self.fnames)"
   ]
  },
  {
   "cell_type": "code",
   "execution_count": 12,
   "metadata": {},
   "outputs": [],
   "source": [
    "trn_ds = SimpleDataset(TRN_PATH, train)\n",
    "val_ds = SimpleDataset(VAL_PATH, val)\n",
    "trn_dl = DataLoader(trn_ds, batch_size=1)\n",
    "val_dl = DataLoader(val_ds, batch_size=1)"
   ]
  },
  {
   "cell_type": "code",
   "execution_count": 13,
   "metadata": {},
   "outputs": [],
   "source": [
    "x,y = trn_ds.__getitem__(0)"
   ]
  },
  {
   "cell_type": "code",
   "execution_count": 14,
   "metadata": {},
   "outputs": [
    {
     "name": "stdout",
     "output_type": "stream",
     "text": [
      "['Two ducks floating on top of a lake with brown water.', 'Two ducks are swimming on the lake next to each other.', 'Two geese swimming on the water and looking toward the camera.', 'Two ducks facing the same direction, wading in a pond.', 'Two geese resting in a body of water']\n"
     ]
    },
    {
     "data": {
      "text/plain": [
       "<matplotlib.image.AxesImage at 0x7fa8706ec160>"
      ]
     },
     "execution_count": 14,
     "metadata": {},
     "output_type": "execute_result"
    },
    {
     "data": {
      "image/png": "[encoded data removed]",
      "text/plain": [
       "<Figure size 432x288 with 1 Axes>"
      ]
     },
     "metadata": {},
     "output_type": "display_data"
    }
   ],
   "source": [
    "print(y)\n",
    "plt.imshow(trn_ds.denorm(x))"
   ]
  },
  {
   "cell_type": "code",
   "execution_count": 15,
   "metadata": {},
   "outputs": [
    {
     "name": "stdout",
     "output_type": "stream",
     "text": [
      "['Three giraffe eating greens in a field next to lots of trees.', 'A herd of giraffes eating shrubs on a plain with trees in the background.', 'four giraffes standing or eating in their natural habitat', 'A painting of giraffes eating in the tall grass.', 'Giraffes graze on low shrubs under a cloudy sky.']\n"
     ]
    },
    {
     "data": {
      "text/plain": [
       "<matplotlib.image.AxesImage at 0x7fa8705ff400>"
      ]
     },
     "execution_count": 15,
     "metadata": {},
     "output_type": "execute_result"
    },
    {
     "data": {
      "image/png": "[encoded data removed]",
      "text/plain": [
       "<Figure size 432x288 with 1 Axes>"
      ]
     },
     "metadata": {},
     "output_type": "display_data"
    }
   ],
   "source": [
    "x,y = val_ds.__getitem__(0)\n",
    "print(y)\n",
    "plt.imshow(val_ds.denorm(x))"
   ]
  },
  {
   "cell_type": "markdown",
   "metadata": {},
   "source": [
    "### Image Encoder"
   ]
  },
  {
   "cell_type": "markdown",
   "metadata": {},
   "source": [
    "We could use this model as part of a broader image caption model. The problem is, it is a large model and running each photo through the network every time we want to test a new language model configuration (downstream) is redundant.\n",
    "\n",
    "Instead, we can pre-compute the “photo features” using the pre-trained model and save them to file. We can then load these features later and feed them into our model as the interpretation of a given photo in the dataset. It is no different to running the photo through the full VGG model; it is just we will have done it once in advance."
   ]
  },
  {
   "cell_type": "code",
   "execution_count": 16,
   "metadata": {},
   "outputs": [],
   "source": [
    "import torch.nn as nn\n",
    "from torchvision.models import resnet18"
   ]
  },
  {
   "cell_type": "code",
   "execution_count": 17,
   "metadata": {},
   "outputs": [
    {
     "data": {
      "text/html": [
       "<div>\n",
       "<style scoped>\n",
       "    .dataframe tbody tr th:only-of-type {\n",
       "        vertical-align: middle;\n",
       "    }\n",
       "\n",
       "    .dataframe tbody tr th {\n",
       "        vertical-align: top;\n",
       "    }\n",
       "\n",
       "    .dataframe thead th {\n",
       "        text-align: right;\n",
       "    }\n",
       "</style>\n",
       "<table border=\"1\" class=\"dataframe\">\n",
       "  <thead>\n",
       "    <tr style=\"text-align: right;\">\n",
       "      <th></th>\n",
       "      <th>img_fname</th>\n",
       "      <th>caption1</th>\n",
       "      <th>caption2</th>\n",
       "      <th>caption3</th>\n",
       "      <th>caption4</th>\n",
       "      <th>caption5</th>\n",
       "    </tr>\n",
       "  </thead>\n",
       "  <tbody>\n",
       "    <tr>\n",
       "      <th>0</th>\n",
       "      <td>COCO_train2014_000000425988.jpg</td>\n",
       "      <td>Two ducks floating on top of a lake with brown...</td>\n",
       "      <td>Two ducks are swimming on the lake next to eac...</td>\n",
       "      <td>Two geese swimming on the water and looking to...</td>\n",
       "      <td>Two ducks facing the same direction, wading in...</td>\n",
       "      <td>Two geese resting in a body of water</td>\n",
       "    </tr>\n",
       "    <tr>\n",
       "      <th>1</th>\n",
       "      <td>COCO_train2014_000000040971.jpg</td>\n",
       "      <td>A long bill bird standing on a beach next to t...</td>\n",
       "      <td>A small bird with a long, skinny beak walks on...</td>\n",
       "      <td>Long beaked brown bird walking on a beach.</td>\n",
       "      <td>a close up of a bird on a beach near a body of...</td>\n",
       "      <td>A bird with a pink beak is on the beach.</td>\n",
       "    </tr>\n",
       "  </tbody>\n",
       "</table>\n",
       "</div>"
      ],
      "text/plain": [
       "                         img_fname  \\\n",
       "0  COCO_train2014_000000425988.jpg   \n",
       "1  COCO_train2014_000000040971.jpg   \n",
       "\n",
       "                                            caption1  \\\n",
       "0  Two ducks floating on top of a lake with brown...   \n",
       "1  A long bill bird standing on a beach next to t...   \n",
       "\n",
       "                                            caption2  \\\n",
       "0  Two ducks are swimming on the lake next to eac...   \n",
       "1  A small bird with a long, skinny beak walks on...   \n",
       "\n",
       "                                            caption3  \\\n",
       "0  Two geese swimming on the water and looking to...   \n",
       "1         Long beaked brown bird walking on a beach.   \n",
       "\n",
       "                                            caption4  \\\n",
       "0  Two ducks facing the same direction, wading in...   \n",
       "1  a close up of a bird on a beach near a body of...   \n",
       "\n",
       "                                   caption5  \n",
       "0      Two geese resting in a body of water  \n",
       "1  A bird with a pink beak is on the beach.  "
      ]
     },
     "execution_count": 17,
     "metadata": {},
     "output_type": "execute_result"
    }
   ],
   "source": [
    "train.head(2)"
   ]
  },
  {
   "cell_type": "code",
   "execution_count": 18,
   "metadata": {},
   "outputs": [],
   "source": [
    "train_img_fnames = train.img_fname.values"
   ]
  },
  {
   "cell_type": "code",
   "execution_count": 19,
   "metadata": {},
   "outputs": [
    {
     "data": {
      "text/plain": [
       "array(['COCO_train2014_000000425988.jpg',\n",
       "       'COCO_train2014_000000040971.jpg',\n",
       "       'COCO_train2014_000000434190.jpg',\n",
       "       'COCO_train2014_000000229396.jpg', 'COCO_train2014_000000016408.jpg'], dtype=object)"
      ]
     },
     "execution_count": 19,
     "metadata": {},
     "output_type": "execute_result"
    }
   ],
   "source": [
    "train_img_fnames[:5]"
   ]
  },
  {
   "cell_type": "code",
   "execution_count": 20,
   "metadata": {},
   "outputs": [],
   "source": [
    "import torch\n",
    "class ImageNetEncoder(nn.Module):\n",
    "    def __init__(self, pretrained_fn=resnet18, pretrained=True):\n",
    "        super(ImageNetEncoder, self).__init__()\n",
    "        resnet = pretrained_fn(pretrained)\n",
    "        self.encoder = nn.Sequential(*list(resnet.children())[:-2])\n",
    "        self.avgpool = nn.AdaptiveAvgPool2d(1)\n",
    "        self.maxpool = nn.AdaptiveMaxPool2d(1)\n",
    "        \n",
    "    def forward(self, x):\n",
    "        bs = x.shape[0]\n",
    "        x = self.encoder(x)\n",
    "        x = torch.cat([self.maxpool(x), self.avgpool(x)], dim=1) # concat pool\n",
    "        return x.view(bs, -1)"
   ]
  },
  {
   "cell_type": "code",
   "execution_count": 21,
   "metadata": {},
   "outputs": [],
   "source": [
    "trn_ds = SimpleDataset(TRN_PATH, train)\n",
    "val_ds = SimpleDataset(VAL_PATH, val)\n",
    "trn_dl = DataLoader(trn_ds, batch_size=128, shuffle=False)\n",
    "val_dl = DataLoader(val_ds, batch_size=128, shuffle=False)"
   ]
  },
  {
   "cell_type": "code",
   "execution_count": 22,
   "metadata": {},
   "outputs": [],
   "source": [
    "model = ImageNetEncoder(resnet18).cuda()"
   ]
  },
  {
   "cell_type": "code",
   "execution_count": 23,
   "metadata": {},
   "outputs": [],
   "source": [
    "def to_np(x): return x.detach().cpu().numpy()\n",
    "def save_image_features(dl, prefix='train'):\n",
    "    for i, (x, _) in enumerate(dl):\n",
    "        out = model(x.cuda())\n",
    "        np.save(f'precomputed/{prefix}_img_features_{i}.npy', to_np(out))"
   ]
  },
  {
   "cell_type": "code",
   "execution_count": 24,
   "metadata": {},
   "outputs": [],
   "source": [
    "save_image_features(trn_dl, prefix='train')\n",
    "save_image_features(val_dl, prefix='valid')"
   ]
  },
  {
   "cell_type": "code",
   "execution_count": 25,
   "metadata": {},
   "outputs": [],
   "source": [
    "precomputed_features = list(Path('precomputed/').iterdir())"
   ]
  },
  {
   "cell_type": "code",
   "execution_count": 26,
   "metadata": {},
   "outputs": [],
   "source": [
    "train_precomputed_features = [p for p in precomputed_features if 'train' in p.name]\n",
    "valid_precomputed_features = [p for p in precomputed_features if 'valid' in p.name]"
   ]
  },
  {
   "cell_type": "code",
   "execution_count": 27,
   "metadata": {},
   "outputs": [],
   "source": [
    "train_precomputed_features = sorted(train_precomputed_features, key=lambda x: int(str(x).split('_')[-1].split('.')[0]))\n",
    "valid_precomputed_features = sorted(valid_precomputed_features, key=lambda x: int(str(x).split('_')[-1].split('.')[0]))"
   ]
  },
  {
   "cell_type": "markdown",
   "metadata": {},
   "source": [
    "### Image Caption Dataset"
   ]
  },
  {
   "cell_type": "code",
   "execution_count": 28,
   "metadata": {},
   "outputs": [],
   "source": [
    "train_features = np.vstack([np.load(p) for p in train_precomputed_features])\n",
    "valid_features = np.vstack([np.load(p) for p in valid_precomputed_features])"
   ]
  },
  {
   "cell_type": "code",
   "execution_count": 29,
   "metadata": {},
   "outputs": [
    {
     "data": {
      "text/plain": [
       "(17970, 1024)"
      ]
     },
     "execution_count": 29,
     "metadata": {},
     "output_type": "execute_result"
    }
   ],
   "source": [
    "train_features.shape"
   ]
  },
  {
   "cell_type": "code",
   "execution_count": 30,
   "metadata": {},
   "outputs": [],
   "source": [
    "train_features_dup = np.repeat(train_features, 5, axis=0)\n",
    "valid_features_dup = np.repeat(valid_features, 5, axis=0)"
   ]
  },
  {
   "cell_type": "code",
   "execution_count": 31,
   "metadata": {},
   "outputs": [
    {
     "data": {
      "text/plain": [
       "(89850, 44295)"
      ]
     },
     "execution_count": 31,
     "metadata": {},
     "output_type": "execute_result"
    }
   ],
   "source": [
    "len(train_features_dup), len(valid_features_dup)"
   ]
  },
  {
   "cell_type": "code",
   "execution_count": null,
   "metadata": {},
   "outputs": [],
   "source": []
  },
  {
   "cell_type": "code",
   "execution_count": null,
   "metadata": {},
   "outputs": [],
   "source": []
  },
  {
   "cell_type": "code",
   "execution_count": null,
   "metadata": {},
   "outputs": [],
   "source": []
  },
  {
   "cell_type": "markdown",
   "metadata": {},
   "source": [
    "### WORD MODEL\n",
    "\n",
    "Many to Many language model"
   ]
  },
  {
   "cell_type": "code",
   "execution_count": 32,
   "metadata": {},
   "outputs": [],
   "source": [
    "import torch.nn as nn"
   ]
  },
  {
   "cell_type": "code",
   "execution_count": 33,
   "metadata": {},
   "outputs": [],
   "source": [
    "cap_cols = train.columns[train.columns.str.contains('caption')]"
   ]
  },
  {
   "cell_type": "code",
   "execution_count": 34,
   "metadata": {},
   "outputs": [],
   "source": [
    "train_captions = np.array(train[cap_cols]).ravel()\n",
    "val_captions = np.array(val[cap_cols]).ravel()"
   ]
  },
  {
   "cell_type": "code",
   "execution_count": 35,
   "metadata": {},
   "outputs": [
    {
     "name": "stdout",
     "output_type": "stream",
     "text": [
      "Number of captions: 134145\n"
     ]
    }
   ],
   "source": [
    "print(f\"Number of captions: {len(train_captions)+len(val_captions)}\")"
   ]
  },
  {
   "cell_type": "code",
   "execution_count": 36,
   "metadata": {},
   "outputs": [
    {
     "data": {
      "text/plain": [
       "array(['Two ducks floating on top of a lake with brown water.',\n",
       "       'Two ducks are swimming on the lake next to each other.',\n",
       "       'Two geese swimming on the water and looking toward the camera.',\n",
       "       'Two ducks facing the same direction, wading in a pond.',\n",
       "       'Two geese resting in a body of water'], dtype=object)"
      ]
     },
     "execution_count": 36,
     "metadata": {},
     "output_type": "execute_result"
    }
   ],
   "source": [
    "train_captions[:5]"
   ]
  },
  {
   "cell_type": "markdown",
   "metadata": {},
   "source": [
    "### Process Text"
   ]
  },
  {
   "cell_type": "markdown",
   "metadata": {},
   "source": [
    "- Convert all words to lowercase.\n",
    "- Remove all punctuation.\n",
    "- Remove all words that are one character or less in length (e.g. ‘a’).\n",
    "- Remove all words with numbers in them.\n",
    "\n",
    "smaller vocab\n",
    "\n",
    "Loaded: 8,092\n",
    "Vocabulary Size: 8,763"
   ]
  },
  {
   "cell_type": "code",
   "execution_count": 131,
   "metadata": {},
   "outputs": [],
   "source": [
    "import string, re\n",
    "from collections import defaultdict"
   ]
  },
  {
   "cell_type": "code",
   "execution_count": 132,
   "metadata": {},
   "outputs": [],
   "source": [
    "def process_text(s):\n",
    "    return s.lower().strip('\\n').translate(str.maketrans('','',string.punctuation)).split(' ')"
   ]
  },
  {
   "cell_type": "code",
   "execution_count": 133,
   "metadata": {},
   "outputs": [],
   "source": [
    "captions = np.concatenate((train_captions, val_captions))"
   ]
  },
  {
   "cell_type": "code",
   "execution_count": 134,
   "metadata": {},
   "outputs": [
    {
     "data": {
      "text/plain": [
       "11665"
      ]
     },
     "execution_count": 134,
     "metadata": {},
     "output_type": "execute_result"
    }
   ],
   "source": [
    "vocab = defaultdict(int)\n",
    "for s in captions:\n",
    "    for w in process_text(s):\n",
    "        vocab[w] += 1\n",
    "\n",
    "len(vocab)\n",
    "\n",
    "# # VOCAB2IDX\n",
    "# vocab2idx = {}\n",
    "# vocab2idx['<pad>'] = len(vocab2idx)\n",
    "# vocab2idx['<start>'] = len(vocab2idx)\n",
    "# vocab2idx['<end>'] = len(vocab2idx)\n",
    "# for i, w in enumerate(vocab):\n",
    "#     vocab2idx[w] = i+3\n",
    "\n",
    "# IDX2VOCAB\n"
   ]
  },
  {
   "cell_type": "code",
   "execution_count": 135,
   "metadata": {},
   "outputs": [],
   "source": [
    "def loadGloveModel(gloveFile=\"glove.6B.50d.txt\"):\n",
    "    \"\"\" Loads word vectors into a dictionary.\"\"\"\n",
    "    f = open(gloveFile, 'r')\n",
    "    word_vecs = {}\n",
    "    for line in f:\n",
    "        splitLine = line.split()\n",
    "        word = splitLine[0]\n",
    "        word_vecs[word] = np.array([float(val) for val in splitLine[1:]])\n",
    "    return word_vecs"
   ]
  },
  {
   "cell_type": "code",
   "execution_count": 136,
   "metadata": {},
   "outputs": [],
   "source": [
    "word_vecs = loadGloveModel()\n"
   ]
  },
  {
   "cell_type": "code",
   "execution_count": 137,
   "metadata": {},
   "outputs": [],
   "source": [
    "def delete_rare_words(word_vecs, data_vocab, min_df=2):\n",
    "    \"\"\" Deletes rare words from data_vocab\n",
    "    \n",
    "    Deletes words from data_vocab if they are not in word_vecs\n",
    "    and don't have at least min_df occurrencies in data_vocab.\n",
    "    \"\"\"\n",
    "    words_delete = []\n",
    "    for word in data_vocab:\n",
    "        if data_vocab[word] < min_df and word not in word_vecs:\n",
    "            words_delete.append(word)\n",
    "    for word in words_delete:\n",
    "        data_vocab.pop(word)\n",
    "    return data_vocab"
   ]
  },
  {
   "cell_type": "code",
   "execution_count": 138,
   "metadata": {},
   "outputs": [],
   "source": [
    "data_vocab = delete_rare_words(word_vecs, vocab, min_df=15)\n"
   ]
  },
  {
   "cell_type": "code",
   "execution_count": 139,
   "metadata": {},
   "outputs": [],
   "source": [
    "def create_embedding_matrix(word_vecs, data_vocab, min_df=2, D=50):\n",
    "    \"\"\"Creates embedding matrix from word vectors. \"\"\"\n",
    "    data_vocab = delete_rare_words(word_vecs, data_vocab, min_df)\n",
    "    V = len(data_vocab.keys()) + 5\n",
    "    vocab2index = {}\n",
    "    W = np.zeros((V, D), dtype=\"float32\")\n",
    "    vocab = [\"UNK\", '<pad>', '<start>', '<end>']\n",
    "    # adding a vector for padding\n",
    "    W[1] = np.zeros(D, dtype='float32')\n",
    "    # adding a vector for rare words \n",
    "    W[0] = np.random.uniform(-0.25,0.25,D)\n",
    "    W[2] = np.random.uniform(-0.25,0.25,D)\n",
    "    W[3] = np.random.uniform(-0.25,0.25,D)\n",
    "    vocab2index[\"UNK\"] = 1\n",
    "    vocab2index[\"<pad>\"] = 2\n",
    "    vocab2index[\"<start>\"] = 3\n",
    "    vocab2index[\"<end>\"] = 4\n",
    "    i = 5\n",
    "    for word in data_vocab:\n",
    "        if word in word_vecs:\n",
    "            W[i] = word_vecs[word]\n",
    "            vocab2index[word] = i\n",
    "            vocab.append(word)\n",
    "            i += 1\n",
    "        else:\n",
    "            W[i] = np.random.uniform(-0.25,0.25,D)\n",
    "            vocab2index[word] = i\n",
    "            vocab.append(word)\n",
    "            i += 1   \n",
    "    return W, np.array(vocab), vocab2index"
   ]
  },
  {
   "cell_type": "code",
   "execution_count": 140,
   "metadata": {},
   "outputs": [],
   "source": [
    "pretrained_weight, vocab, vocab2index = create_embedding_matrix(word_vecs, vocab)"
   ]
  },
  {
   "cell_type": "code",
   "execution_count": 141,
   "metadata": {},
   "outputs": [],
   "source": [
    "idx2vocab = {}\n",
    "for w in vocab2index:\n",
    "    idx2vocab[vocab2index[w]] = w"
   ]
  },
  {
   "cell_type": "code",
   "execution_count": 142,
   "metadata": {},
   "outputs": [],
   "source": [
    "processed_captions = [process_text(cap) for cap in captions]"
   ]
  },
  {
   "cell_type": "code",
   "execution_count": 143,
   "metadata": {},
   "outputs": [],
   "source": [
    "max_len = 0\n",
    "for cap in processed_captions:\n",
    "    max_len = max(len(cap), max_len)"
   ]
  },
  {
   "cell_type": "code",
   "execution_count": 144,
   "metadata": {},
   "outputs": [
    {
     "data": {
      "text/plain": [
       "50"
      ]
     },
     "execution_count": 144,
     "metadata": {},
     "output_type": "execute_result"
    }
   ],
   "source": [
    "max_len"
   ]
  },
  {
   "cell_type": "code",
   "execution_count": 145,
   "metadata": {},
   "outputs": [
    {
     "data": {
      "text/plain": [
       "['two',\n",
       " 'ducks',\n",
       " 'floating',\n",
       " 'on',\n",
       " 'top',\n",
       " 'of',\n",
       " 'a',\n",
       " 'lake',\n",
       " 'with',\n",
       " 'brown',\n",
       " 'water']"
      ]
     },
     "execution_count": 145,
     "metadata": {},
     "output_type": "execute_result"
    }
   ],
   "source": [
    "processed_captions[0]"
   ]
  },
  {
   "cell_type": "markdown",
   "metadata": {},
   "source": [
    "### padding\n",
    "\n",
    "pad at the beginning"
   ]
  },
  {
   "cell_type": "code",
   "execution_count": 146,
   "metadata": {},
   "outputs": [],
   "source": [
    "def pad_prep_x(cap, max_len=50):\n",
    "    pad = ['<pad>' for i in range(max_len - len(cap))]\n",
    "    pad = ['<start>'] + cap + pad\n",
    "    return [vocab2index[w] if w in vocab2index.keys() else vocab2index['UNK'] for w in pad], len(cap)+1\n",
    "\n",
    "def pad_prep_y(cap, max_len=50):\n",
    "    pad = ['<pad>' for i in range(max_len - len(cap))]\n",
    "    pad = cap + ['<end>'] + pad\n",
    "    return [vocab2index[w] if w in vocab2index.keys() else vocab2index['UNK'] for w in pad]\n",
    "\n",
    "def prep_y(cap):\n",
    "    return [vocab2index[w] if w in vocab2index.keys() else vocab2index['UNK'] for w in cap] +  [vocab2index['<end>']]"
   ]
  },
  {
   "cell_type": "code",
   "execution_count": 147,
   "metadata": {},
   "outputs": [],
   "source": [
    "xs = [np.array(pad_prep_x(cap)) for cap in processed_captions]"
   ]
  },
  {
   "cell_type": "code",
   "execution_count": 148,
   "metadata": {},
   "outputs": [],
   "source": [
    "x, xlen = zip(*xs)"
   ]
  },
  {
   "cell_type": "code",
   "execution_count": 149,
   "metadata": {},
   "outputs": [],
   "source": [
    "y = [np.array(pad_prep_y(cap)) for cap in processed_captions]"
   ]
  },
  {
   "cell_type": "code",
   "execution_count": 150,
   "metadata": {},
   "outputs": [],
   "source": [
    "x = np.array(x)\n",
    "xlen = np.array(list(xlen))\n",
    "y = np.array(y)"
   ]
  },
  {
   "cell_type": "code",
   "execution_count": 151,
   "metadata": {},
   "outputs": [
    {
     "data": {
      "text/plain": [
       "(134145, 134145)"
      ]
     },
     "execution_count": 151,
     "metadata": {},
     "output_type": "execute_result"
    }
   ],
   "source": [
    "len(x), len(train_features_dup) + len(valid_features_dup)"
   ]
  },
  {
   "cell_type": "code",
   "execution_count": 152,
   "metadata": {},
   "outputs": [],
   "source": [
    "y_lengths = xlen"
   ]
  },
  {
   "cell_type": "code",
   "execution_count": 153,
   "metadata": {},
   "outputs": [],
   "source": [
    "x_train = x[:len(train_features_dup)]\n",
    "x_val = x[len(train_features_dup):]\n",
    "y_train = y[:len(train_features_dup)]\n",
    "y_val = y[len(train_features_dup):]"
   ]
  },
  {
   "cell_type": "markdown",
   "metadata": {},
   "source": [
    "### Image Caption Dataset"
   ]
  },
  {
   "cell_type": "code",
   "execution_count": 154,
   "metadata": {},
   "outputs": [
    {
     "data": {
      "text/plain": [
       "((89850, 51), (89850, 51), (89850, 1024))"
      ]
     },
     "execution_count": 154,
     "metadata": {},
     "output_type": "execute_result"
    }
   ],
   "source": [
    "x_train.shape, y_train.shape,train_features_dup.shape"
   ]
  },
  {
   "cell_type": "code",
   "execution_count": 155,
   "metadata": {},
   "outputs": [
    {
     "data": {
      "text/plain": [
       "(51, 51, 1024)"
      ]
     },
     "execution_count": 155,
     "metadata": {},
     "output_type": "execute_result"
    }
   ],
   "source": [
    "len(x_train[1]), len(y_train[1]), len(train_features_dup[0])"
   ]
  },
  {
   "cell_type": "code",
   "execution_count": 156,
   "metadata": {},
   "outputs": [
    {
     "data": {
      "text/plain": [
       "(51, 51, 1024)"
      ]
     },
     "execution_count": 156,
     "metadata": {},
     "output_type": "execute_result"
    }
   ],
   "source": [
    "len(x_val[1]), len(y_val[1]), len(valid_features_dup[0])"
   ]
  },
  {
   "cell_type": "code",
   "execution_count": 157,
   "metadata": {},
   "outputs": [
    {
     "data": {
      "text/plain": [
       "[51, 1024]"
      ]
     },
     "execution_count": 157,
     "metadata": {},
     "output_type": "execute_result"
    }
   ],
   "source": [
    "[len(torch.LongTensor(x_train[0])), len(train_features_dup[0])]"
   ]
  },
  {
   "cell_type": "code",
   "execution_count": 158,
   "metadata": {},
   "outputs": [
    {
     "data": {
      "text/plain": [
       "([tensor([  3,   5,   6,   7,   8,   9,  10,  11,  12,  13,  14,  15,\n",
       "            2,   2,   2,   2,   2,   2,   2,   2,   2,   2,   2,   2,\n",
       "            2,   2,   2,   2,   2,   2,   2,   2,   2,   2,   2,   2,\n",
       "            2,   2,   2,   2,   2,   2,   2,   2,   2,   2,   2,   2,\n",
       "            2,   2,   2]),\n",
       "  array([ 1.40932274,  4.52082157,  3.749125  , ...,  0.46800041,\n",
       "          0.33464932,  1.54989874], dtype=float32)],\n",
       " tensor([  5,   6,   7,   8,   9,  10,  11,  12,  13,  14,  15,   4,\n",
       "           2,   2,   2,   2,   2,   2,   2,   2,   2,   2,   2,   2,\n",
       "           2,   2,   2,   2,   2,   2,   2,   2,   2,   2,   2,   2,\n",
       "           2,   2,   2,   2,   2,   2,   2,   2,   2,   2,   2,   2,\n",
       "           2,   2,   2]))"
      ]
     },
     "execution_count": 158,
     "metadata": {},
     "output_type": "execute_result"
    }
   ],
   "source": [
    "[torch.LongTensor(x_train[0]), train_features_dup[0]],torch.LongTensor(y_train[0])"
   ]
  },
  {
   "cell_type": "code",
   "execution_count": 159,
   "metadata": {},
   "outputs": [],
   "source": [
    "class CaptionDataset(Dataset):\n",
    "    def __init__(self, x, y, im_features):\n",
    "        self.x = x\n",
    "        self.y = y\n",
    "        self.im_features = im_features\n",
    "        \n",
    "    def __getitem__(self, index):\n",
    "        return [torch.LongTensor(self.x[index]), self.im_features[index]], torch.LongTensor(self.y[index])\n",
    "    \n",
    "    def __len__(self):\n",
    "        return len(self.x)"
   ]
  },
  {
   "cell_type": "code",
   "execution_count": 160,
   "metadata": {},
   "outputs": [],
   "source": [
    "trn_ds = CaptionDataset(x_train, y_train, train_features_dup)\n",
    "val_ds = CaptionDataset(x_val, y_val, valid_features_dup)\n",
    "\n",
    "trn_dl = DataLoader(trn_ds, batch_size=64)\n",
    "val_dl = DataLoader(val_ds, batch_size=64)"
   ]
  },
  {
   "cell_type": "code",
   "execution_count": 161,
   "metadata": {},
   "outputs": [],
   "source": [
    "x, y = next(iter(trn_dl))"
   ]
  },
  {
   "cell_type": "code",
   "execution_count": 162,
   "metadata": {},
   "outputs": [
    {
     "data": {
      "text/plain": [
       "(torch.Size([64, 51]), torch.Size([64, 1024]), torch.Size([64, 51]))"
      ]
     },
     "execution_count": 162,
     "metadata": {},
     "output_type": "execute_result"
    }
   ],
   "source": [
    "x[0].shape, x[1].shape, y.shape"
   ]
  },
  {
   "cell_type": "markdown",
   "metadata": {},
   "source": [
    "### Word Model"
   ]
  },
  {
   "cell_type": "code",
   "execution_count": 163,
   "metadata": {},
   "outputs": [],
   "source": [
    "D = 50\n",
    "input_size = D\n",
    "hidden_size = 100\n",
    "rnn = nn.RNN(input_size, hidden_size, bias=False)"
   ]
  },
  {
   "cell_type": "code",
   "execution_count": 164,
   "metadata": {},
   "outputs": [
    {
     "data": {
      "text/plain": [
       "([tensor([[   3,    5,    6,  ...,    2,    2,    2],\n",
       "          [   3,    5,    6,  ...,    2,    2,    2],\n",
       "          [   3,    5,   23,  ...,    2,    2,    2],\n",
       "          ...,\n",
       "          [   3,   11,  117,  ...,    2,    2,    2],\n",
       "          [   3,   11,   38,  ...,    2,    2,    2],\n",
       "          [   3,   11,   38,  ...,    2,    2,    2]]),\n",
       "  tensor([[  1.4093,   4.5208,   3.7491,  ...,   0.4680,   0.3346,\n",
       "             1.5499],\n",
       "          [  1.4093,   4.5208,   3.7491,  ...,   0.4680,   0.3346,\n",
       "             1.5499],\n",
       "          [  1.4093,   4.5208,   3.7491,  ...,   0.4680,   0.3346,\n",
       "             1.5499],\n",
       "          ...,\n",
       "          [  5.5660,   2.4377,   5.0665,  ...,   0.4016,   1.2860,\n",
       "             0.6842],\n",
       "          [  5.5660,   2.4377,   5.0665,  ...,   0.4016,   1.2860,\n",
       "             0.6842],\n",
       "          [  5.5660,   2.4377,   5.0665,  ...,   0.4016,   1.2860,\n",
       "             0.6842]])],\n",
       " tensor([[   5,    6,    7,  ...,    2,    2,    2],\n",
       "         [   5,    6,   16,  ...,    2,    2,    2],\n",
       "         [   5,   23,   17,  ...,    2,    2,    2],\n",
       "         ...,\n",
       "         [  11,  117,   38,  ...,    2,    2,    2],\n",
       "         [  11,   38,   54,  ...,    2,    2,    2],\n",
       "         [  11,   38,   82,  ...,    2,    2,    2]]))"
      ]
     },
     "execution_count": 164,
     "metadata": {},
     "output_type": "execute_result"
    }
   ],
   "source": [
    "x, y"
   ]
  },
  {
   "cell_type": "code",
   "execution_count": 165,
   "metadata": {},
   "outputs": [],
   "source": [
    "TORCH_TENSORS = (torch.FloatTensor, torch.LongTensor, torch.Tensor)\n",
    "\n",
    "class WordModel(nn.Module):\n",
    "    def __init__(self, D, hidden_size, vocab_len = len(vocab2index), emb_drop=0.5):\n",
    "        \"\"\"\n",
    "        Word Model can be extended and be more sophisticated\n",
    "        \"\"\"\n",
    "        super(WordModel, self).__init__()\n",
    "        # INIT EMBEDDINGS\n",
    "        self.D = D\n",
    "        self.emb_words = nn.Embedding(len(vocab2index), self.D)\n",
    "        self.emb_words.weight.requires_grad = False\n",
    "        self.emb_drop = nn.Dropout(emb_drop)\n",
    "        # RNN\n",
    "        self.hidden_size = hidden_size\n",
    "        self.rnn = nn.RNN(self.D, self.hidden_size, num_layers=1)\n",
    "        self.lin = nn.Linear(self.hidden_size, vocab_len)\n",
    "        \n",
    "    def forward(self, sample_x, hidden=None):\n",
    "        \"\"\"\n",
    "        For Image Caption Model <start>, image feature activations\n",
    "        sample_x: arbitrary length sequence\n",
    "        hidden:  (num_layers * num_directions, batch, hidden_size):\n",
    "        \"\"\"\n",
    "          \n",
    "        batch = self.emb_words(sample_x)\n",
    "        batch = self.emb_drop(batch)\n",
    "        # seq_len, batch_size, input_size=D            \n",
    "        batch = batch.permute(1,0,2)\n",
    "        # rnn forward\n",
    "        if isinstance(hidden, TORCH_TENSORS): \n",
    "            hidden  = hidden.unsqueeze(0)\n",
    "            out_hidden, hidden_n = self.rnn(batch, hidden)\n",
    "        else: out_hidden, hidden_n = self.rnn(batch)\n",
    "        # output: seq_len, batch_size, vocab_len\n",
    "        out = self.lin(out_hidden)\n",
    "        if self.training:\n",
    "            return out\n",
    "        else:\n",
    "            return self.lin(hidden_n), hidden_n"
   ]
  },
  {
   "cell_type": "code",
   "execution_count": 166,
   "metadata": {},
   "outputs": [],
   "source": [
    "wordmodel = WordModel(D, 100).cuda()"
   ]
  },
  {
   "cell_type": "code",
   "execution_count": 167,
   "metadata": {},
   "outputs": [],
   "source": [
    "import torch.nn.functional as F\n",
    "def lang_loss(out, y, y_lengths):\n",
    "    \"\"\"Calculate loss excluding padding elements\"\"\"\n",
    "    out = out.permute(1,0,2)\n",
    "    bs = out.shape[0]\n",
    "    batch_loss = 0\n",
    "    for l, out_i, y_i in zip(y_lengths, out, y):\n",
    "        batch_loss += F.nll_loss(F.log_softmax(out_i[:l], dim=0), y_i[:l], size_average=False)\n",
    "    return batch_loss/bs"
   ]
  },
  {
   "cell_type": "code",
   "execution_count": 168,
   "metadata": {},
   "outputs": [],
   "source": [
    "def lang_loss2(out, y):\n",
    "    out = out.permute(1,0,2)[y != 0, :]\n",
    "    y = y[y != 0]\n",
    "    return F.nll_loss(F.log_softmax(out, dim=0), y, size_average=True)"
   ]
  },
  {
   "cell_type": "code",
   "execution_count": 169,
   "metadata": {},
   "outputs": [],
   "source": [
    "test_x = \"i know\""
   ]
  },
  {
   "cell_type": "markdown",
   "metadata": {},
   "source": [
    "### Train Caption Model"
   ]
  },
  {
   "cell_type": "code",
   "execution_count": 170,
   "metadata": {},
   "outputs": [],
   "source": [
    "capmodel = WordModel(D, 1024)"
   ]
  },
  {
   "cell_type": "code",
   "execution_count": 171,
   "metadata": {},
   "outputs": [],
   "source": [
    "out = capmodel(x[0], x[1])"
   ]
  },
  {
   "cell_type": "code",
   "execution_count": 172,
   "metadata": {},
   "outputs": [
    {
     "data": {
      "text/plain": [
       "torch.Size([51, 64, 10346])"
      ]
     },
     "execution_count": 172,
     "metadata": {},
     "output_type": "execute_result"
    }
   ],
   "source": [
    "out.shape"
   ]
  },
  {
   "cell_type": "code",
   "execution_count": 173,
   "metadata": {},
   "outputs": [],
   "source": [
    "def create_test_tensor(test_x):\n",
    "    return torch.tensor([vocab2index[w] for w in process_text(test_x)])[None, :]\n",
    "\n",
    "def sample_sentence(model, input_text, k=5, sentence_length=None):\n",
    "    \"\"\"\n",
    "    Random top k sampling\n",
    "    input_text: arbitrary length input to start sampling from\n",
    "    \"\"\"\n",
    "    model = model.eval()\n",
    "    generated = input_text\n",
    "\n",
    "    # initial input - arbitrary size\n",
    "    input_text = create_test_tensor(input_text)\n",
    "    test_out, hidden_prev = model(input_text.cuda())\n",
    "    next_idx = torch.argmax(test_out.view(-1)).item()\n",
    "    next_word = idx2vocab[next_idx]\n",
    "    \n",
    "    if sentence_length is not None:\n",
    "        for i in range(sentence_length):\n",
    "            test_out_np = (test_out.view(-1)).cpu().detach().numpy()\n",
    "            topk = np.argsort(test_out_np)[::-1][:k]\n",
    "            next_idx = np.random.choice(topk)\n",
    "            next_word = idx2vocab[next_idx]\n",
    "            generated += ' ' + next_word\n",
    "            test_x = create_test_tensor(next_word)\n",
    "            test_out, hidden_prev = model(test_x.cuda())\n",
    "    else:\n",
    "        while next_word != '<end>':\n",
    "            test_out_np = (test_out.view(-1)).cpu().detach().numpy()\n",
    "            topk = np.argsort(test_out_np)[::-1][:k]\n",
    "            next_idx = np.random.choice(topk)\n",
    "            next_word = idx2vocab[next_idx]\n",
    "            generated += ' ' + next_word\n",
    "            test_x = create_test_tensor(next_word)\n",
    "            test_out, hidden_prev = model(test_x.cuda())\n",
    "    \n",
    "    return generated\n",
    "\n",
    "#TODO: Beam Search"
   ]
  },
  {
   "cell_type": "code",
   "execution_count": 174,
   "metadata": {
    "scrolled": true
   },
   "outputs": [
    {
     "data": {
      "text/plain": [
       "'bird adjusts crowns russell candies'"
      ]
     },
     "execution_count": 174,
     "metadata": {},
     "output_type": "execute_result"
    }
   ],
   "source": [
    "sample_sentence(wordmodel, 'bird', k=5, sentence_length=4)"
   ]
  },
  {
   "cell_type": "markdown",
   "metadata": {},
   "source": [
    "### Training"
   ]
  },
  {
   "cell_type": "code",
   "execution_count": 175,
   "metadata": {},
   "outputs": [],
   "source": [
    "# PyTorch v 0.4\n",
    "# https://pytorch.org/2018/04/22/0_4_0-migration-guide.html\n",
    "import torch.nn.functional as F\n",
    "from tqdm import tqdm\n",
    "from tqdm import tqdm_notebook as tqdm\n",
    "\n",
    "#for restoring model\n",
    "TORCH_CUDA_TENSOR = (\n",
    "        torch.cuda.FloatTensor,\n",
    "        torch.cuda.DoubleTensor,\n",
    "        torch.cuda.HalfTensor,\n",
    "        torch.cuda.ByteTensor,\n",
    "        torch.cuda.CharTensor,\n",
    "        torch.cuda.ShortTensor,\n",
    "        torch.cuda.IntTensor,\n",
    "        torch.cuda.LongTensor\n",
    ")\n",
    "\n",
    "def get_optimizer(model, optim, lr = 0.01, wd = 0.0):\n",
    "    parameters = filter(lambda p: p.requires_grad, model.parameters())\n",
    "    optim = optim(parameters, lr=lr, weight_decay=wd)\n",
    "    return optim\n",
    "        \n",
    "##lrfind\n",
    "def save_model(m, p): torch.save(m.state_dict(), p)\n",
    "\n",
    "def load_model(m, p): m.load_state_dict(torch.load(p))\n",
    "\n",
    "# Average meter counter\n",
    "class AverageMeter(object):\n",
    "    \"\"\"Computes and stores the average and current value\"\"\"\n",
    "    def __init__(self):\n",
    "        self.reset()\n",
    "\n",
    "    def reset(self):\n",
    "        self.val = 0\n",
    "        self.avg = 0\n",
    "        self.sum = 0\n",
    "        self.count = 0\n",
    "\n",
    "    def update(self, val, n=1):\n",
    "        self.val = val\n",
    "        self.sum += val * n\n",
    "        self.count += n\n",
    "        self.avg = self.sum / self.count # moving average\n",
    "\n",
    "\n",
    "        \n",
    "#class Classifier: main classifier class\n",
    "\n",
    "### TODO Different Child Classifiers: ImageClassifier(Classifier) \n",
    "# implement : https://distill.pub/2017/feature-visualization/\n",
    "\n",
    "class Classifier:\n",
    "    def __init__(self, model, optim, crit, metric, gpu=1):\n",
    "        \"\"\"\n",
    "        Initialize classifier with model, optimizer, criterion and metric\n",
    "        \"\"\"\n",
    "        \n",
    "        ### TODO: Add early stopping\n",
    "        self.model = model\n",
    "        self.epoch_counter = 0  # counts number of epochs\n",
    "        self.use_cuda = torch.cuda.is_available()  # enable cuda if gpu available\n",
    "        self.gpu = gpu  # gpu id to train on\n",
    "        self.optim = optim  # optimizer to use\n",
    "        self.crit = crit  # loss function to use\n",
    "        self.metric = metric  # metric to use\n",
    "        self.loss_metric_summary = [] # summary for training\n",
    "        self.device = torch.device(f\"cuda:{self.gpu}\" if self.use_cuda else \"cpu\")\n",
    "\n",
    "\n",
    "    def _validate_epoch(self, val_dl):\n",
    "        \"\"\"\n",
    "        Validate by self._criterion\n",
    "        \"\"\"\n",
    "        losses = AverageMeter()  # reset for epoch\n",
    "        metrics = AverageMeter()  # reset for epoch\n",
    "        batch_size = val_dl.batch_size\n",
    "        \n",
    "        with torch.no_grad():\n",
    "            for x, y in val_dl:\n",
    "                if isinstance(x, list): x=[xi.to(self.device) for xi in x]\n",
    "                else: x = [x.to(self.device)]\n",
    "                y = y.to(self.device)\n",
    "\n",
    "                # forward\n",
    "                out = self.model(*x)\n",
    "\n",
    "                # compute and update loss\n",
    "                loss = self.crit(out, y)\n",
    "                losses.update(loss.item(), batch_size)\n",
    "\n",
    "                # compute and update metric\n",
    "                metric = self.metric(out, y)\n",
    "                metrics.update(metric.item(), batch_size)\n",
    "\n",
    "        return losses.avg, metrics.avg\n",
    "\n",
    "    def _train_epoch(self, trn_dl, optimizer):\n",
    "        \"\"\"\n",
    "        Optimize by self._criterion and self.optimizer\n",
    "        \"\"\"\n",
    "        losses = AverageMeter()  # reset for epoch\n",
    "        metrics = AverageMeter()  # reset for epoch\n",
    "        batch_size = trn_dl.batch_size\n",
    "        \n",
    "        for x, y in tqdm(trn_dl):\n",
    "            if isinstance(x, list): x=[xi.to(self.device) for xi in x]\n",
    "            else: x = [x.to(self.device)]\n",
    "            y = y.to(self.device)\n",
    "                \n",
    "            # forward\n",
    "            out = self.model(*x)\n",
    "\n",
    "            # compute and update loss\n",
    "            loss = self.crit(out, y)\n",
    "            losses.update(loss.item(), batch_size)\n",
    "            \n",
    "            # TODO : allow multiple metrics\n",
    "            metric = self.metric(out, y) \n",
    "            metrics.update(metric.item(), batch_size)\n",
    "\n",
    "            # backprop - update weights\n",
    "            optimizer.zero_grad()\n",
    "            loss.backward()\n",
    "            optimizer.step()\n",
    "\n",
    "        return losses.avg, metrics.avg\n",
    "\n",
    "    def _run_epoch(self, trn_dl, val_dl, optimizer):\n",
    "        \"\"\"\n",
    "        Run a single epoch and print out loss and metric\n",
    "        \"\"\"\n",
    "        self.model.train() # train mode\n",
    "        train_loss, train_metric = self._train_epoch(trn_dl, optimizer)\n",
    "\n",
    "        #self.model.eval() # eval mode (Batchnorm, Dropout, ...)\n",
    "        val_loss, val_metric = self._validate_epoch(val_dl)\n",
    "        \n",
    "        self.epoch_counter += 1\n",
    "        \n",
    "        print(f\"Epoch: {self.epoch_counter}\")\n",
    "        print(f\"{self.crit.__name__} : [{round(train_loss, 3)}, {round(val_loss, 3)}]\\\n",
    "        {self.metric.__name__} : [{round(train_metric, 3)}, {round(val_metric, 3)}]\")\n",
    "        print()\n",
    "\n",
    "        return (train_loss, val_loss, train_metric, val_metric)\n",
    "    \n",
    "    def train(self, lr, wd, trn_dl, val_dl, epochs):\n",
    "        \"\"\"\n",
    "        Train for n eopchs\n",
    "        \"\"\"\n",
    "        # optimizer\n",
    "        optimizer = get_optimizer(self.model, self.optim, lr=lr, wd=wd)\n",
    "        \n",
    "        if self.use_cuda:\n",
    "            self.model.cuda(self.gpu)\n",
    "        \n",
    "        for epoch in range(epochs):\n",
    "            loss_metric = self._run_epoch(trn_dl, val_dl, optimizer)\n",
    "            self.loss_metric_summary.append([self.epoch_counter, loss_metric])\n",
    "        \n",
    "\n",
    "    def lr_find(self, trn_dl, lr_low=1e-5, lr_high=1, epochs=2, n_iter=100):\n",
    "        losses = []\n",
    "        path = \"/tmp/mode_tmp.pth\"\n",
    "        save_model(self.model, str(path))\n",
    "        iterations = epochs * len(trn_dl)\n",
    "        delta = (lr_high - lr_low)/iterations\n",
    "        lrs = [lr_low + i*delta for i in range(iterations)] # increase linearly\n",
    "        self.model.train()\n",
    "        ind = 0\n",
    "        for i in tqdm(range(epochs)):\n",
    "            for x, y in tqdm(trn_dl):\n",
    "                # changing learning rate at each iteration\n",
    "                optimizer = get_optimizer(self.model, self.optim, lr=lrs[ind])\n",
    "                if isinstance(x, list): x=[xi.to(self.device) for xi in x]\n",
    "                else: x = [x.to(self.device)]\n",
    "                y = y.to(self.device) \n",
    "                out = self.model(*x)\n",
    "                loss = self.crit(out, y)\n",
    "                optimizer.zero_grad()\n",
    "                loss.backward()\n",
    "                optimizer.step()\n",
    "                losses.append(loss.item())\n",
    "                ind +=1\n",
    "\n",
    "        load_model(self.model, path)\n",
    "        return lrs, losses\n",
    "           \n",
    "        \n",
    "    def restore_model(self, path):\n",
    "        \"\"\"\n",
    "        Restore a model parameters from the given path\n",
    "        Inputs:\n",
    "            model_path (str): The path to the model to restore\n",
    "        https://github.com/pytorch/pytorch/issues/2830\n",
    "        \"\"\"\n",
    "        state = torch.load(path)\n",
    "        self.model.load_state_dict(state['state_dict'])\n",
    "        self.optimizer.load_state_dict(state['optimizer'])\n",
    "        self.epoch_counter = state['epoch']  # counts number of epochs\n",
    "        \n",
    "        if self.use_cuda: \n",
    "            ### add other tensor types\n",
    "            for state in self.optimizer.state.values():\n",
    "                for k, v in state.items():\n",
    "                    if isinstance(v, TORCH_CUDA_TENSOR):\n",
    "                        state[k] = v.cuda(self.gpu)\n",
    "\n",
    "    def save_model(self, path):\n",
    "        # FIX SAVE MODEL WITH get_optimizer\n",
    "        state = {\n",
    "            'epoch': self.epoch_counter,\n",
    "            'state_dict': self.model.state_dict(),\n",
    "            'optimizer': self.optimizer.state_dict()\n",
    "        }\n",
    "        torch.save(state, path)\n",
    "\n",
    "    def predict(self, test_dl):\n",
    "        # eval mode\n",
    "        self.model.eval()\n",
    "        preds = []\n",
    "        with torch.no_grad():\n",
    "            for x in enumerate(test_dl):\n",
    "                if self.use_cuda:\n",
    "                    if isinstance(x, list): x=[xi.to(self.device) for xi in x]\n",
    "                    else: x = [x.to(self.device)]\n",
    "                        \n",
    "            out = self.model(*x)\n",
    "            out = out.items().to(torch.device(\"cpu\"))\n",
    "            preds.append(out)\n",
    "        return preds\n",
    "    \n",
    "    def plot_loss_metric(self):\n",
    "        losses = [lm[:2] for _, lm in self.loss_metric_summary]\n",
    "        metrics = [lm[2:] for _, lm in self.loss_metric_summary]\n",
    "        losses = list(enumerate(losses))\n",
    "        metrics = list(enumerate(metrics))\n",
    "        trn_loss, val_loss = zip(*losses)\n",
    "        trn_metric, val_metric = zip(*metrics)\n",
    "\n",
    "        fig, ax = plt.subplots(2,1, figsize=(18, 15))\n",
    "        titles = (f\"Loss Curve : {self.crit.__name__}\",f\"Metric Curve : {self.metric.__name__}\")\n",
    "        \n",
    "        for axes, (trn_stat, val_stat), tit in zip(ax.flatten(),\n",
    "                                                  ((trn_loss, val_loss), (trn_metric, val_metric)),titles):\n",
    "            axes.set_title(tit, fontdict={'fontsize':20})\n",
    "            axes.plot(trn_stat, val_stat)\n",
    "            axes.legend((\"train\", \"val\"), fontsize='xx-large')"
   ]
  },
  {
   "cell_type": "code",
   "execution_count": 176,
   "metadata": {},
   "outputs": [],
   "source": [
    "trn_ds = CaptionDataset(x_train[:10000], y_train[:10000], train_features_dup[:10000])\n",
    "val_ds = CaptionDataset(x_val[:1000], y_val[:1000], valid_features_dup)\n",
    "trn_dl = DataLoader(trn_ds, batch_size=256, shuffle=True)\n",
    "val_dl = DataLoader(val_ds, batch_size=256)"
   ]
  },
  {
   "cell_type": "code",
   "execution_count": 177,
   "metadata": {},
   "outputs": [
    {
     "data": {
      "text/plain": [
       "(10000, 1000)"
      ]
     },
     "execution_count": 177,
     "metadata": {},
     "output_type": "execute_result"
    }
   ],
   "source": [
    "len(trn_ds), len(val_ds)"
   ]
  },
  {
   "cell_type": "code",
   "execution_count": 178,
   "metadata": {},
   "outputs": [],
   "source": [
    "D = 30\n",
    "optim = torch.optim.Adam\n",
    "model = WordModel(D, 1024, emb_drop=0).cuda()\n",
    "crit = lang_loss2\n",
    "metric = lang_loss2\n",
    "classifier = Classifier(model, optim, crit, metric, gpu=0)"
   ]
  },
  {
   "cell_type": "code",
   "execution_count": 179,
   "metadata": {
    "scrolled": true
   },
   "outputs": [
    {
     "data": {
      "application/vnd.jupyter.widget-view+json": {
       "model_id": "fd3eb80d52ad4e9b8ac69b151481f273",
       "version_major": 2,
       "version_minor": 0
      },
      "text/html": [
       "<p>Failed to display Jupyter Widget of type <code>HBox</code>.</p>\n",
       "<p>\n",
       "  If you're reading this message in the Jupyter Notebook or JupyterLab Notebook, it may mean\n",
       "  that the widgets JavaScript is still loading. If this message persists, it\n",
       "  likely means that the widgets JavaScript library is either not installed or\n",
       "  not enabled. See the <a href=\"https://ipywidgets.readthedocs.io/en/stable/user_install.html\">Jupyter\n",
       "  Widgets Documentation</a> for setup instructions.\n",
       "</p>\n",
       "<p>\n",
       "  If you're reading this message in another frontend (for example, a static\n",
       "  rendering on GitHub or <a href=\"https://nbviewer.jupyter.org/\">NBViewer</a>),\n",
       "  it may mean that your frontend doesn't currently support widgets.\n",
       "</p>\n"
      ],
      "text/plain": [
       "HBox(children=(IntProgress(value=0, max=1), HTML(value='')))"
      ]
     },
     "metadata": {},
     "output_type": "display_data"
    },
    {
     "data": {
      "application/vnd.jupyter.widget-view+json": {
       "model_id": "ddde5995e36f446299bc7d5a54882997",
       "version_major": 2,
       "version_minor": 0
      },
      "text/html": [
       "<p>Failed to display Jupyter Widget of type <code>HBox</code>.</p>\n",
       "<p>\n",
       "  If you're reading this message in the Jupyter Notebook or JupyterLab Notebook, it may mean\n",
       "  that the widgets JavaScript is still loading. If this message persists, it\n",
       "  likely means that the widgets JavaScript library is either not installed or\n",
       "  not enabled. See the <a href=\"https://ipywidgets.readthedocs.io/en/stable/user_install.html\">Jupyter\n",
       "  Widgets Documentation</a> for setup instructions.\n",
       "</p>\n",
       "<p>\n",
       "  If you're reading this message in another frontend (for example, a static\n",
       "  rendering on GitHub or <a href=\"https://nbviewer.jupyter.org/\">NBViewer</a>),\n",
       "  it may mean that your frontend doesn't currently support widgets.\n",
       "</p>\n"
      ],
      "text/plain": [
       "HBox(children=(IntProgress(value=0, max=40), HTML(value='')))"
      ]
     },
     "metadata": {},
     "output_type": "display_data"
    },
    {
     "name": "stdout",
     "output_type": "stream",
     "text": [
      "\n"
     ]
    },
    {
     "data": {
      "text/plain": [
       "[<matplotlib.lines.Line2D at 0x7fa8659e2940>]"
      ]
     },
     "execution_count": 179,
     "metadata": {},
     "output_type": "execute_result"
    },
    {
     "data": {
      "image/png": "[encoded data removed]",
      "text/plain": [
       "<Figure size 432x288 with 1 Axes>"
      ]
     },
     "metadata": {},
     "output_type": "display_data"
    }
   ],
   "source": [
    "lrs, losses = classifier.lr_find(trn_dl, lr_low=1e-8, lr_high=1e-2, epochs=1)\n",
    "plt.plot(lrs[:60], losses[:60])"
   ]
  },
  {
   "cell_type": "code",
   "execution_count": 180,
   "metadata": {},
   "outputs": [
    {
     "data": {
      "text/plain": [
       "[<matplotlib.lines.Line2D at 0x7fa865991470>]"
      ]
     },
     "execution_count": 180,
     "metadata": {},
     "output_type": "execute_result"
    },
    {
     "data": {
      "image/png": "[encoded data removed]",
      "text/plain": [
       "<Figure size 432x288 with 1 Axes>"
      ]
     },
     "metadata": {},
     "output_type": "display_data"
    }
   ],
   "source": [
    "plt.plot(lrs, losses)"
   ]
  },
  {
   "cell_type": "code",
   "execution_count": 181,
   "metadata": {
    "scrolled": true
   },
   "outputs": [
    {
     "data": {
      "application/vnd.jupyter.widget-view+json": {
       "model_id": "5efed927270b499c8b2ab5cd44ddbf21",
       "version_major": 2,
       "version_minor": 0
      },
      "text/html": [
       "<p>Failed to display Jupyter Widget of type <code>HBox</code>.</p>\n",
       "<p>\n",
       "  If you're reading this message in the Jupyter Notebook or JupyterLab Notebook, it may mean\n",
       "  that the widgets JavaScript is still loading. If this message persists, it\n",
       "  likely means that the widgets JavaScript library is either not installed or\n",
       "  not enabled. See the <a href=\"https://ipywidgets.readthedocs.io/en/stable/user_install.html\">Jupyter\n",
       "  Widgets Documentation</a> for setup instructions.\n",
       "</p>\n",
       "<p>\n",
       "  If you're reading this message in another frontend (for example, a static\n",
       "  rendering on GitHub or <a href=\"https://nbviewer.jupyter.org/\">NBViewer</a>),\n",
       "  it may mean that your frontend doesn't currently support widgets.\n",
       "</p>\n"
      ],
      "text/plain": [
       "HBox(children=(IntProgress(value=0, max=40), HTML(value='')))"
      ]
     },
     "metadata": {},
     "output_type": "display_data"
    },
    {
     "name": "stdout",
     "output_type": "stream",
     "text": [
      "\n",
      "Epoch: 1\n",
      "lang_loss2 : [9.144, 8.875]        lang_loss2 : [9.144, 8.875]\n",
      "\n"
     ]
    },
    {
     "data": {
      "application/vnd.jupyter.widget-view+json": {
       "model_id": "9334104c57ab4adbb62d122631843760",
       "version_major": 2,
       "version_minor": 0
      },
      "text/html": [
       "<p>Failed to display Jupyter Widget of type <code>HBox</code>.</p>\n",
       "<p>\n",
       "  If you're reading this message in the Jupyter Notebook or JupyterLab Notebook, it may mean\n",
       "  that the widgets JavaScript is still loading. If this message persists, it\n",
       "  likely means that the widgets JavaScript library is either not installed or\n",
       "  not enabled. See the <a href=\"https://ipywidgets.readthedocs.io/en/stable/user_install.html\">Jupyter\n",
       "  Widgets Documentation</a> for setup instructions.\n",
       "</p>\n",
       "<p>\n",
       "  If you're reading this message in another frontend (for example, a static\n",
       "  rendering on GitHub or <a href=\"https://nbviewer.jupyter.org/\">NBViewer</a>),\n",
       "  it may mean that your frontend doesn't currently support widgets.\n",
       "</p>\n"
      ],
      "text/plain": [
       "HBox(children=(IntProgress(value=0, max=40), HTML(value='')))"
      ]
     },
     "metadata": {},
     "output_type": "display_data"
    },
    {
     "name": "stdout",
     "output_type": "stream",
     "text": [
      "\n",
      "Epoch: 2\n",
      "lang_loss2 : [8.75, 8.76]        lang_loss2 : [8.75, 8.76]\n",
      "\n"
     ]
    },
    {
     "data": {
      "application/vnd.jupyter.widget-view+json": {
       "model_id": "b1d56d99014d43759420ec9898fe1fd8",
       "version_major": 2,
       "version_minor": 0
      },
      "text/html": [
       "<p>Failed to display Jupyter Widget of type <code>HBox</code>.</p>\n",
       "<p>\n",
       "  If you're reading this message in the Jupyter Notebook or JupyterLab Notebook, it may mean\n",
       "  that the widgets JavaScript is still loading. If this message persists, it\n",
       "  likely means that the widgets JavaScript library is either not installed or\n",
       "  not enabled. See the <a href=\"https://ipywidgets.readthedocs.io/en/stable/user_install.html\">Jupyter\n",
       "  Widgets Documentation</a> for setup instructions.\n",
       "</p>\n",
       "<p>\n",
       "  If you're reading this message in another frontend (for example, a static\n",
       "  rendering on GitHub or <a href=\"https://nbviewer.jupyter.org/\">NBViewer</a>),\n",
       "  it may mean that your frontend doesn't currently support widgets.\n",
       "</p>\n"
      ],
      "text/plain": [
       "HBox(children=(IntProgress(value=0, max=40), HTML(value='')))"
      ]
     },
     "metadata": {},
     "output_type": "display_data"
    },
    {
     "name": "stdout",
     "output_type": "stream",
     "text": [
      "\n",
      "Epoch: 3\n",
      "lang_loss2 : [8.671, 8.737]        lang_loss2 : [8.671, 8.737]\n",
      "\n"
     ]
    },
    {
     "data": {
      "application/vnd.jupyter.widget-view+json": {
       "model_id": "d6285d5ea41a4113925f464b4458a868",
       "version_major": 2,
       "version_minor": 0
      },
      "text/html": [
       "<p>Failed to display Jupyter Widget of type <code>HBox</code>.</p>\n",
       "<p>\n",
       "  If you're reading this message in the Jupyter Notebook or JupyterLab Notebook, it may mean\n",
       "  that the widgets JavaScript is still loading. If this message persists, it\n",
       "  likely means that the widgets JavaScript library is either not installed or\n",
       "  not enabled. See the <a href=\"https://ipywidgets.readthedocs.io/en/stable/user_install.html\">Jupyter\n",
       "  Widgets Documentation</a> for setup instructions.\n",
       "</p>\n",
       "<p>\n",
       "  If you're reading this message in another frontend (for example, a static\n",
       "  rendering on GitHub or <a href=\"https://nbviewer.jupyter.org/\">NBViewer</a>),\n",
       "  it may mean that your frontend doesn't currently support widgets.\n",
       "</p>\n"
      ],
      "text/plain": [
       "HBox(children=(IntProgress(value=0, max=40), HTML(value='')))"
      ]
     },
     "metadata": {},
     "output_type": "display_data"
    },
    {
     "name": "stdout",
     "output_type": "stream",
     "text": [
      "\n",
      "Epoch: 4\n",
      "lang_loss2 : [8.637, 8.713]        lang_loss2 : [8.637, 8.713]\n",
      "\n"
     ]
    },
    {
     "data": {
      "application/vnd.jupyter.widget-view+json": {
       "model_id": "d3a2ceb81cc64aa5bf0742e127a47926",
       "version_major": 2,
       "version_minor": 0
      },
      "text/html": [
       "<p>Failed to display Jupyter Widget of type <code>HBox</code>.</p>\n",
       "<p>\n",
       "  If you're reading this message in the Jupyter Notebook or JupyterLab Notebook, it may mean\n",
       "  that the widgets JavaScript is still loading. If this message persists, it\n",
       "  likely means that the widgets JavaScript library is either not installed or\n",
       "  not enabled. See the <a href=\"https://ipywidgets.readthedocs.io/en/stable/user_install.html\">Jupyter\n",
       "  Widgets Documentation</a> for setup instructions.\n",
       "</p>\n",
       "<p>\n",
       "  If you're reading this message in another frontend (for example, a static\n",
       "  rendering on GitHub or <a href=\"https://nbviewer.jupyter.org/\">NBViewer</a>),\n",
       "  it may mean that your frontend doesn't currently support widgets.\n",
       "</p>\n"
      ],
      "text/plain": [
       "HBox(children=(IntProgress(value=0, max=40), HTML(value='')))"
      ]
     },
     "metadata": {},
     "output_type": "display_data"
    },
    {
     "name": "stdout",
     "output_type": "stream",
     "text": [
      "\n",
      "Epoch: 5\n",
      "lang_loss2 : [8.62, 8.713]        lang_loss2 : [8.62, 8.713]\n",
      "\n"
     ]
    }
   ],
   "source": [
    "classifier.train(0.006, 0, trn_dl, val_dl, 5)"
   ]
  },
  {
   "cell_type": "code",
   "execution_count": 182,
   "metadata": {},
   "outputs": [
    {
     "data": {
      "image/png": "[encoded data removed]",
      "text/plain": [
       "<Figure size 1296x1080 with 2 Axes>"
      ]
     },
     "metadata": {},
     "output_type": "display_data"
    }
   ],
   "source": [
    "classifier.plot_loss_metric()"
   ]
  },
  {
   "cell_type": "markdown",
   "metadata": {},
   "source": [
    "https://arxiv.org/pdf/1411.4555.pdf"
   ]
  },
  {
   "cell_type": "code",
   "execution_count": 188,
   "metadata": {},
   "outputs": [],
   "source": [
    "def create_test_tensor(test_x):\n",
    "    return torch.tensor([vocab2index[w] for w in process_text(test_x)])[None, :]\n",
    "\n",
    "def sample_sentence(model, input_text, k=5, sentence_length=None, hidden_prev=None):\n",
    "    \"\"\"\n",
    "    Random top k sampling\n",
    "    input_text: arbitrary length input to start sampling from\n",
    "    TODO: generate with im features\n",
    "    \"\"\"\n",
    "    model = model.eval()\n",
    "    generated = input_text\n",
    "\n",
    "    # initial input - arbitrary size\n",
    "    input_text = create_test_tensor(input_text)\n",
    "    test_out, hidden_prev = model(input_text.cuda(), hidden_prev)\n",
    "    next_idx = torch.argmax(test_out.view(-1)).item()\n",
    "    next_word = idx2vocab[next_idx]\n",
    "    \n",
    "    if sentence_length is not None:\n",
    "        for i in range(sentence_length):\n",
    "            input_text = create_test_tensor(input_text)\n",
    "            test_out, hidden_prev = model(input_text.cuda(), hidden_prev)\n",
    "            test_out_np = (test_out.view(-1)).cpu().detach().numpy()\n",
    "            topk = np.argsort(test_out_np)[::-1][:k]\n",
    "            next_idx = np.random.choice(topk)\n",
    "            next_word = idx2vocab[next_idx]\n",
    "            generated += ' ' + next_word\n",
    "            test_x = create_test_tensor(next_word)\n",
    "            test_out, hidden_prev = model(test_x.cuda(), hidden_prev)\n",
    "    else:\n",
    "        next_word = None\n",
    "        while next_word != '<end>':\n",
    "            input_text = create_test_tensor(input_text)\n",
    "            test_out, hidden_prev = model(input_text.cuda(), hidden_prev)\n",
    "            test_out_np = (test_out.view(-1)).cpu().detach().numpy()\n",
    "            topk = np.argsort(test_out_np)[::-1][:k]\n",
    "            next_idx = np.random.choice(topk)\n",
    "            next_word = idx2vocab[next_idx]\n",
    "            generated += ' ' + next_word\n",
    "            test_x = create_test_tensor(next_word)\n",
    "            test_out, hidden_prev = model(test_x.cuda(), hidden_prev)\n",
    "    \n",
    "    return generated\n",
    "\n",
    "#TODO: Beam Search"
   ]
  },
  {
   "cell_type": "code",
   "execution_count": 189,
   "metadata": {},
   "outputs": [
    {
     "ename": "RuntimeError",
     "evalue": "cuda runtime error (77) : an illegal memory access was encountered at /opt/conda/conda-bld/pytorch_1524586445097/work/aten/src/THC/generic/THCTensorCopy.c:20",
     "output_type": "error",
     "traceback": [
      "\u001b[0;31m---------------------------------------------------------------------------\u001b[0m",
      "\u001b[0;31mRuntimeError\u001b[0m                              Traceback (most recent call last)",
      "\u001b[0;32m<ipython-input-189-ed6142aeb8a2>\u001b[0m in \u001b[0;36m<module>\u001b[0;34m()\u001b[0m\n\u001b[0;32m----> 1\u001b[0;31m \u001b[0msample_sentence\u001b[0m\u001b[0;34m(\u001b[0m\u001b[0mmodel\u001b[0m\u001b[0;34m,\u001b[0m \u001b[0minput_text\u001b[0m\u001b[0;34m=\u001b[0m\u001b[0;34m'Bird'\u001b[0m\u001b[0;34m,\u001b[0m \u001b[0mk\u001b[0m\u001b[0;34m=\u001b[0m\u001b[0;36m5\u001b[0m\u001b[0;34m,\u001b[0m \u001b[0msentence_length\u001b[0m\u001b[0;34m=\u001b[0m\u001b[0;36m10\u001b[0m\u001b[0;34m,\u001b[0m \u001b[0mhidden_prev\u001b[0m\u001b[0;34m=\u001b[0m\u001b[0mx\u001b[0m\u001b[0;34m[\u001b[0m\u001b[0;36m1\u001b[0m\u001b[0;34m]\u001b[0m\u001b[0;34m[\u001b[0m\u001b[0;36m0\u001b[0m\u001b[0;34m]\u001b[0m\u001b[0;34m[\u001b[0m\u001b[0;32mNone\u001b[0m\u001b[0;34m,\u001b[0m \u001b[0;34m:\u001b[0m\u001b[0;34m]\u001b[0m\u001b[0;34m)\u001b[0m\u001b[0;34m\u001b[0m\u001b[0m\n\u001b[0m",
      "\u001b[0;32m<ipython-input-188-ef0202e5ff99>\u001b[0m in \u001b[0;36msample_sentence\u001b[0;34m(model, input_text, k, sentence_length, hidden_prev)\u001b[0m\n\u001b[1;32m     13\u001b[0m     \u001b[0;31m# initial input - arbitrary size\u001b[0m\u001b[0;34m\u001b[0m\u001b[0;34m\u001b[0m\u001b[0m\n\u001b[1;32m     14\u001b[0m     \u001b[0minput_text\u001b[0m \u001b[0;34m=\u001b[0m \u001b[0mcreate_test_tensor\u001b[0m\u001b[0;34m(\u001b[0m\u001b[0minput_text\u001b[0m\u001b[0;34m)\u001b[0m\u001b[0;34m\u001b[0m\u001b[0m\n\u001b[0;32m---> 15\u001b[0;31m     \u001b[0mtest_out\u001b[0m\u001b[0;34m,\u001b[0m \u001b[0mhidden_prev\u001b[0m \u001b[0;34m=\u001b[0m \u001b[0mmodel\u001b[0m\u001b[0;34m(\u001b[0m\u001b[0minput_text\u001b[0m\u001b[0;34m.\u001b[0m\u001b[0mcuda\u001b[0m\u001b[0;34m(\u001b[0m\u001b[0;34m)\u001b[0m\u001b[0;34m,\u001b[0m \u001b[0mhidden_prev\u001b[0m\u001b[0;34m)\u001b[0m\u001b[0;34m\u001b[0m\u001b[0m\n\u001b[0m\u001b[1;32m     16\u001b[0m     \u001b[0mnext_idx\u001b[0m \u001b[0;34m=\u001b[0m \u001b[0mtorch\u001b[0m\u001b[0;34m.\u001b[0m\u001b[0margmax\u001b[0m\u001b[0;34m(\u001b[0m\u001b[0mtest_out\u001b[0m\u001b[0;34m.\u001b[0m\u001b[0mview\u001b[0m\u001b[0;34m(\u001b[0m\u001b[0;34m-\u001b[0m\u001b[0;36m1\u001b[0m\u001b[0;34m)\u001b[0m\u001b[0;34m)\u001b[0m\u001b[0;34m.\u001b[0m\u001b[0mitem\u001b[0m\u001b[0;34m(\u001b[0m\u001b[0;34m)\u001b[0m\u001b[0;34m\u001b[0m\u001b[0m\n\u001b[1;32m     17\u001b[0m     \u001b[0mnext_word\u001b[0m \u001b[0;34m=\u001b[0m \u001b[0midx2vocab\u001b[0m\u001b[0;34m[\u001b[0m\u001b[0mnext_idx\u001b[0m\u001b[0;34m]\u001b[0m\u001b[0;34m\u001b[0m\u001b[0m\n",
      "\u001b[0;31mRuntimeError\u001b[0m: cuda runtime error (77) : an illegal memory access was encountered at /opt/conda/conda-bld/pytorch_1524586445097/work/aten/src/THC/generic/THCTensorCopy.c:20"
     ]
    }
   ],
   "source": [
    "sample_sentence(model, input_text='Bird', k=5, sentence_length=10, hidden_prev=x[1][0][None, :])"
   ]
  },
  {
   "cell_type": "code",
   "execution_count": null,
   "metadata": {},
   "outputs": [],
   "source": []
  }
 ],
 "metadata": {
  "kernelspec": {
   "display_name": "Python 3",
   "language": "python",
   "name": "python3"
  },
  "language_info": {
   "codemirror_mode": {
    "name": "ipython",
    "version": 3
   },
   "file_extension": ".py",
   "mimetype": "text/x-python",
   "name": "python",
   "nbconvert_exporter": "python",
   "pygments_lexer": "ipython3",
   "version": "3.6.3"
  }
 },
 "nbformat": 4,
 "nbformat_minor": 2
}
